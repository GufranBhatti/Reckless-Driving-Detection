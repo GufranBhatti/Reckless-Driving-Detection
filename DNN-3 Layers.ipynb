{
 "cells": [
  {
   "cell_type": "code",
   "execution_count": 1,
   "metadata": {
    "collapsed": true,
    "pycharm": {
     "name": "#%%\n"
    }
   },
   "outputs": [],
   "source": [
    "import pandas as pd\n",
    "import numpy as np\n",
    "from datetime import datetime\n",
    "import matplotlib.pyplot as plt"
   ]
  },
  {
   "cell_type": "code",
   "execution_count": 2,
   "outputs": [
    {
     "data": {
      "text/plain": "   Longitude   Latitude  Speed      Distance      Time     Acc X     Acc Y  \\\n0  73.831324  18.518700   1.29  8.312031e+06  17-14-53  0.046402 -0.137178   \n1  73.831324  18.518700   1.29  8.312031e+06  17-14-53 -0.136978  0.365242   \n2  73.831324  18.518700   1.29  8.312031e+06  17-14-53 -0.045355 -0.103340   \n3  73.831201  18.518714   0.31  1.302423e+01  17-14-53  0.242089  0.072761   \n4  73.831201  18.518714   0.31  1.302423e+01  17-14-53 -0.230234  0.011765   \n\n      Acc Z  Heading    gyro_x    gyro_y    gyro_z  \n0 -0.282934    265.0 -0.036306 -0.008226 -0.023416  \n1  0.108889    266.0  0.035776 -0.009448  0.009570  \n2 -0.534985    266.0 -0.011871 -0.027774  0.003462  \n3 -0.350396    266.0 -0.017980  0.002769 -0.005091  \n4 -0.494085    266.0  0.011342  0.003380  0.006516  ",
      "text/html": "<div>\n<style scoped>\n    .dataframe tbody tr th:only-of-type {\n        vertical-align: middle;\n    }\n\n    .dataframe tbody tr th {\n        vertical-align: top;\n    }\n\n    .dataframe thead th {\n        text-align: right;\n    }\n</style>\n<table border=\"1\" class=\"dataframe\">\n  <thead>\n    <tr style=\"text-align: right;\">\n      <th></th>\n      <th>Longitude</th>\n      <th>Latitude</th>\n      <th>Speed</th>\n      <th>Distance</th>\n      <th>Time</th>\n      <th>Acc X</th>\n      <th>Acc Y</th>\n      <th>Acc Z</th>\n      <th>Heading</th>\n      <th>gyro_x</th>\n      <th>gyro_y</th>\n      <th>gyro_z</th>\n    </tr>\n  </thead>\n  <tbody>\n    <tr>\n      <th>0</th>\n      <td>73.831324</td>\n      <td>18.518700</td>\n      <td>1.29</td>\n      <td>8.312031e+06</td>\n      <td>17-14-53</td>\n      <td>0.046402</td>\n      <td>-0.137178</td>\n      <td>-0.282934</td>\n      <td>265.0</td>\n      <td>-0.036306</td>\n      <td>-0.008226</td>\n      <td>-0.023416</td>\n    </tr>\n    <tr>\n      <th>1</th>\n      <td>73.831324</td>\n      <td>18.518700</td>\n      <td>1.29</td>\n      <td>8.312031e+06</td>\n      <td>17-14-53</td>\n      <td>-0.136978</td>\n      <td>0.365242</td>\n      <td>0.108889</td>\n      <td>266.0</td>\n      <td>0.035776</td>\n      <td>-0.009448</td>\n      <td>0.009570</td>\n    </tr>\n    <tr>\n      <th>2</th>\n      <td>73.831324</td>\n      <td>18.518700</td>\n      <td>1.29</td>\n      <td>8.312031e+06</td>\n      <td>17-14-53</td>\n      <td>-0.045355</td>\n      <td>-0.103340</td>\n      <td>-0.534985</td>\n      <td>266.0</td>\n      <td>-0.011871</td>\n      <td>-0.027774</td>\n      <td>0.003462</td>\n    </tr>\n    <tr>\n      <th>3</th>\n      <td>73.831201</td>\n      <td>18.518714</td>\n      <td>0.31</td>\n      <td>1.302423e+01</td>\n      <td>17-14-53</td>\n      <td>0.242089</td>\n      <td>0.072761</td>\n      <td>-0.350396</td>\n      <td>266.0</td>\n      <td>-0.017980</td>\n      <td>0.002769</td>\n      <td>-0.005091</td>\n    </tr>\n    <tr>\n      <th>4</th>\n      <td>73.831201</td>\n      <td>18.518714</td>\n      <td>0.31</td>\n      <td>1.302423e+01</td>\n      <td>17-14-53</td>\n      <td>-0.230234</td>\n      <td>0.011765</td>\n      <td>-0.494085</td>\n      <td>266.0</td>\n      <td>0.011342</td>\n      <td>0.003380</td>\n      <td>0.006516</td>\n    </tr>\n  </tbody>\n</table>\n</div>"
     },
     "execution_count": 2,
     "metadata": {},
     "output_type": "execute_result"
    }
   ],
   "source": [
    "data1 = pd.read_csv(r\"1_20210317_171452.csv\")\n",
    "data1.head()"
   ],
   "metadata": {
    "collapsed": false,
    "pycharm": {
     "name": "#%%\n"
    }
   }
  },
  {
   "cell_type": "code",
   "execution_count": 3,
   "outputs": [
    {
     "data": {
      "text/plain": "   Longitude   Latitude  Speed  Distance      Time     Acc X     Acc Y  \\\n0  73.822661  18.501627    0.0       0.0  18-45-12 -0.271978  0.239697   \n1  73.822661  18.501627    0.0       0.0  18-45-12 -0.203242  0.330358   \n2  73.822661  18.501627    0.0       0.0  18-45-13 -0.052430  0.283010   \n3  73.822661  18.501627    0.0       0.0  18-45-13  0.046597  0.181215   \n4  73.822661  18.501627    0.0       0.0  18-45-13  0.038631  0.341300   \n\n      Acc Z  Heading    gyro_x    gyro_y    gyro_z  \n0 -0.870133    352.0  0.022826 -0.035573  0.012482  \n1  0.822501    352.0 -0.024821  0.045672 -0.016229  \n2 -0.348588    352.0 -0.071247  0.027346 -0.015618  \n3 -1.068336    352.0  0.028324 -0.009306 -0.015007  \n4  0.365102    352.0  0.022215 -0.015414  0.014315  ",
      "text/html": "<div>\n<style scoped>\n    .dataframe tbody tr th:only-of-type {\n        vertical-align: middle;\n    }\n\n    .dataframe tbody tr th {\n        vertical-align: top;\n    }\n\n    .dataframe thead th {\n        text-align: right;\n    }\n</style>\n<table border=\"1\" class=\"dataframe\">\n  <thead>\n    <tr style=\"text-align: right;\">\n      <th></th>\n      <th>Longitude</th>\n      <th>Latitude</th>\n      <th>Speed</th>\n      <th>Distance</th>\n      <th>Time</th>\n      <th>Acc X</th>\n      <th>Acc Y</th>\n      <th>Acc Z</th>\n      <th>Heading</th>\n      <th>gyro_x</th>\n      <th>gyro_y</th>\n      <th>gyro_z</th>\n    </tr>\n  </thead>\n  <tbody>\n    <tr>\n      <th>0</th>\n      <td>73.822661</td>\n      <td>18.501627</td>\n      <td>0.0</td>\n      <td>0.0</td>\n      <td>18-45-12</td>\n      <td>-0.271978</td>\n      <td>0.239697</td>\n      <td>-0.870133</td>\n      <td>352.0</td>\n      <td>0.022826</td>\n      <td>-0.035573</td>\n      <td>0.012482</td>\n    </tr>\n    <tr>\n      <th>1</th>\n      <td>73.822661</td>\n      <td>18.501627</td>\n      <td>0.0</td>\n      <td>0.0</td>\n      <td>18-45-12</td>\n      <td>-0.203242</td>\n      <td>0.330358</td>\n      <td>0.822501</td>\n      <td>352.0</td>\n      <td>-0.024821</td>\n      <td>0.045672</td>\n      <td>-0.016229</td>\n    </tr>\n    <tr>\n      <th>2</th>\n      <td>73.822661</td>\n      <td>18.501627</td>\n      <td>0.0</td>\n      <td>0.0</td>\n      <td>18-45-13</td>\n      <td>-0.052430</td>\n      <td>0.283010</td>\n      <td>-0.348588</td>\n      <td>352.0</td>\n      <td>-0.071247</td>\n      <td>0.027346</td>\n      <td>-0.015618</td>\n    </tr>\n    <tr>\n      <th>3</th>\n      <td>73.822661</td>\n      <td>18.501627</td>\n      <td>0.0</td>\n      <td>0.0</td>\n      <td>18-45-13</td>\n      <td>0.046597</td>\n      <td>0.181215</td>\n      <td>-1.068336</td>\n      <td>352.0</td>\n      <td>0.028324</td>\n      <td>-0.009306</td>\n      <td>-0.015007</td>\n    </tr>\n    <tr>\n      <th>4</th>\n      <td>73.822661</td>\n      <td>18.501627</td>\n      <td>0.0</td>\n      <td>0.0</td>\n      <td>18-45-13</td>\n      <td>0.038631</td>\n      <td>0.341300</td>\n      <td>0.365102</td>\n      <td>352.0</td>\n      <td>0.022215</td>\n      <td>-0.015414</td>\n      <td>0.014315</td>\n    </tr>\n  </tbody>\n</table>\n</div>"
     },
     "execution_count": 3,
     "metadata": {},
     "output_type": "execute_result"
    }
   ],
   "source": [
    "data2 = pd.read_csv(r\"2_20210317_184512.csv\")\n",
    "data2.head()"
   ],
   "metadata": {
    "collapsed": false,
    "pycharm": {
     "name": "#%%\n"
    }
   }
  },
  {
   "cell_type": "code",
   "execution_count": 4,
   "outputs": [
    {
     "data": {
      "text/plain": "      Acc X     Acc Y     Acc Z    gyro_x    gyro_y    gyro_z  label\n0  0.046402 -0.137178 -0.282934 -0.036306 -0.008226 -0.023416      0\n1 -0.136978  0.365242  0.108889  0.035776 -0.009448  0.009570      0\n2 -0.045355 -0.103340 -0.534985 -0.011871 -0.027774  0.003462      0\n3  0.242089  0.072761 -0.350396 -0.017980  0.002769 -0.005091      0\n4 -0.230234  0.011765 -0.494085  0.011342  0.003380  0.006516      0",
      "text/html": "<div>\n<style scoped>\n    .dataframe tbody tr th:only-of-type {\n        vertical-align: middle;\n    }\n\n    .dataframe tbody tr th {\n        vertical-align: top;\n    }\n\n    .dataframe thead th {\n        text-align: right;\n    }\n</style>\n<table border=\"1\" class=\"dataframe\">\n  <thead>\n    <tr style=\"text-align: right;\">\n      <th></th>\n      <th>Acc X</th>\n      <th>Acc Y</th>\n      <th>Acc Z</th>\n      <th>gyro_x</th>\n      <th>gyro_y</th>\n      <th>gyro_z</th>\n      <th>label</th>\n    </tr>\n  </thead>\n  <tbody>\n    <tr>\n      <th>0</th>\n      <td>0.046402</td>\n      <td>-0.137178</td>\n      <td>-0.282934</td>\n      <td>-0.036306</td>\n      <td>-0.008226</td>\n      <td>-0.023416</td>\n      <td>0</td>\n    </tr>\n    <tr>\n      <th>1</th>\n      <td>-0.136978</td>\n      <td>0.365242</td>\n      <td>0.108889</td>\n      <td>0.035776</td>\n      <td>-0.009448</td>\n      <td>0.009570</td>\n      <td>0</td>\n    </tr>\n    <tr>\n      <th>2</th>\n      <td>-0.045355</td>\n      <td>-0.103340</td>\n      <td>-0.534985</td>\n      <td>-0.011871</td>\n      <td>-0.027774</td>\n      <td>0.003462</td>\n      <td>0</td>\n    </tr>\n    <tr>\n      <th>3</th>\n      <td>0.242089</td>\n      <td>0.072761</td>\n      <td>-0.350396</td>\n      <td>-0.017980</td>\n      <td>0.002769</td>\n      <td>-0.005091</td>\n      <td>0</td>\n    </tr>\n    <tr>\n      <th>4</th>\n      <td>-0.230234</td>\n      <td>0.011765</td>\n      <td>-0.494085</td>\n      <td>0.011342</td>\n      <td>0.003380</td>\n      <td>0.006516</td>\n      <td>0</td>\n    </tr>\n  </tbody>\n</table>\n</div>"
     },
     "execution_count": 4,
     "metadata": {},
     "output_type": "execute_result"
    }
   ],
   "source": [
    "data = pd.read_csv(r\"FinalDatasetCsv.csv\")\n",
    "data.head()"
   ],
   "metadata": {
    "collapsed": false,
    "pycharm": {
     "name": "#%%\n"
    }
   }
  },
  {
   "cell_type": "code",
   "execution_count": 5,
   "outputs": [
    {
     "data": {
      "text/plain": "   Longitude   Latitude  Speed      Distance      Time     Acc X     Acc Y  \\\n0  73.831324  18.518700   1.29  8.312031e+06  17-14-53  0.046402 -0.137178   \n1  73.831324  18.518700   1.29  8.312031e+06  17-14-53 -0.136978  0.365242   \n2  73.831324  18.518700   1.29  8.312031e+06  17-14-53 -0.045355 -0.103340   \n3  73.831201  18.518714   0.31  1.302423e+01  17-14-53  0.242089  0.072761   \n4  73.831201  18.518714   0.31  1.302423e+01  17-14-53 -0.230234  0.011765   \n\n      Acc Z  Heading    gyro_x    gyro_y    gyro_z  \n0 -0.282934    265.0 -0.036306 -0.008226 -0.023416  \n1  0.108889    266.0  0.035776 -0.009448  0.009570  \n2 -0.534985    266.0 -0.011871 -0.027774  0.003462  \n3 -0.350396    266.0 -0.017980  0.002769 -0.005091  \n4 -0.494085    266.0  0.011342  0.003380  0.006516  ",
      "text/html": "<div>\n<style scoped>\n    .dataframe tbody tr th:only-of-type {\n        vertical-align: middle;\n    }\n\n    .dataframe tbody tr th {\n        vertical-align: top;\n    }\n\n    .dataframe thead th {\n        text-align: right;\n    }\n</style>\n<table border=\"1\" class=\"dataframe\">\n  <thead>\n    <tr style=\"text-align: right;\">\n      <th></th>\n      <th>Longitude</th>\n      <th>Latitude</th>\n      <th>Speed</th>\n      <th>Distance</th>\n      <th>Time</th>\n      <th>Acc X</th>\n      <th>Acc Y</th>\n      <th>Acc Z</th>\n      <th>Heading</th>\n      <th>gyro_x</th>\n      <th>gyro_y</th>\n      <th>gyro_z</th>\n    </tr>\n  </thead>\n  <tbody>\n    <tr>\n      <th>0</th>\n      <td>73.831324</td>\n      <td>18.518700</td>\n      <td>1.29</td>\n      <td>8.312031e+06</td>\n      <td>17-14-53</td>\n      <td>0.046402</td>\n      <td>-0.137178</td>\n      <td>-0.282934</td>\n      <td>265.0</td>\n      <td>-0.036306</td>\n      <td>-0.008226</td>\n      <td>-0.023416</td>\n    </tr>\n    <tr>\n      <th>1</th>\n      <td>73.831324</td>\n      <td>18.518700</td>\n      <td>1.29</td>\n      <td>8.312031e+06</td>\n      <td>17-14-53</td>\n      <td>-0.136978</td>\n      <td>0.365242</td>\n      <td>0.108889</td>\n      <td>266.0</td>\n      <td>0.035776</td>\n      <td>-0.009448</td>\n      <td>0.009570</td>\n    </tr>\n    <tr>\n      <th>2</th>\n      <td>73.831324</td>\n      <td>18.518700</td>\n      <td>1.29</td>\n      <td>8.312031e+06</td>\n      <td>17-14-53</td>\n      <td>-0.045355</td>\n      <td>-0.103340</td>\n      <td>-0.534985</td>\n      <td>266.0</td>\n      <td>-0.011871</td>\n      <td>-0.027774</td>\n      <td>0.003462</td>\n    </tr>\n    <tr>\n      <th>3</th>\n      <td>73.831201</td>\n      <td>18.518714</td>\n      <td>0.31</td>\n      <td>1.302423e+01</td>\n      <td>17-14-53</td>\n      <td>0.242089</td>\n      <td>0.072761</td>\n      <td>-0.350396</td>\n      <td>266.0</td>\n      <td>-0.017980</td>\n      <td>0.002769</td>\n      <td>-0.005091</td>\n    </tr>\n    <tr>\n      <th>4</th>\n      <td>73.831201</td>\n      <td>18.518714</td>\n      <td>0.31</td>\n      <td>1.302423e+01</td>\n      <td>17-14-53</td>\n      <td>-0.230234</td>\n      <td>0.011765</td>\n      <td>-0.494085</td>\n      <td>266.0</td>\n      <td>0.011342</td>\n      <td>0.003380</td>\n      <td>0.006516</td>\n    </tr>\n  </tbody>\n</table>\n</div>"
     },
     "execution_count": 5,
     "metadata": {},
     "output_type": "execute_result"
    }
   ],
   "source": [
    "df_final = pd.concat([data1,data2])\n",
    "df_final.head()"
   ],
   "metadata": {
    "collapsed": false,
    "pycharm": {
     "name": "#%%\n"
    }
   }
  },
  {
   "cell_type": "code",
   "execution_count": 6,
   "outputs": [],
   "source": [
    "df_final['label'] = data['label']"
   ],
   "metadata": {
    "collapsed": false,
    "pycharm": {
     "name": "#%%\n"
    }
   }
  },
  {
   "cell_type": "code",
   "execution_count": 7,
   "outputs": [],
   "source": [
    "df_final.set_index('Time', inplace=True)"
   ],
   "metadata": {
    "collapsed": false,
    "pycharm": {
     "name": "#%%\n"
    }
   }
  },
  {
   "cell_type": "code",
   "execution_count": 8,
   "outputs": [
    {
     "data": {
      "text/plain": "          Longitude   Latitude  Speed      Distance     Acc X     Acc Y  \\\nTime                                                                      \n17-14-53  73.831324  18.518700   1.29  8.312031e+06  0.046402 -0.137178   \n17-14-53  73.831324  18.518700   1.29  8.312031e+06 -0.136978  0.365242   \n17-14-53  73.831324  18.518700   1.29  8.312031e+06 -0.045355 -0.103340   \n17-14-53  73.831201  18.518714   0.31  1.302423e+01  0.242089  0.072761   \n17-14-53  73.831201  18.518714   0.31  1.302423e+01 -0.230234  0.011765   \n\n             Acc Z  Heading    gyro_x    gyro_y    gyro_z  label  \nTime                                                              \n17-14-53 -0.282934    265.0 -0.036306 -0.008226 -0.023416      0  \n17-14-53  0.108889    266.0  0.035776 -0.009448  0.009570      0  \n17-14-53 -0.534985    266.0 -0.011871 -0.027774  0.003462      0  \n17-14-53 -0.350396    266.0 -0.017980  0.002769 -0.005091      0  \n17-14-53 -0.494085    266.0  0.011342  0.003380  0.006516      0  ",
      "text/html": "<div>\n<style scoped>\n    .dataframe tbody tr th:only-of-type {\n        vertical-align: middle;\n    }\n\n    .dataframe tbody tr th {\n        vertical-align: top;\n    }\n\n    .dataframe thead th {\n        text-align: right;\n    }\n</style>\n<table border=\"1\" class=\"dataframe\">\n  <thead>\n    <tr style=\"text-align: right;\">\n      <th></th>\n      <th>Longitude</th>\n      <th>Latitude</th>\n      <th>Speed</th>\n      <th>Distance</th>\n      <th>Acc X</th>\n      <th>Acc Y</th>\n      <th>Acc Z</th>\n      <th>Heading</th>\n      <th>gyro_x</th>\n      <th>gyro_y</th>\n      <th>gyro_z</th>\n      <th>label</th>\n    </tr>\n    <tr>\n      <th>Time</th>\n      <th></th>\n      <th></th>\n      <th></th>\n      <th></th>\n      <th></th>\n      <th></th>\n      <th></th>\n      <th></th>\n      <th></th>\n      <th></th>\n      <th></th>\n      <th></th>\n    </tr>\n  </thead>\n  <tbody>\n    <tr>\n      <th>17-14-53</th>\n      <td>73.831324</td>\n      <td>18.518700</td>\n      <td>1.29</td>\n      <td>8.312031e+06</td>\n      <td>0.046402</td>\n      <td>-0.137178</td>\n      <td>-0.282934</td>\n      <td>265.0</td>\n      <td>-0.036306</td>\n      <td>-0.008226</td>\n      <td>-0.023416</td>\n      <td>0</td>\n    </tr>\n    <tr>\n      <th>17-14-53</th>\n      <td>73.831324</td>\n      <td>18.518700</td>\n      <td>1.29</td>\n      <td>8.312031e+06</td>\n      <td>-0.136978</td>\n      <td>0.365242</td>\n      <td>0.108889</td>\n      <td>266.0</td>\n      <td>0.035776</td>\n      <td>-0.009448</td>\n      <td>0.009570</td>\n      <td>0</td>\n    </tr>\n    <tr>\n      <th>17-14-53</th>\n      <td>73.831324</td>\n      <td>18.518700</td>\n      <td>1.29</td>\n      <td>8.312031e+06</td>\n      <td>-0.045355</td>\n      <td>-0.103340</td>\n      <td>-0.534985</td>\n      <td>266.0</td>\n      <td>-0.011871</td>\n      <td>-0.027774</td>\n      <td>0.003462</td>\n      <td>0</td>\n    </tr>\n    <tr>\n      <th>17-14-53</th>\n      <td>73.831201</td>\n      <td>18.518714</td>\n      <td>0.31</td>\n      <td>1.302423e+01</td>\n      <td>0.242089</td>\n      <td>0.072761</td>\n      <td>-0.350396</td>\n      <td>266.0</td>\n      <td>-0.017980</td>\n      <td>0.002769</td>\n      <td>-0.005091</td>\n      <td>0</td>\n    </tr>\n    <tr>\n      <th>17-14-53</th>\n      <td>73.831201</td>\n      <td>18.518714</td>\n      <td>0.31</td>\n      <td>1.302423e+01</td>\n      <td>-0.230234</td>\n      <td>0.011765</td>\n      <td>-0.494085</td>\n      <td>266.0</td>\n      <td>0.011342</td>\n      <td>0.003380</td>\n      <td>0.006516</td>\n      <td>0</td>\n    </tr>\n  </tbody>\n</table>\n</div>"
     },
     "execution_count": 8,
     "metadata": {},
     "output_type": "execute_result"
    }
   ],
   "source": [
    "df_final.head()"
   ],
   "metadata": {
    "collapsed": false,
    "pycharm": {
     "name": "#%%\n"
    }
   }
  },
  {
   "cell_type": "code",
   "execution_count": 9,
   "outputs": [
    {
     "data": {
      "text/plain": "datetime.timedelta(seconds=6085)"
     },
     "execution_count": 9,
     "metadata": {},
     "output_type": "execute_result"
    }
   ],
   "source": [
    "s1 = '17:14:53'\n",
    "s2 = '18:56:18' # for example\n",
    "FMT = '%H:%M:%S'\n",
    "tdelta = datetime.strptime(s2, FMT) - datetime.strptime(s1, FMT)\n",
    "tdelta"
   ],
   "metadata": {
    "collapsed": false,
    "pycharm": {
     "name": "#%%\n"
    }
   }
  },
  {
   "cell_type": "code",
   "execution_count": 10,
   "outputs": [],
   "source": [
    "df_final = df_final.drop(['Longitude', 'Latitude', 'Distance', 'Heading'], axis=1)"
   ],
   "metadata": {
    "collapsed": false,
    "pycharm": {
     "name": "#%%\n"
    }
   }
  },
  {
   "cell_type": "code",
   "execution_count": 11,
   "outputs": [
    {
     "data": {
      "text/plain": "          Speed     Acc X     Acc Y     Acc Z    gyro_x    gyro_y    gyro_z  \\\nTime                                                                          \n17-14-53   1.29  0.046402 -0.137178 -0.282934 -0.036306 -0.008226 -0.023416   \n17-14-53   1.29 -0.136978  0.365242  0.108889  0.035776 -0.009448  0.009570   \n17-14-53   1.29 -0.045355 -0.103340 -0.534985 -0.011871 -0.027774  0.003462   \n17-14-53   0.31  0.242089  0.072761 -0.350396 -0.017980  0.002769 -0.005091   \n17-14-53   0.31 -0.230234  0.011765 -0.494085  0.011342  0.003380  0.006516   \n\n          label  \nTime             \n17-14-53      0  \n17-14-53      0  \n17-14-53      0  \n17-14-53      0  \n17-14-53      0  ",
      "text/html": "<div>\n<style scoped>\n    .dataframe tbody tr th:only-of-type {\n        vertical-align: middle;\n    }\n\n    .dataframe tbody tr th {\n        vertical-align: top;\n    }\n\n    .dataframe thead th {\n        text-align: right;\n    }\n</style>\n<table border=\"1\" class=\"dataframe\">\n  <thead>\n    <tr style=\"text-align: right;\">\n      <th></th>\n      <th>Speed</th>\n      <th>Acc X</th>\n      <th>Acc Y</th>\n      <th>Acc Z</th>\n      <th>gyro_x</th>\n      <th>gyro_y</th>\n      <th>gyro_z</th>\n      <th>label</th>\n    </tr>\n    <tr>\n      <th>Time</th>\n      <th></th>\n      <th></th>\n      <th></th>\n      <th></th>\n      <th></th>\n      <th></th>\n      <th></th>\n      <th></th>\n    </tr>\n  </thead>\n  <tbody>\n    <tr>\n      <th>17-14-53</th>\n      <td>1.29</td>\n      <td>0.046402</td>\n      <td>-0.137178</td>\n      <td>-0.282934</td>\n      <td>-0.036306</td>\n      <td>-0.008226</td>\n      <td>-0.023416</td>\n      <td>0</td>\n    </tr>\n    <tr>\n      <th>17-14-53</th>\n      <td>1.29</td>\n      <td>-0.136978</td>\n      <td>0.365242</td>\n      <td>0.108889</td>\n      <td>0.035776</td>\n      <td>-0.009448</td>\n      <td>0.009570</td>\n      <td>0</td>\n    </tr>\n    <tr>\n      <th>17-14-53</th>\n      <td>1.29</td>\n      <td>-0.045355</td>\n      <td>-0.103340</td>\n      <td>-0.534985</td>\n      <td>-0.011871</td>\n      <td>-0.027774</td>\n      <td>0.003462</td>\n      <td>0</td>\n    </tr>\n    <tr>\n      <th>17-14-53</th>\n      <td>0.31</td>\n      <td>0.242089</td>\n      <td>0.072761</td>\n      <td>-0.350396</td>\n      <td>-0.017980</td>\n      <td>0.002769</td>\n      <td>-0.005091</td>\n      <td>0</td>\n    </tr>\n    <tr>\n      <th>17-14-53</th>\n      <td>0.31</td>\n      <td>-0.230234</td>\n      <td>0.011765</td>\n      <td>-0.494085</td>\n      <td>0.011342</td>\n      <td>0.003380</td>\n      <td>0.006516</td>\n      <td>0</td>\n    </tr>\n  </tbody>\n</table>\n</div>"
     },
     "execution_count": 11,
     "metadata": {},
     "output_type": "execute_result"
    }
   ],
   "source": [
    "df_final.head()"
   ],
   "metadata": {
    "collapsed": false,
    "pycharm": {
     "name": "#%%\n"
    }
   }
  },
  {
   "cell_type": "code",
   "execution_count": 12,
   "outputs": [],
   "source": [
    "timestamps = df_final.index.unique()"
   ],
   "metadata": {
    "collapsed": false,
    "pycharm": {
     "name": "#%%\n"
    }
   }
  },
  {
   "cell_type": "code",
   "execution_count": 13,
   "outputs": [
    {
     "data": {
      "text/plain": "1    7872\n0    6377\nName: label, dtype: int64"
     },
     "execution_count": 13,
     "metadata": {},
     "output_type": "execute_result"
    }
   ],
   "source": [
    "df_final['label'].value_counts()"
   ],
   "metadata": {
    "collapsed": false,
    "pycharm": {
     "name": "#%%\n"
    }
   }
  },
  {
   "cell_type": "code",
   "execution_count": 14,
   "outputs": [],
   "source": [
    "X = df_final.drop(['label'], axis=1)\n",
    "y = df_final['label']"
   ],
   "metadata": {
    "collapsed": false,
    "pycharm": {
     "name": "#%%\n"
    }
   }
  },
  {
   "cell_type": "code",
   "execution_count": 15,
   "outputs": [
    {
     "data": {
      "text/plain": "          Speed     Acc X     Acc Y     Acc Z    gyro_x    gyro_y    gyro_z\nTime                                                                       \n17-14-53   1.29  0.046402 -0.137178 -0.282934 -0.036306 -0.008226 -0.023416\n17-14-53   1.29 -0.136978  0.365242  0.108889  0.035776 -0.009448  0.009570\n17-14-53   1.29 -0.045355 -0.103340 -0.534985 -0.011871 -0.027774  0.003462\n17-14-53   0.31  0.242089  0.072761 -0.350396 -0.017980  0.002769 -0.005091\n17-14-53   0.31 -0.230234  0.011765 -0.494085  0.011342  0.003380  0.006516\n...         ...       ...       ...       ...       ...       ...       ...\n18-56-18   0.00 -0.436406 -0.219264  0.397958 -0.051089 -0.001975 -0.058989\n18-56-18   0.00 -0.436406 -0.219264  0.397958 -0.001609  0.024903  0.000876\n18-56-18   0.00 -0.436406 -0.219264  0.397958 -0.001609  0.024903  0.000876\n18-56-18   0.00 -0.436406 -0.219264  0.397958 -0.001609  0.024903  0.000876\n18-56-18   0.00 -0.436406 -0.219264  0.397958 -0.001609  0.024903  0.000876\n\n[14249 rows x 7 columns]",
      "text/html": "<div>\n<style scoped>\n    .dataframe tbody tr th:only-of-type {\n        vertical-align: middle;\n    }\n\n    .dataframe tbody tr th {\n        vertical-align: top;\n    }\n\n    .dataframe thead th {\n        text-align: right;\n    }\n</style>\n<table border=\"1\" class=\"dataframe\">\n  <thead>\n    <tr style=\"text-align: right;\">\n      <th></th>\n      <th>Speed</th>\n      <th>Acc X</th>\n      <th>Acc Y</th>\n      <th>Acc Z</th>\n      <th>gyro_x</th>\n      <th>gyro_y</th>\n      <th>gyro_z</th>\n    </tr>\n    <tr>\n      <th>Time</th>\n      <th></th>\n      <th></th>\n      <th></th>\n      <th></th>\n      <th></th>\n      <th></th>\n      <th></th>\n    </tr>\n  </thead>\n  <tbody>\n    <tr>\n      <th>17-14-53</th>\n      <td>1.29</td>\n      <td>0.046402</td>\n      <td>-0.137178</td>\n      <td>-0.282934</td>\n      <td>-0.036306</td>\n      <td>-0.008226</td>\n      <td>-0.023416</td>\n    </tr>\n    <tr>\n      <th>17-14-53</th>\n      <td>1.29</td>\n      <td>-0.136978</td>\n      <td>0.365242</td>\n      <td>0.108889</td>\n      <td>0.035776</td>\n      <td>-0.009448</td>\n      <td>0.009570</td>\n    </tr>\n    <tr>\n      <th>17-14-53</th>\n      <td>1.29</td>\n      <td>-0.045355</td>\n      <td>-0.103340</td>\n      <td>-0.534985</td>\n      <td>-0.011871</td>\n      <td>-0.027774</td>\n      <td>0.003462</td>\n    </tr>\n    <tr>\n      <th>17-14-53</th>\n      <td>0.31</td>\n      <td>0.242089</td>\n      <td>0.072761</td>\n      <td>-0.350396</td>\n      <td>-0.017980</td>\n      <td>0.002769</td>\n      <td>-0.005091</td>\n    </tr>\n    <tr>\n      <th>17-14-53</th>\n      <td>0.31</td>\n      <td>-0.230234</td>\n      <td>0.011765</td>\n      <td>-0.494085</td>\n      <td>0.011342</td>\n      <td>0.003380</td>\n      <td>0.006516</td>\n    </tr>\n    <tr>\n      <th>...</th>\n      <td>...</td>\n      <td>...</td>\n      <td>...</td>\n      <td>...</td>\n      <td>...</td>\n      <td>...</td>\n      <td>...</td>\n    </tr>\n    <tr>\n      <th>18-56-18</th>\n      <td>0.00</td>\n      <td>-0.436406</td>\n      <td>-0.219264</td>\n      <td>0.397958</td>\n      <td>-0.051089</td>\n      <td>-0.001975</td>\n      <td>-0.058989</td>\n    </tr>\n    <tr>\n      <th>18-56-18</th>\n      <td>0.00</td>\n      <td>-0.436406</td>\n      <td>-0.219264</td>\n      <td>0.397958</td>\n      <td>-0.001609</td>\n      <td>0.024903</td>\n      <td>0.000876</td>\n    </tr>\n    <tr>\n      <th>18-56-18</th>\n      <td>0.00</td>\n      <td>-0.436406</td>\n      <td>-0.219264</td>\n      <td>0.397958</td>\n      <td>-0.001609</td>\n      <td>0.024903</td>\n      <td>0.000876</td>\n    </tr>\n    <tr>\n      <th>18-56-18</th>\n      <td>0.00</td>\n      <td>-0.436406</td>\n      <td>-0.219264</td>\n      <td>0.397958</td>\n      <td>-0.001609</td>\n      <td>0.024903</td>\n      <td>0.000876</td>\n    </tr>\n    <tr>\n      <th>18-56-18</th>\n      <td>0.00</td>\n      <td>-0.436406</td>\n      <td>-0.219264</td>\n      <td>0.397958</td>\n      <td>-0.001609</td>\n      <td>0.024903</td>\n      <td>0.000876</td>\n    </tr>\n  </tbody>\n</table>\n<p>14249 rows × 7 columns</p>\n</div>"
     },
     "execution_count": 15,
     "metadata": {},
     "output_type": "execute_result"
    }
   ],
   "source": [
    "X"
   ],
   "metadata": {
    "collapsed": false,
    "pycharm": {
     "name": "#%%\n"
    }
   }
  },
  {
   "cell_type": "code",
   "execution_count": 16,
   "outputs": [
    {
     "data": {
      "text/plain": "Time\n17-14-53    0\n17-14-53    0\n17-14-53    0\n17-14-53    0\n17-14-53    0\n           ..\n18-56-18    0\n18-56-18    0\n18-56-18    0\n18-56-18    0\n18-56-18    0\nName: label, Length: 14249, dtype: int64"
     },
     "execution_count": 16,
     "metadata": {},
     "output_type": "execute_result"
    }
   ],
   "source": [
    "y"
   ],
   "metadata": {
    "collapsed": false,
    "pycharm": {
     "name": "#%%\n"
    }
   }
  },
  {
   "cell_type": "code",
   "execution_count": 17,
   "outputs": [],
   "source": [
    "import numpy as np\n",
    "import matplotlib.pyplot as plt\n",
    "import seaborn as sns; sns.set()\n",
    "import tensorflow as tf\n",
    "from keras.layers import Dense, BatchNormalization, Dropout, LSTM, Bidirectional\n",
    "from keras.models import Sequential\n",
    "from tensorflow.keras.utils import to_categorical\n",
    "from keras.optimizers import Adam\n",
    "from tensorflow.keras import regularizers\n",
    "from sklearn.metrics import precision_score, recall_score, confusion_matrix, classification_report, accuracy_score, f1_score\n",
    "from keras import callbacks\n",
    "from tensorflow.keras.callbacks import EarlyStopping"
   ],
   "metadata": {
    "collapsed": false,
    "pycharm": {
     "name": "#%%\n"
    }
   }
  },
  {
   "cell_type": "code",
   "execution_count": 18,
   "outputs": [],
   "source": [
    "from sklearn.model_selection import train_test_split\n",
    "\n",
    "x_train, x_test, y_train, y_test = train_test_split(X, y,train_size = 0.8, test_size = 0.2, random_state = 0,stratify = y)"
   ],
   "metadata": {
    "collapsed": false,
    "pycharm": {
     "name": "#%%\n"
    }
   }
  },
  {
   "cell_type": "code",
   "execution_count": 19,
   "outputs": [
    {
     "data": {
      "text/plain": "(11399, 7)"
     },
     "execution_count": 19,
     "metadata": {},
     "output_type": "execute_result"
    }
   ],
   "source": [
    "x_train.shape"
   ],
   "metadata": {
    "collapsed": false,
    "pycharm": {
     "name": "#%%\n"
    }
   }
  },
  {
   "cell_type": "code",
   "execution_count": 20,
   "outputs": [
    {
     "data": {
      "text/plain": "(2850, 7)"
     },
     "execution_count": 20,
     "metadata": {},
     "output_type": "execute_result"
    }
   ],
   "source": [
    "x_test.shape"
   ],
   "metadata": {
    "collapsed": false,
    "pycharm": {
     "name": "#%%\n"
    }
   }
  },
  {
   "cell_type": "code",
   "execution_count": 21,
   "outputs": [
    {
     "data": {
      "text/plain": "(11399,)"
     },
     "execution_count": 21,
     "metadata": {},
     "output_type": "execute_result"
    }
   ],
   "source": [
    "y_train.shape"
   ],
   "metadata": {
    "collapsed": false,
    "pycharm": {
     "name": "#%%\n"
    }
   }
  },
  {
   "cell_type": "code",
   "execution_count": 22,
   "outputs": [
    {
     "data": {
      "text/plain": "Time\n18-46-11    1\n18-52-29    1\n17-22-01    1\n17-15-31    1\n17-22-49    1\n           ..\n17-21-27    0\n18-50-39    1\n17-27-26    0\n17-15-25    1\n18-53-24    1\nName: label, Length: 11399, dtype: int64"
     },
     "execution_count": 22,
     "metadata": {},
     "output_type": "execute_result"
    }
   ],
   "source": [
    "y_train"
   ],
   "metadata": {
    "collapsed": false,
    "pycharm": {
     "name": "#%%\n"
    }
   }
  },
  {
   "cell_type": "code",
   "execution_count": 23,
   "outputs": [
    {
     "data": {
      "text/plain": "(2850,)"
     },
     "execution_count": 23,
     "metadata": {},
     "output_type": "execute_result"
    }
   ],
   "source": [
    "y_test.shape"
   ],
   "metadata": {
    "collapsed": false,
    "pycharm": {
     "name": "#%%\n"
    }
   }
  },
  {
   "cell_type": "code",
   "execution_count": 24,
   "outputs": [
    {
     "data": {
      "text/plain": "Time\n18-53-03    1\n17-19-52    1\n17-23-58    1\n17-25-37    0\n18-52-10    1\n           ..\n17-20-01    1\n18-46-39    1\n17-22-06    1\n18-48-02    1\n17-18-38    0\nName: label, Length: 2850, dtype: int64"
     },
     "execution_count": 24,
     "metadata": {},
     "output_type": "execute_result"
    }
   ],
   "source": [
    "y_test"
   ],
   "metadata": {
    "collapsed": false,
    "pycharm": {
     "name": "#%%\n"
    }
   }
  },
  {
   "cell_type": "code",
   "execution_count": 25,
   "outputs": [],
   "source": [
    "x_train , y_train = np.array(x_train), np.array(y_train)\n",
    "x_train = np.reshape(x_train, (x_train.shape[0] , x_train.shape[1], 1) )"
   ],
   "metadata": {
    "collapsed": false,
    "pycharm": {
     "name": "#%%\n"
    }
   }
  },
  {
   "cell_type": "code",
   "execution_count": 26,
   "outputs": [],
   "source": [
    "x_test , y_test = np.array(x_test), np.array(y_test)\n",
    "x_test = np.reshape(x_test, (x_test.shape[0] , x_test.shape[1], 1) )"
   ],
   "metadata": {
    "collapsed": false,
    "pycharm": {
     "name": "#%%\n"
    }
   }
  },
  {
   "cell_type": "code",
   "execution_count": 27,
   "outputs": [],
   "source": [
    "# Our vectorized labels\n",
    "y_train = np.asarray(y_train).astype('float32').reshape((-1,1))\n",
    "y_test = np.asarray(y_test).astype('float32').reshape((-1,1))"
   ],
   "metadata": {
    "collapsed": false,
    "pycharm": {
     "name": "#%%\n"
    }
   }
  },
  {
   "cell_type": "code",
   "execution_count": 30,
   "outputs": [
    {
     "name": "stdout",
     "output_type": "stream",
     "text": [
      "Model: \"sequential_2\"\n",
      "_________________________________________________________________\n",
      " Layer (type)                Output Shape              Param #   \n",
      "=================================================================\n",
      " dense_10 (Dense)            (None, 7, 128)            256       \n",
      "                                                                 \n",
      " dense_11 (Dense)            (None, 7, 128)            16512     \n",
      "                                                                 \n",
      " dropout_6 (Dropout)         (None, 7, 128)            0         \n",
      "                                                                 \n",
      " dense_12 (Dense)            (None, 7, 128)            16512     \n",
      "                                                                 \n",
      " dropout_7 (Dropout)         (None, 7, 128)            0         \n",
      "                                                                 \n",
      " dense_13 (Dense)            (None, 7, 128)            16512     \n",
      "                                                                 \n",
      " dropout_8 (Dropout)         (None, 7, 128)            0         \n",
      "                                                                 \n",
      " dense_14 (Dense)            (None, 7, 1)              129       \n",
      "                                                                 \n",
      "=================================================================\n",
      "Total params: 49,921\n",
      "Trainable params: 49,921\n",
      "Non-trainable params: 0\n",
      "_________________________________________________________________\n",
      "Epoch 1/100\n",
      "81/81 [==============================] - 4s 26ms/step - loss: 0.6825 - accuracy: 0.5538 - val_loss: 0.6828 - val_accuracy: 0.5395\n",
      "Epoch 2/100\n",
      "81/81 [==============================] - 2s 23ms/step - loss: 0.6821 - accuracy: 0.5548 - val_loss: 0.6823 - val_accuracy: 0.5395\n",
      "Epoch 3/100\n",
      "81/81 [==============================] - 2s 23ms/step - loss: 0.6802 - accuracy: 0.5650 - val_loss: 0.6835 - val_accuracy: 0.5395\n",
      "Epoch 4/100\n",
      "81/81 [==============================] - 1s 17ms/step - loss: 0.6797 - accuracy: 0.5651 - val_loss: 0.6805 - val_accuracy: 0.5634\n",
      "Epoch 5/100\n",
      "81/81 [==============================] - 2s 19ms/step - loss: 0.6791 - accuracy: 0.5692 - val_loss: 0.6800 - val_accuracy: 0.5639\n",
      "Epoch 6/100\n",
      "81/81 [==============================] - 2s 19ms/step - loss: 0.6786 - accuracy: 0.5724 - val_loss: 0.6800 - val_accuracy: 0.5644\n",
      "Epoch 7/100\n",
      "81/81 [==============================] - 1s 18ms/step - loss: 0.6788 - accuracy: 0.5733 - val_loss: 0.6789 - val_accuracy: 0.5682\n",
      "Epoch 8/100\n",
      "81/81 [==============================] - 2s 20ms/step - loss: 0.6785 - accuracy: 0.5720 - val_loss: 0.6794 - val_accuracy: 0.5668\n",
      "Epoch 9/100\n",
      "81/81 [==============================] - 1s 15ms/step - loss: 0.6783 - accuracy: 0.5736 - val_loss: 0.6791 - val_accuracy: 0.5685\n",
      "Epoch 10/100\n",
      "81/81 [==============================] - 1s 14ms/step - loss: 0.6780 - accuracy: 0.5738 - val_loss: 0.6790 - val_accuracy: 0.5679\n",
      "Epoch 11/100\n",
      "81/81 [==============================] - 1s 16ms/step - loss: 0.6777 - accuracy: 0.5742 - val_loss: 0.6785 - val_accuracy: 0.5682\n",
      "Epoch 12/100\n",
      "81/81 [==============================] - 1s 14ms/step - loss: 0.6779 - accuracy: 0.5738 - val_loss: 0.6800 - val_accuracy: 0.5634\n",
      "Epoch 13/100\n",
      "81/81 [==============================] - 1s 16ms/step - loss: 0.6774 - accuracy: 0.5736 - val_loss: 0.6799 - val_accuracy: 0.5647\n",
      "Epoch 14/100\n",
      "81/81 [==============================] - 2s 20ms/step - loss: 0.6779 - accuracy: 0.5737 - val_loss: 0.6798 - val_accuracy: 0.5643\n",
      "Epoch 15/100\n",
      "81/81 [==============================] - 2s 25ms/step - loss: 0.6773 - accuracy: 0.5740 - val_loss: 0.6789 - val_accuracy: 0.5632\n",
      "Epoch 16/100\n",
      "81/81 [==============================] - 3s 32ms/step - loss: 0.6777 - accuracy: 0.5734 - val_loss: 0.6790 - val_accuracy: 0.5647\n",
      "Epoch 17/100\n",
      "81/81 [==============================] - 2s 27ms/step - loss: 0.6776 - accuracy: 0.5733 - val_loss: 0.6785 - val_accuracy: 0.5650\n",
      "Epoch 18/100\n",
      "81/81 [==============================] - 1s 17ms/step - loss: 0.6779 - accuracy: 0.5729 - val_loss: 0.6782 - val_accuracy: 0.5690\n",
      "Epoch 19/100\n",
      "81/81 [==============================] - 1s 15ms/step - loss: 0.6770 - accuracy: 0.5742 - val_loss: 0.6785 - val_accuracy: 0.5665\n",
      "Epoch 20/100\n",
      "81/81 [==============================] - 1s 15ms/step - loss: 0.6771 - accuracy: 0.5750 - val_loss: 0.6782 - val_accuracy: 0.5679\n",
      "Epoch 21/100\n",
      "81/81 [==============================] - 1s 14ms/step - loss: 0.6772 - accuracy: 0.5745 - val_loss: 0.6788 - val_accuracy: 0.5657\n",
      "Epoch 22/100\n",
      "81/81 [==============================] - 1s 13ms/step - loss: 0.6772 - accuracy: 0.5734 - val_loss: 0.6783 - val_accuracy: 0.5662\n",
      "Epoch 23/100\n",
      "81/81 [==============================] - 2s 19ms/step - loss: 0.6767 - accuracy: 0.5750 - val_loss: 0.6782 - val_accuracy: 0.5674\n",
      "Epoch 24/100\n",
      "81/81 [==============================] - 2s 27ms/step - loss: 0.6772 - accuracy: 0.5743 - val_loss: 0.6788 - val_accuracy: 0.5634\n",
      "Epoch 25/100\n",
      "81/81 [==============================] - 2s 25ms/step - loss: 0.6775 - accuracy: 0.5742 - val_loss: 0.6798 - val_accuracy: 0.5645\n",
      "Epoch 26/100\n",
      "81/81 [==============================] - 2s 22ms/step - loss: 0.6765 - accuracy: 0.5753 - val_loss: 0.6775 - val_accuracy: 0.5683\n",
      "Epoch 27/100\n",
      "81/81 [==============================] - 2s 23ms/step - loss: 0.6772 - accuracy: 0.5741 - val_loss: 0.6789 - val_accuracy: 0.5670\n",
      "Epoch 28/100\n",
      "81/81 [==============================] - 1s 16ms/step - loss: 0.6771 - accuracy: 0.5740 - val_loss: 0.6792 - val_accuracy: 0.5643\n"
     ]
    }
   ],
   "source": [
    "# build a model\n",
    "model = Sequential()\n",
    "model.add(Dense(128, input_shape=(x_train.shape[1],1), activation='relu'))\n",
    "model.add(Dense(128, activation='relu'))\n",
    "model.add(Dropout(0.2))\n",
    "model.add(Dense(128, activation='relu'))\n",
    "model.add(Dropout(0.2))\n",
    "model.add(Dense(128, activation='relu'))\n",
    "model.add(Dropout(0.2))\n",
    "model.add(Dense(1, activation='sigmoid'))\n",
    "model.summary()\n",
    "\n",
    "model.compile(optimizer='Adam',loss='binary_crossentropy',metrics=['accuracy'])\n",
    "es = EarlyStopping(monitor='val_accuracy',mode='max',patience=10,restore_best_weights=True)\n",
    "history = model.fit(x_train,y_train,callbacks=[es],epochs=100,batch_size=128,validation_split=0.1,shuffle=True,verbose=1)"
   ],
   "metadata": {
    "collapsed": false,
    "pycharm": {
     "name": "#%%\n"
    }
   }
  },
  {
   "cell_type": "code",
   "execution_count": null,
   "outputs": [],
   "source": [],
   "metadata": {
    "collapsed": false,
    "pycharm": {
     "name": "#%%\n"
    }
   }
  }
 ],
 "metadata": {
  "kernelspec": {
   "display_name": "Python 3",
   "language": "python",
   "name": "python3"
  },
  "language_info": {
   "codemirror_mode": {
    "name": "ipython",
    "version": 2
   },
   "file_extension": ".py",
   "mimetype": "text/x-python",
   "name": "python",
   "nbconvert_exporter": "python",
   "pygments_lexer": "ipython2",
   "version": "2.7.6"
  }
 },
 "nbformat": 4,
 "nbformat_minor": 0
}