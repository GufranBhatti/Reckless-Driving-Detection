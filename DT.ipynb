{
 "cells": [
  {
   "cell_type": "code",
   "execution_count": 1,
   "metadata": {
    "collapsed": true,
    "pycharm": {
     "name": "#%%\n"
    }
   },
   "outputs": [],
   "source": [
    "import pandas as pd\n",
    "import numpy as np\n",
    "from datetime import datetime\n",
    "import matplotlib.pyplot as plt"
   ]
  },
  {
   "cell_type": "code",
   "execution_count": 2,
   "outputs": [
    {
     "data": {
      "text/plain": "   Longitude   Latitude  Speed      Distance      Time     Acc X     Acc Y  \\\n0  73.831324  18.518700   1.29  8.312031e+06  17-14-53  0.046402 -0.137178   \n1  73.831324  18.518700   1.29  8.312031e+06  17-14-53 -0.136978  0.365242   \n2  73.831324  18.518700   1.29  8.312031e+06  17-14-53 -0.045355 -0.103340   \n3  73.831201  18.518714   0.31  1.302423e+01  17-14-53  0.242089  0.072761   \n4  73.831201  18.518714   0.31  1.302423e+01  17-14-53 -0.230234  0.011765   \n\n      Acc Z  Heading    gyro_x    gyro_y    gyro_z  \n0 -0.282934    265.0 -0.036306 -0.008226 -0.023416  \n1  0.108889    266.0  0.035776 -0.009448  0.009570  \n2 -0.534985    266.0 -0.011871 -0.027774  0.003462  \n3 -0.350396    266.0 -0.017980  0.002769 -0.005091  \n4 -0.494085    266.0  0.011342  0.003380  0.006516  ",
      "text/html": "<div>\n<style scoped>\n    .dataframe tbody tr th:only-of-type {\n        vertical-align: middle;\n    }\n\n    .dataframe tbody tr th {\n        vertical-align: top;\n    }\n\n    .dataframe thead th {\n        text-align: right;\n    }\n</style>\n<table border=\"1\" class=\"dataframe\">\n  <thead>\n    <tr style=\"text-align: right;\">\n      <th></th>\n      <th>Longitude</th>\n      <th>Latitude</th>\n      <th>Speed</th>\n      <th>Distance</th>\n      <th>Time</th>\n      <th>Acc X</th>\n      <th>Acc Y</th>\n      <th>Acc Z</th>\n      <th>Heading</th>\n      <th>gyro_x</th>\n      <th>gyro_y</th>\n      <th>gyro_z</th>\n    </tr>\n  </thead>\n  <tbody>\n    <tr>\n      <th>0</th>\n      <td>73.831324</td>\n      <td>18.518700</td>\n      <td>1.29</td>\n      <td>8.312031e+06</td>\n      <td>17-14-53</td>\n      <td>0.046402</td>\n      <td>-0.137178</td>\n      <td>-0.282934</td>\n      <td>265.0</td>\n      <td>-0.036306</td>\n      <td>-0.008226</td>\n      <td>-0.023416</td>\n    </tr>\n    <tr>\n      <th>1</th>\n      <td>73.831324</td>\n      <td>18.518700</td>\n      <td>1.29</td>\n      <td>8.312031e+06</td>\n      <td>17-14-53</td>\n      <td>-0.136978</td>\n      <td>0.365242</td>\n      <td>0.108889</td>\n      <td>266.0</td>\n      <td>0.035776</td>\n      <td>-0.009448</td>\n      <td>0.009570</td>\n    </tr>\n    <tr>\n      <th>2</th>\n      <td>73.831324</td>\n      <td>18.518700</td>\n      <td>1.29</td>\n      <td>8.312031e+06</td>\n      <td>17-14-53</td>\n      <td>-0.045355</td>\n      <td>-0.103340</td>\n      <td>-0.534985</td>\n      <td>266.0</td>\n      <td>-0.011871</td>\n      <td>-0.027774</td>\n      <td>0.003462</td>\n    </tr>\n    <tr>\n      <th>3</th>\n      <td>73.831201</td>\n      <td>18.518714</td>\n      <td>0.31</td>\n      <td>1.302423e+01</td>\n      <td>17-14-53</td>\n      <td>0.242089</td>\n      <td>0.072761</td>\n      <td>-0.350396</td>\n      <td>266.0</td>\n      <td>-0.017980</td>\n      <td>0.002769</td>\n      <td>-0.005091</td>\n    </tr>\n    <tr>\n      <th>4</th>\n      <td>73.831201</td>\n      <td>18.518714</td>\n      <td>0.31</td>\n      <td>1.302423e+01</td>\n      <td>17-14-53</td>\n      <td>-0.230234</td>\n      <td>0.011765</td>\n      <td>-0.494085</td>\n      <td>266.0</td>\n      <td>0.011342</td>\n      <td>0.003380</td>\n      <td>0.006516</td>\n    </tr>\n  </tbody>\n</table>\n</div>"
     },
     "execution_count": 2,
     "metadata": {},
     "output_type": "execute_result"
    }
   ],
   "source": [
    "data1 = pd.read_csv(r\"1_20210317_171452.csv\")\n",
    "data1.head()"
   ],
   "metadata": {
    "collapsed": false,
    "pycharm": {
     "name": "#%%\n"
    }
   }
  },
  {
   "cell_type": "code",
   "execution_count": 3,
   "outputs": [
    {
     "data": {
      "text/plain": "   Longitude   Latitude  Speed  Distance      Time     Acc X     Acc Y  \\\n0  73.822661  18.501627    0.0       0.0  18-45-12 -0.271978  0.239697   \n1  73.822661  18.501627    0.0       0.0  18-45-12 -0.203242  0.330358   \n2  73.822661  18.501627    0.0       0.0  18-45-13 -0.052430  0.283010   \n3  73.822661  18.501627    0.0       0.0  18-45-13  0.046597  0.181215   \n4  73.822661  18.501627    0.0       0.0  18-45-13  0.038631  0.341300   \n\n      Acc Z  Heading    gyro_x    gyro_y    gyro_z  \n0 -0.870133    352.0  0.022826 -0.035573  0.012482  \n1  0.822501    352.0 -0.024821  0.045672 -0.016229  \n2 -0.348588    352.0 -0.071247  0.027346 -0.015618  \n3 -1.068336    352.0  0.028324 -0.009306 -0.015007  \n4  0.365102    352.0  0.022215 -0.015414  0.014315  ",
      "text/html": "<div>\n<style scoped>\n    .dataframe tbody tr th:only-of-type {\n        vertical-align: middle;\n    }\n\n    .dataframe tbody tr th {\n        vertical-align: top;\n    }\n\n    .dataframe thead th {\n        text-align: right;\n    }\n</style>\n<table border=\"1\" class=\"dataframe\">\n  <thead>\n    <tr style=\"text-align: right;\">\n      <th></th>\n      <th>Longitude</th>\n      <th>Latitude</th>\n      <th>Speed</th>\n      <th>Distance</th>\n      <th>Time</th>\n      <th>Acc X</th>\n      <th>Acc Y</th>\n      <th>Acc Z</th>\n      <th>Heading</th>\n      <th>gyro_x</th>\n      <th>gyro_y</th>\n      <th>gyro_z</th>\n    </tr>\n  </thead>\n  <tbody>\n    <tr>\n      <th>0</th>\n      <td>73.822661</td>\n      <td>18.501627</td>\n      <td>0.0</td>\n      <td>0.0</td>\n      <td>18-45-12</td>\n      <td>-0.271978</td>\n      <td>0.239697</td>\n      <td>-0.870133</td>\n      <td>352.0</td>\n      <td>0.022826</td>\n      <td>-0.035573</td>\n      <td>0.012482</td>\n    </tr>\n    <tr>\n      <th>1</th>\n      <td>73.822661</td>\n      <td>18.501627</td>\n      <td>0.0</td>\n      <td>0.0</td>\n      <td>18-45-12</td>\n      <td>-0.203242</td>\n      <td>0.330358</td>\n      <td>0.822501</td>\n      <td>352.0</td>\n      <td>-0.024821</td>\n      <td>0.045672</td>\n      <td>-0.016229</td>\n    </tr>\n    <tr>\n      <th>2</th>\n      <td>73.822661</td>\n      <td>18.501627</td>\n      <td>0.0</td>\n      <td>0.0</td>\n      <td>18-45-13</td>\n      <td>-0.052430</td>\n      <td>0.283010</td>\n      <td>-0.348588</td>\n      <td>352.0</td>\n      <td>-0.071247</td>\n      <td>0.027346</td>\n      <td>-0.015618</td>\n    </tr>\n    <tr>\n      <th>3</th>\n      <td>73.822661</td>\n      <td>18.501627</td>\n      <td>0.0</td>\n      <td>0.0</td>\n      <td>18-45-13</td>\n      <td>0.046597</td>\n      <td>0.181215</td>\n      <td>-1.068336</td>\n      <td>352.0</td>\n      <td>0.028324</td>\n      <td>-0.009306</td>\n      <td>-0.015007</td>\n    </tr>\n    <tr>\n      <th>4</th>\n      <td>73.822661</td>\n      <td>18.501627</td>\n      <td>0.0</td>\n      <td>0.0</td>\n      <td>18-45-13</td>\n      <td>0.038631</td>\n      <td>0.341300</td>\n      <td>0.365102</td>\n      <td>352.0</td>\n      <td>0.022215</td>\n      <td>-0.015414</td>\n      <td>0.014315</td>\n    </tr>\n  </tbody>\n</table>\n</div>"
     },
     "execution_count": 3,
     "metadata": {},
     "output_type": "execute_result"
    }
   ],
   "source": [
    "data2 = pd.read_csv(r\"2_20210317_184512.csv\")\n",
    "data2.head()"
   ],
   "metadata": {
    "collapsed": false,
    "pycharm": {
     "name": "#%%\n"
    }
   }
  },
  {
   "cell_type": "code",
   "execution_count": 4,
   "outputs": [
    {
     "data": {
      "text/plain": "      Acc X     Acc Y     Acc Z    gyro_x    gyro_y    gyro_z  label\n0  0.046402 -0.137178 -0.282934 -0.036306 -0.008226 -0.023416      0\n1 -0.136978  0.365242  0.108889  0.035776 -0.009448  0.009570      0\n2 -0.045355 -0.103340 -0.534985 -0.011871 -0.027774  0.003462      0\n3  0.242089  0.072761 -0.350396 -0.017980  0.002769 -0.005091      0\n4 -0.230234  0.011765 -0.494085  0.011342  0.003380  0.006516      0",
      "text/html": "<div>\n<style scoped>\n    .dataframe tbody tr th:only-of-type {\n        vertical-align: middle;\n    }\n\n    .dataframe tbody tr th {\n        vertical-align: top;\n    }\n\n    .dataframe thead th {\n        text-align: right;\n    }\n</style>\n<table border=\"1\" class=\"dataframe\">\n  <thead>\n    <tr style=\"text-align: right;\">\n      <th></th>\n      <th>Acc X</th>\n      <th>Acc Y</th>\n      <th>Acc Z</th>\n      <th>gyro_x</th>\n      <th>gyro_y</th>\n      <th>gyro_z</th>\n      <th>label</th>\n    </tr>\n  </thead>\n  <tbody>\n    <tr>\n      <th>0</th>\n      <td>0.046402</td>\n      <td>-0.137178</td>\n      <td>-0.282934</td>\n      <td>-0.036306</td>\n      <td>-0.008226</td>\n      <td>-0.023416</td>\n      <td>0</td>\n    </tr>\n    <tr>\n      <th>1</th>\n      <td>-0.136978</td>\n      <td>0.365242</td>\n      <td>0.108889</td>\n      <td>0.035776</td>\n      <td>-0.009448</td>\n      <td>0.009570</td>\n      <td>0</td>\n    </tr>\n    <tr>\n      <th>2</th>\n      <td>-0.045355</td>\n      <td>-0.103340</td>\n      <td>-0.534985</td>\n      <td>-0.011871</td>\n      <td>-0.027774</td>\n      <td>0.003462</td>\n      <td>0</td>\n    </tr>\n    <tr>\n      <th>3</th>\n      <td>0.242089</td>\n      <td>0.072761</td>\n      <td>-0.350396</td>\n      <td>-0.017980</td>\n      <td>0.002769</td>\n      <td>-0.005091</td>\n      <td>0</td>\n    </tr>\n    <tr>\n      <th>4</th>\n      <td>-0.230234</td>\n      <td>0.011765</td>\n      <td>-0.494085</td>\n      <td>0.011342</td>\n      <td>0.003380</td>\n      <td>0.006516</td>\n      <td>0</td>\n    </tr>\n  </tbody>\n</table>\n</div>"
     },
     "execution_count": 4,
     "metadata": {},
     "output_type": "execute_result"
    }
   ],
   "source": [
    "data = pd.read_csv(r\"FinalDatasetCsv.csv\")\n",
    "data.head()"
   ],
   "metadata": {
    "collapsed": false,
    "pycharm": {
     "name": "#%%\n"
    }
   }
  },
  {
   "cell_type": "code",
   "execution_count": 5,
   "outputs": [
    {
     "data": {
      "text/plain": "   Longitude   Latitude  Speed      Distance      Time     Acc X     Acc Y  \\\n0  73.831324  18.518700   1.29  8.312031e+06  17-14-53  0.046402 -0.137178   \n1  73.831324  18.518700   1.29  8.312031e+06  17-14-53 -0.136978  0.365242   \n2  73.831324  18.518700   1.29  8.312031e+06  17-14-53 -0.045355 -0.103340   \n3  73.831201  18.518714   0.31  1.302423e+01  17-14-53  0.242089  0.072761   \n4  73.831201  18.518714   0.31  1.302423e+01  17-14-53 -0.230234  0.011765   \n\n      Acc Z  Heading    gyro_x    gyro_y    gyro_z  \n0 -0.282934    265.0 -0.036306 -0.008226 -0.023416  \n1  0.108889    266.0  0.035776 -0.009448  0.009570  \n2 -0.534985    266.0 -0.011871 -0.027774  0.003462  \n3 -0.350396    266.0 -0.017980  0.002769 -0.005091  \n4 -0.494085    266.0  0.011342  0.003380  0.006516  ",
      "text/html": "<div>\n<style scoped>\n    .dataframe tbody tr th:only-of-type {\n        vertical-align: middle;\n    }\n\n    .dataframe tbody tr th {\n        vertical-align: top;\n    }\n\n    .dataframe thead th {\n        text-align: right;\n    }\n</style>\n<table border=\"1\" class=\"dataframe\">\n  <thead>\n    <tr style=\"text-align: right;\">\n      <th></th>\n      <th>Longitude</th>\n      <th>Latitude</th>\n      <th>Speed</th>\n      <th>Distance</th>\n      <th>Time</th>\n      <th>Acc X</th>\n      <th>Acc Y</th>\n      <th>Acc Z</th>\n      <th>Heading</th>\n      <th>gyro_x</th>\n      <th>gyro_y</th>\n      <th>gyro_z</th>\n    </tr>\n  </thead>\n  <tbody>\n    <tr>\n      <th>0</th>\n      <td>73.831324</td>\n      <td>18.518700</td>\n      <td>1.29</td>\n      <td>8.312031e+06</td>\n      <td>17-14-53</td>\n      <td>0.046402</td>\n      <td>-0.137178</td>\n      <td>-0.282934</td>\n      <td>265.0</td>\n      <td>-0.036306</td>\n      <td>-0.008226</td>\n      <td>-0.023416</td>\n    </tr>\n    <tr>\n      <th>1</th>\n      <td>73.831324</td>\n      <td>18.518700</td>\n      <td>1.29</td>\n      <td>8.312031e+06</td>\n      <td>17-14-53</td>\n      <td>-0.136978</td>\n      <td>0.365242</td>\n      <td>0.108889</td>\n      <td>266.0</td>\n      <td>0.035776</td>\n      <td>-0.009448</td>\n      <td>0.009570</td>\n    </tr>\n    <tr>\n      <th>2</th>\n      <td>73.831324</td>\n      <td>18.518700</td>\n      <td>1.29</td>\n      <td>8.312031e+06</td>\n      <td>17-14-53</td>\n      <td>-0.045355</td>\n      <td>-0.103340</td>\n      <td>-0.534985</td>\n      <td>266.0</td>\n      <td>-0.011871</td>\n      <td>-0.027774</td>\n      <td>0.003462</td>\n    </tr>\n    <tr>\n      <th>3</th>\n      <td>73.831201</td>\n      <td>18.518714</td>\n      <td>0.31</td>\n      <td>1.302423e+01</td>\n      <td>17-14-53</td>\n      <td>0.242089</td>\n      <td>0.072761</td>\n      <td>-0.350396</td>\n      <td>266.0</td>\n      <td>-0.017980</td>\n      <td>0.002769</td>\n      <td>-0.005091</td>\n    </tr>\n    <tr>\n      <th>4</th>\n      <td>73.831201</td>\n      <td>18.518714</td>\n      <td>0.31</td>\n      <td>1.302423e+01</td>\n      <td>17-14-53</td>\n      <td>-0.230234</td>\n      <td>0.011765</td>\n      <td>-0.494085</td>\n      <td>266.0</td>\n      <td>0.011342</td>\n      <td>0.003380</td>\n      <td>0.006516</td>\n    </tr>\n  </tbody>\n</table>\n</div>"
     },
     "execution_count": 5,
     "metadata": {},
     "output_type": "execute_result"
    }
   ],
   "source": [
    "df_final = pd.concat([data1,data2])\n",
    "df_final.head()"
   ],
   "metadata": {
    "collapsed": false,
    "pycharm": {
     "name": "#%%\n"
    }
   }
  },
  {
   "cell_type": "code",
   "execution_count": 6,
   "outputs": [],
   "source": [
    "df_final['label'] = data['label']"
   ],
   "metadata": {
    "collapsed": false,
    "pycharm": {
     "name": "#%%\n"
    }
   }
  },
  {
   "cell_type": "code",
   "execution_count": 7,
   "outputs": [],
   "source": [
    "df_final.set_index('Time', inplace=True)"
   ],
   "metadata": {
    "collapsed": false,
    "pycharm": {
     "name": "#%%\n"
    }
   }
  },
  {
   "cell_type": "code",
   "execution_count": 8,
   "outputs": [
    {
     "data": {
      "text/plain": "          Longitude   Latitude  Speed      Distance     Acc X     Acc Y  \\\nTime                                                                      \n17-14-53  73.831324  18.518700   1.29  8.312031e+06  0.046402 -0.137178   \n17-14-53  73.831324  18.518700   1.29  8.312031e+06 -0.136978  0.365242   \n17-14-53  73.831324  18.518700   1.29  8.312031e+06 -0.045355 -0.103340   \n17-14-53  73.831201  18.518714   0.31  1.302423e+01  0.242089  0.072761   \n17-14-53  73.831201  18.518714   0.31  1.302423e+01 -0.230234  0.011765   \n\n             Acc Z  Heading    gyro_x    gyro_y    gyro_z  label  \nTime                                                              \n17-14-53 -0.282934    265.0 -0.036306 -0.008226 -0.023416      0  \n17-14-53  0.108889    266.0  0.035776 -0.009448  0.009570      0  \n17-14-53 -0.534985    266.0 -0.011871 -0.027774  0.003462      0  \n17-14-53 -0.350396    266.0 -0.017980  0.002769 -0.005091      0  \n17-14-53 -0.494085    266.0  0.011342  0.003380  0.006516      0  ",
      "text/html": "<div>\n<style scoped>\n    .dataframe tbody tr th:only-of-type {\n        vertical-align: middle;\n    }\n\n    .dataframe tbody tr th {\n        vertical-align: top;\n    }\n\n    .dataframe thead th {\n        text-align: right;\n    }\n</style>\n<table border=\"1\" class=\"dataframe\">\n  <thead>\n    <tr style=\"text-align: right;\">\n      <th></th>\n      <th>Longitude</th>\n      <th>Latitude</th>\n      <th>Speed</th>\n      <th>Distance</th>\n      <th>Acc X</th>\n      <th>Acc Y</th>\n      <th>Acc Z</th>\n      <th>Heading</th>\n      <th>gyro_x</th>\n      <th>gyro_y</th>\n      <th>gyro_z</th>\n      <th>label</th>\n    </tr>\n    <tr>\n      <th>Time</th>\n      <th></th>\n      <th></th>\n      <th></th>\n      <th></th>\n      <th></th>\n      <th></th>\n      <th></th>\n      <th></th>\n      <th></th>\n      <th></th>\n      <th></th>\n      <th></th>\n    </tr>\n  </thead>\n  <tbody>\n    <tr>\n      <th>17-14-53</th>\n      <td>73.831324</td>\n      <td>18.518700</td>\n      <td>1.29</td>\n      <td>8.312031e+06</td>\n      <td>0.046402</td>\n      <td>-0.137178</td>\n      <td>-0.282934</td>\n      <td>265.0</td>\n      <td>-0.036306</td>\n      <td>-0.008226</td>\n      <td>-0.023416</td>\n      <td>0</td>\n    </tr>\n    <tr>\n      <th>17-14-53</th>\n      <td>73.831324</td>\n      <td>18.518700</td>\n      <td>1.29</td>\n      <td>8.312031e+06</td>\n      <td>-0.136978</td>\n      <td>0.365242</td>\n      <td>0.108889</td>\n      <td>266.0</td>\n      <td>0.035776</td>\n      <td>-0.009448</td>\n      <td>0.009570</td>\n      <td>0</td>\n    </tr>\n    <tr>\n      <th>17-14-53</th>\n      <td>73.831324</td>\n      <td>18.518700</td>\n      <td>1.29</td>\n      <td>8.312031e+06</td>\n      <td>-0.045355</td>\n      <td>-0.103340</td>\n      <td>-0.534985</td>\n      <td>266.0</td>\n      <td>-0.011871</td>\n      <td>-0.027774</td>\n      <td>0.003462</td>\n      <td>0</td>\n    </tr>\n    <tr>\n      <th>17-14-53</th>\n      <td>73.831201</td>\n      <td>18.518714</td>\n      <td>0.31</td>\n      <td>1.302423e+01</td>\n      <td>0.242089</td>\n      <td>0.072761</td>\n      <td>-0.350396</td>\n      <td>266.0</td>\n      <td>-0.017980</td>\n      <td>0.002769</td>\n      <td>-0.005091</td>\n      <td>0</td>\n    </tr>\n    <tr>\n      <th>17-14-53</th>\n      <td>73.831201</td>\n      <td>18.518714</td>\n      <td>0.31</td>\n      <td>1.302423e+01</td>\n      <td>-0.230234</td>\n      <td>0.011765</td>\n      <td>-0.494085</td>\n      <td>266.0</td>\n      <td>0.011342</td>\n      <td>0.003380</td>\n      <td>0.006516</td>\n      <td>0</td>\n    </tr>\n  </tbody>\n</table>\n</div>"
     },
     "execution_count": 8,
     "metadata": {},
     "output_type": "execute_result"
    }
   ],
   "source": [
    "df_final.head()"
   ],
   "metadata": {
    "collapsed": false,
    "pycharm": {
     "name": "#%%\n"
    }
   }
  },
  {
   "cell_type": "code",
   "execution_count": 9,
   "outputs": [
    {
     "data": {
      "text/plain": "datetime.timedelta(seconds=6085)"
     },
     "execution_count": 9,
     "metadata": {},
     "output_type": "execute_result"
    }
   ],
   "source": [
    "s1 = '17:14:53'\n",
    "s2 = '18:56:18' # for example\n",
    "FMT = '%H:%M:%S'\n",
    "tdelta = datetime.strptime(s2, FMT) - datetime.strptime(s1, FMT)\n",
    "tdelta"
   ],
   "metadata": {
    "collapsed": false,
    "pycharm": {
     "name": "#%%\n"
    }
   }
  },
  {
   "cell_type": "code",
   "execution_count": 10,
   "outputs": [],
   "source": [
    "df_final = df_final.drop(['Longitude', 'Latitude', 'Distance', 'Heading'], axis=1)"
   ],
   "metadata": {
    "collapsed": false,
    "pycharm": {
     "name": "#%%\n"
    }
   }
  },
  {
   "cell_type": "code",
   "execution_count": 11,
   "outputs": [
    {
     "data": {
      "text/plain": "          Speed     Acc X     Acc Y     Acc Z    gyro_x    gyro_y    gyro_z  \\\nTime                                                                          \n17-14-53   1.29  0.046402 -0.137178 -0.282934 -0.036306 -0.008226 -0.023416   \n17-14-53   1.29 -0.136978  0.365242  0.108889  0.035776 -0.009448  0.009570   \n17-14-53   1.29 -0.045355 -0.103340 -0.534985 -0.011871 -0.027774  0.003462   \n17-14-53   0.31  0.242089  0.072761 -0.350396 -0.017980  0.002769 -0.005091   \n17-14-53   0.31 -0.230234  0.011765 -0.494085  0.011342  0.003380  0.006516   \n\n          label  \nTime             \n17-14-53      0  \n17-14-53      0  \n17-14-53      0  \n17-14-53      0  \n17-14-53      0  ",
      "text/html": "<div>\n<style scoped>\n    .dataframe tbody tr th:only-of-type {\n        vertical-align: middle;\n    }\n\n    .dataframe tbody tr th {\n        vertical-align: top;\n    }\n\n    .dataframe thead th {\n        text-align: right;\n    }\n</style>\n<table border=\"1\" class=\"dataframe\">\n  <thead>\n    <tr style=\"text-align: right;\">\n      <th></th>\n      <th>Speed</th>\n      <th>Acc X</th>\n      <th>Acc Y</th>\n      <th>Acc Z</th>\n      <th>gyro_x</th>\n      <th>gyro_y</th>\n      <th>gyro_z</th>\n      <th>label</th>\n    </tr>\n    <tr>\n      <th>Time</th>\n      <th></th>\n      <th></th>\n      <th></th>\n      <th></th>\n      <th></th>\n      <th></th>\n      <th></th>\n      <th></th>\n    </tr>\n  </thead>\n  <tbody>\n    <tr>\n      <th>17-14-53</th>\n      <td>1.29</td>\n      <td>0.046402</td>\n      <td>-0.137178</td>\n      <td>-0.282934</td>\n      <td>-0.036306</td>\n      <td>-0.008226</td>\n      <td>-0.023416</td>\n      <td>0</td>\n    </tr>\n    <tr>\n      <th>17-14-53</th>\n      <td>1.29</td>\n      <td>-0.136978</td>\n      <td>0.365242</td>\n      <td>0.108889</td>\n      <td>0.035776</td>\n      <td>-0.009448</td>\n      <td>0.009570</td>\n      <td>0</td>\n    </tr>\n    <tr>\n      <th>17-14-53</th>\n      <td>1.29</td>\n      <td>-0.045355</td>\n      <td>-0.103340</td>\n      <td>-0.534985</td>\n      <td>-0.011871</td>\n      <td>-0.027774</td>\n      <td>0.003462</td>\n      <td>0</td>\n    </tr>\n    <tr>\n      <th>17-14-53</th>\n      <td>0.31</td>\n      <td>0.242089</td>\n      <td>0.072761</td>\n      <td>-0.350396</td>\n      <td>-0.017980</td>\n      <td>0.002769</td>\n      <td>-0.005091</td>\n      <td>0</td>\n    </tr>\n    <tr>\n      <th>17-14-53</th>\n      <td>0.31</td>\n      <td>-0.230234</td>\n      <td>0.011765</td>\n      <td>-0.494085</td>\n      <td>0.011342</td>\n      <td>0.003380</td>\n      <td>0.006516</td>\n      <td>0</td>\n    </tr>\n  </tbody>\n</table>\n</div>"
     },
     "execution_count": 11,
     "metadata": {},
     "output_type": "execute_result"
    }
   ],
   "source": [
    "df_final.head()"
   ],
   "metadata": {
    "collapsed": false,
    "pycharm": {
     "name": "#%%\n"
    }
   }
  },
  {
   "cell_type": "code",
   "execution_count": 12,
   "outputs": [],
   "source": [
    "timestamps = df_final.index.unique()"
   ],
   "metadata": {
    "collapsed": false,
    "pycharm": {
     "name": "#%%\n"
    }
   }
  },
  {
   "cell_type": "code",
   "execution_count": 13,
   "outputs": [
    {
     "data": {
      "text/plain": "1    7872\n0    6377\nName: label, dtype: int64"
     },
     "execution_count": 13,
     "metadata": {},
     "output_type": "execute_result"
    }
   ],
   "source": [
    "df_final['label'].value_counts()"
   ],
   "metadata": {
    "collapsed": false,
    "pycharm": {
     "name": "#%%\n"
    }
   }
  },
  {
   "cell_type": "code",
   "execution_count": 14,
   "outputs": [],
   "source": [
    "X = df_final.drop(['label'], axis=1)\n",
    "y = df_final['label']"
   ],
   "metadata": {
    "collapsed": false,
    "pycharm": {
     "name": "#%%\n"
    }
   }
  },
  {
   "cell_type": "code",
   "execution_count": 15,
   "outputs": [
    {
     "data": {
      "text/plain": "          Speed     Acc X     Acc Y     Acc Z    gyro_x    gyro_y    gyro_z\nTime                                                                       \n17-14-53   1.29  0.046402 -0.137178 -0.282934 -0.036306 -0.008226 -0.023416\n17-14-53   1.29 -0.136978  0.365242  0.108889  0.035776 -0.009448  0.009570\n17-14-53   1.29 -0.045355 -0.103340 -0.534985 -0.011871 -0.027774  0.003462\n17-14-53   0.31  0.242089  0.072761 -0.350396 -0.017980  0.002769 -0.005091\n17-14-53   0.31 -0.230234  0.011765 -0.494085  0.011342  0.003380  0.006516\n...         ...       ...       ...       ...       ...       ...       ...\n18-56-18   0.00 -0.436406 -0.219264  0.397958 -0.051089 -0.001975 -0.058989\n18-56-18   0.00 -0.436406 -0.219264  0.397958 -0.001609  0.024903  0.000876\n18-56-18   0.00 -0.436406 -0.219264  0.397958 -0.001609  0.024903  0.000876\n18-56-18   0.00 -0.436406 -0.219264  0.397958 -0.001609  0.024903  0.000876\n18-56-18   0.00 -0.436406 -0.219264  0.397958 -0.001609  0.024903  0.000876\n\n[14249 rows x 7 columns]",
      "text/html": "<div>\n<style scoped>\n    .dataframe tbody tr th:only-of-type {\n        vertical-align: middle;\n    }\n\n    .dataframe tbody tr th {\n        vertical-align: top;\n    }\n\n    .dataframe thead th {\n        text-align: right;\n    }\n</style>\n<table border=\"1\" class=\"dataframe\">\n  <thead>\n    <tr style=\"text-align: right;\">\n      <th></th>\n      <th>Speed</th>\n      <th>Acc X</th>\n      <th>Acc Y</th>\n      <th>Acc Z</th>\n      <th>gyro_x</th>\n      <th>gyro_y</th>\n      <th>gyro_z</th>\n    </tr>\n    <tr>\n      <th>Time</th>\n      <th></th>\n      <th></th>\n      <th></th>\n      <th></th>\n      <th></th>\n      <th></th>\n      <th></th>\n    </tr>\n  </thead>\n  <tbody>\n    <tr>\n      <th>17-14-53</th>\n      <td>1.29</td>\n      <td>0.046402</td>\n      <td>-0.137178</td>\n      <td>-0.282934</td>\n      <td>-0.036306</td>\n      <td>-0.008226</td>\n      <td>-0.023416</td>\n    </tr>\n    <tr>\n      <th>17-14-53</th>\n      <td>1.29</td>\n      <td>-0.136978</td>\n      <td>0.365242</td>\n      <td>0.108889</td>\n      <td>0.035776</td>\n      <td>-0.009448</td>\n      <td>0.009570</td>\n    </tr>\n    <tr>\n      <th>17-14-53</th>\n      <td>1.29</td>\n      <td>-0.045355</td>\n      <td>-0.103340</td>\n      <td>-0.534985</td>\n      <td>-0.011871</td>\n      <td>-0.027774</td>\n      <td>0.003462</td>\n    </tr>\n    <tr>\n      <th>17-14-53</th>\n      <td>0.31</td>\n      <td>0.242089</td>\n      <td>0.072761</td>\n      <td>-0.350396</td>\n      <td>-0.017980</td>\n      <td>0.002769</td>\n      <td>-0.005091</td>\n    </tr>\n    <tr>\n      <th>17-14-53</th>\n      <td>0.31</td>\n      <td>-0.230234</td>\n      <td>0.011765</td>\n      <td>-0.494085</td>\n      <td>0.011342</td>\n      <td>0.003380</td>\n      <td>0.006516</td>\n    </tr>\n    <tr>\n      <th>...</th>\n      <td>...</td>\n      <td>...</td>\n      <td>...</td>\n      <td>...</td>\n      <td>...</td>\n      <td>...</td>\n      <td>...</td>\n    </tr>\n    <tr>\n      <th>18-56-18</th>\n      <td>0.00</td>\n      <td>-0.436406</td>\n      <td>-0.219264</td>\n      <td>0.397958</td>\n      <td>-0.051089</td>\n      <td>-0.001975</td>\n      <td>-0.058989</td>\n    </tr>\n    <tr>\n      <th>18-56-18</th>\n      <td>0.00</td>\n      <td>-0.436406</td>\n      <td>-0.219264</td>\n      <td>0.397958</td>\n      <td>-0.001609</td>\n      <td>0.024903</td>\n      <td>0.000876</td>\n    </tr>\n    <tr>\n      <th>18-56-18</th>\n      <td>0.00</td>\n      <td>-0.436406</td>\n      <td>-0.219264</td>\n      <td>0.397958</td>\n      <td>-0.001609</td>\n      <td>0.024903</td>\n      <td>0.000876</td>\n    </tr>\n    <tr>\n      <th>18-56-18</th>\n      <td>0.00</td>\n      <td>-0.436406</td>\n      <td>-0.219264</td>\n      <td>0.397958</td>\n      <td>-0.001609</td>\n      <td>0.024903</td>\n      <td>0.000876</td>\n    </tr>\n    <tr>\n      <th>18-56-18</th>\n      <td>0.00</td>\n      <td>-0.436406</td>\n      <td>-0.219264</td>\n      <td>0.397958</td>\n      <td>-0.001609</td>\n      <td>0.024903</td>\n      <td>0.000876</td>\n    </tr>\n  </tbody>\n</table>\n<p>14249 rows × 7 columns</p>\n</div>"
     },
     "execution_count": 15,
     "metadata": {},
     "output_type": "execute_result"
    }
   ],
   "source": [
    "X"
   ],
   "metadata": {
    "collapsed": false,
    "pycharm": {
     "name": "#%%\n"
    }
   }
  },
  {
   "cell_type": "code",
   "execution_count": 16,
   "outputs": [
    {
     "data": {
      "text/plain": "Time\n17-14-53    0\n17-14-53    0\n17-14-53    0\n17-14-53    0\n17-14-53    0\n           ..\n18-56-18    0\n18-56-18    0\n18-56-18    0\n18-56-18    0\n18-56-18    0\nName: label, Length: 14249, dtype: int64"
     },
     "execution_count": 16,
     "metadata": {},
     "output_type": "execute_result"
    }
   ],
   "source": [
    "y"
   ],
   "metadata": {
    "collapsed": false,
    "pycharm": {
     "name": "#%%\n"
    }
   }
  },
  {
   "cell_type": "code",
   "execution_count": 17,
   "outputs": [],
   "source": [
    "from sklearn.model_selection import train_test_split\n",
    "from sklearn.tree import DecisionTreeClassifier\n",
    "from sklearn.metrics import classification_report,confusion_matrix"
   ],
   "metadata": {
    "collapsed": false,
    "pycharm": {
     "name": "#%%\n"
    }
   }
  },
  {
   "cell_type": "code",
   "execution_count": 20,
   "outputs": [],
   "source": [
    "x_train, x_test, y_train, y_test = train_test_split(X, y,train_size = 0.8, test_size = 0.2, random_state = 0,stratify = y)"
   ],
   "metadata": {
    "collapsed": false,
    "pycharm": {
     "name": "#%%\n"
    }
   }
  },
  {
   "cell_type": "code",
   "execution_count": 21,
   "outputs": [
    {
     "data": {
      "text/plain": "(11399, 7)"
     },
     "execution_count": 21,
     "metadata": {},
     "output_type": "execute_result"
    }
   ],
   "source": [
    "x_train.shape"
   ],
   "metadata": {
    "collapsed": false,
    "pycharm": {
     "name": "#%%\n"
    }
   }
  },
  {
   "cell_type": "code",
   "execution_count": 22,
   "outputs": [
    {
     "data": {
      "text/plain": "(2850, 7)"
     },
     "execution_count": 22,
     "metadata": {},
     "output_type": "execute_result"
    }
   ],
   "source": [
    "x_test.shape"
   ],
   "metadata": {
    "collapsed": false,
    "pycharm": {
     "name": "#%%\n"
    }
   }
  },
  {
   "cell_type": "code",
   "execution_count": 23,
   "outputs": [
    {
     "data": {
      "text/plain": "(11399,)"
     },
     "execution_count": 23,
     "metadata": {},
     "output_type": "execute_result"
    }
   ],
   "source": [
    "y_train.shape"
   ],
   "metadata": {
    "collapsed": false,
    "pycharm": {
     "name": "#%%\n"
    }
   }
  },
  {
   "cell_type": "code",
   "execution_count": 24,
   "outputs": [
    {
     "data": {
      "text/plain": "Time\n18-46-11    1\n18-52-29    1\n17-22-01    1\n17-15-31    1\n17-22-49    1\n           ..\n17-21-27    0\n18-50-39    1\n17-27-26    0\n17-15-25    1\n18-53-24    1\nName: label, Length: 11399, dtype: int64"
     },
     "execution_count": 24,
     "metadata": {},
     "output_type": "execute_result"
    }
   ],
   "source": [
    "y_train"
   ],
   "metadata": {
    "collapsed": false,
    "pycharm": {
     "name": "#%%\n"
    }
   }
  },
  {
   "cell_type": "code",
   "execution_count": 25,
   "outputs": [
    {
     "data": {
      "text/plain": "(2850,)"
     },
     "execution_count": 25,
     "metadata": {},
     "output_type": "execute_result"
    }
   ],
   "source": [
    "y_test.shape"
   ],
   "metadata": {
    "collapsed": false,
    "pycharm": {
     "name": "#%%\n"
    }
   }
  },
  {
   "cell_type": "code",
   "execution_count": 26,
   "outputs": [
    {
     "data": {
      "text/plain": "Time\n18-53-03    1\n17-19-52    1\n17-23-58    1\n17-25-37    0\n18-52-10    1\n           ..\n17-20-01    1\n18-46-39    1\n17-22-06    1\n18-48-02    1\n17-18-38    0\nName: label, Length: 2850, dtype: int64"
     },
     "execution_count": 26,
     "metadata": {},
     "output_type": "execute_result"
    }
   ],
   "source": [
    "y_test"
   ],
   "metadata": {
    "collapsed": false,
    "pycharm": {
     "name": "#%%\n"
    }
   }
  },
  {
   "cell_type": "code",
   "execution_count": 27,
   "outputs": [
    {
     "data": {
      "text/plain": "DecisionTreeClassifier(random_state=42)",
      "text/html": "<style>#sk-container-id-1 {color: black;background-color: white;}#sk-container-id-1 pre{padding: 0;}#sk-container-id-1 div.sk-toggleable {background-color: white;}#sk-container-id-1 label.sk-toggleable__label {cursor: pointer;display: block;width: 100%;margin-bottom: 0;padding: 0.3em;box-sizing: border-box;text-align: center;}#sk-container-id-1 label.sk-toggleable__label-arrow:before {content: \"▸\";float: left;margin-right: 0.25em;color: #696969;}#sk-container-id-1 label.sk-toggleable__label-arrow:hover:before {color: black;}#sk-container-id-1 div.sk-estimator:hover label.sk-toggleable__label-arrow:before {color: black;}#sk-container-id-1 div.sk-toggleable__content {max-height: 0;max-width: 0;overflow: hidden;text-align: left;background-color: #f0f8ff;}#sk-container-id-1 div.sk-toggleable__content pre {margin: 0.2em;color: black;border-radius: 0.25em;background-color: #f0f8ff;}#sk-container-id-1 input.sk-toggleable__control:checked~div.sk-toggleable__content {max-height: 200px;max-width: 100%;overflow: auto;}#sk-container-id-1 input.sk-toggleable__control:checked~label.sk-toggleable__label-arrow:before {content: \"▾\";}#sk-container-id-1 div.sk-estimator input.sk-toggleable__control:checked~label.sk-toggleable__label {background-color: #d4ebff;}#sk-container-id-1 div.sk-label input.sk-toggleable__control:checked~label.sk-toggleable__label {background-color: #d4ebff;}#sk-container-id-1 input.sk-hidden--visually {border: 0;clip: rect(1px 1px 1px 1px);clip: rect(1px, 1px, 1px, 1px);height: 1px;margin: -1px;overflow: hidden;padding: 0;position: absolute;width: 1px;}#sk-container-id-1 div.sk-estimator {font-family: monospace;background-color: #f0f8ff;border: 1px dotted black;border-radius: 0.25em;box-sizing: border-box;margin-bottom: 0.5em;}#sk-container-id-1 div.sk-estimator:hover {background-color: #d4ebff;}#sk-container-id-1 div.sk-parallel-item::after {content: \"\";width: 100%;border-bottom: 1px solid gray;flex-grow: 1;}#sk-container-id-1 div.sk-label:hover label.sk-toggleable__label {background-color: #d4ebff;}#sk-container-id-1 div.sk-serial::before {content: \"\";position: absolute;border-left: 1px solid gray;box-sizing: border-box;top: 0;bottom: 0;left: 50%;z-index: 0;}#sk-container-id-1 div.sk-serial {display: flex;flex-direction: column;align-items: center;background-color: white;padding-right: 0.2em;padding-left: 0.2em;position: relative;}#sk-container-id-1 div.sk-item {position: relative;z-index: 1;}#sk-container-id-1 div.sk-parallel {display: flex;align-items: stretch;justify-content: center;background-color: white;position: relative;}#sk-container-id-1 div.sk-item::before, #sk-container-id-1 div.sk-parallel-item::before {content: \"\";position: absolute;border-left: 1px solid gray;box-sizing: border-box;top: 0;bottom: 0;left: 50%;z-index: -1;}#sk-container-id-1 div.sk-parallel-item {display: flex;flex-direction: column;z-index: 1;position: relative;background-color: white;}#sk-container-id-1 div.sk-parallel-item:first-child::after {align-self: flex-end;width: 50%;}#sk-container-id-1 div.sk-parallel-item:last-child::after {align-self: flex-start;width: 50%;}#sk-container-id-1 div.sk-parallel-item:only-child::after {width: 0;}#sk-container-id-1 div.sk-dashed-wrapped {border: 1px dashed gray;margin: 0 0.4em 0.5em 0.4em;box-sizing: border-box;padding-bottom: 0.4em;background-color: white;}#sk-container-id-1 div.sk-label label {font-family: monospace;font-weight: bold;display: inline-block;line-height: 1.2em;}#sk-container-id-1 div.sk-label-container {text-align: center;}#sk-container-id-1 div.sk-container {/* jupyter's `normalize.less` sets `[hidden] { display: none; }` but bootstrap.min.css set `[hidden] { display: none !important; }` so we also need the `!important` here to be able to override the default hidden behavior on the sphinx rendered scikit-learn.org. See: https://github.com/scikit-learn/scikit-learn/issues/21755 */display: inline-block !important;position: relative;}#sk-container-id-1 div.sk-text-repr-fallback {display: none;}</style><div id=\"sk-container-id-1\" class=\"sk-top-container\"><div class=\"sk-text-repr-fallback\"><pre>DecisionTreeClassifier(random_state=42)</pre><b>In a Jupyter environment, please rerun this cell to show the HTML representation or trust the notebook. <br />On GitHub, the HTML representation is unable to render, please try loading this page with nbviewer.org.</b></div><div class=\"sk-container\" hidden><div class=\"sk-item\"><div class=\"sk-estimator sk-toggleable\"><input class=\"sk-toggleable__control sk-hidden--visually\" id=\"sk-estimator-id-1\" type=\"checkbox\" checked><label for=\"sk-estimator-id-1\" class=\"sk-toggleable__label sk-toggleable__label-arrow\">DecisionTreeClassifier</label><div class=\"sk-toggleable__content\"><pre>DecisionTreeClassifier(random_state=42)</pre></div></div></div></div></div>"
     },
     "execution_count": 27,
     "metadata": {},
     "output_type": "execute_result"
    }
   ],
   "source": [
    "dt = DecisionTreeClassifier(criterion='gini', splitter='best', max_depth=None, min_samples_split=2, min_samples_leaf=1, min_weight_fraction_leaf=0.0, max_features=None, random_state=42, max_leaf_nodes=None, min_impurity_decrease=0.0, class_weight=None, ccp_alpha=0.0)\n",
    "dt.fit(x_train,y_train)"
   ],
   "metadata": {
    "collapsed": false,
    "pycharm": {
     "name": "#%%\n"
    }
   }
  },
  {
   "cell_type": "code",
   "execution_count": 28,
   "outputs": [],
   "source": [
    "dt_score=dt.score(x_test,y_test)\n",
    "y_tr_pred=dt.predict(x_train)\n",
    "y_predict=dt.predict(x_test)\n",
    "y_true=y_test"
   ],
   "metadata": {
    "collapsed": false,
    "pycharm": {
     "name": "#%%\n"
    }
   }
  },
  {
   "cell_type": "code",
   "execution_count": 29,
   "outputs": [
    {
     "name": "stdout",
     "output_type": "stream",
     "text": [
      "\n",
      "TRAINING DATA:\n",
      "              precision    recall  f1-score   support\n",
      "\n",
      "      Normal       1.00      1.00      1.00      5102\n",
      "    Reckless       1.00      1.00      1.00      6297\n",
      "\n",
      "    accuracy                           1.00     11399\n",
      "   macro avg       1.00      1.00      1.00     11399\n",
      "weighted avg       1.00      1.00      1.00     11399\n",
      "\n",
      "1.0\n",
      "\n",
      "TEST DATA:\n",
      "              precision    recall  f1-score   support\n",
      "\n",
      "      Normal       0.65      0.66      0.66      1275\n",
      "    Reckless       0.72      0.71      0.72      1575\n",
      "\n",
      "    accuracy                           0.69      2850\n",
      "   macro avg       0.69      0.69      0.69      2850\n",
      "weighted avg       0.69      0.69      0.69      2850\n",
      "\n",
      "0.6898245614035088\n"
     ]
    }
   ],
   "source": [
    "from sklearn import metrics\n",
    "print(\"\\nTRAINING DATA:\")\n",
    "print(classification_report(y_train, y_tr_pred, target_names=['Normal', 'Reckless']))\n",
    "print(metrics.accuracy_score(y_train, y_tr_pred))\n",
    "\n",
    "print(\"\\nTEST DATA:\")\n",
    "print(classification_report(y_test, y_predict, target_names=['Normal', 'Reckless']))\n",
    "print(metrics.accuracy_score(y_test, y_predict))"
   ],
   "metadata": {
    "collapsed": false,
    "pycharm": {
     "name": "#%%\n"
    }
   }
  },
  {
   "cell_type": "code",
   "execution_count": 30,
   "outputs": [],
   "source": [
    "x_train, x_test, y_train, y_test = train_test_split(X, y,train_size = 0.7, test_size = 0.3, random_state = 0,stratify = y)"
   ],
   "metadata": {
    "collapsed": false,
    "pycharm": {
     "name": "#%%\n"
    }
   }
  },
  {
   "cell_type": "code",
   "execution_count": 31,
   "outputs": [
    {
     "data": {
      "text/plain": "(9974, 7)"
     },
     "execution_count": 31,
     "metadata": {},
     "output_type": "execute_result"
    }
   ],
   "source": [
    "x_train.shape"
   ],
   "metadata": {
    "collapsed": false,
    "pycharm": {
     "name": "#%%\n"
    }
   }
  },
  {
   "cell_type": "code",
   "execution_count": 32,
   "outputs": [
    {
     "data": {
      "text/plain": "(4275, 7)"
     },
     "execution_count": 32,
     "metadata": {},
     "output_type": "execute_result"
    }
   ],
   "source": [
    "x_test.shape"
   ],
   "metadata": {
    "collapsed": false,
    "pycharm": {
     "name": "#%%\n"
    }
   }
  },
  {
   "cell_type": "code",
   "execution_count": 33,
   "outputs": [
    {
     "data": {
      "text/plain": "(9974,)"
     },
     "execution_count": 33,
     "metadata": {},
     "output_type": "execute_result"
    }
   ],
   "source": [
    "y_train.shape"
   ],
   "metadata": {
    "collapsed": false,
    "pycharm": {
     "name": "#%%\n"
    }
   }
  },
  {
   "cell_type": "code",
   "execution_count": 34,
   "outputs": [
    {
     "data": {
      "text/plain": "(4275,)"
     },
     "execution_count": 34,
     "metadata": {},
     "output_type": "execute_result"
    }
   ],
   "source": [
    "y_test.shape"
   ],
   "metadata": {
    "collapsed": false,
    "pycharm": {
     "name": "#%%\n"
    }
   }
  },
  {
   "cell_type": "code",
   "execution_count": 35,
   "outputs": [
    {
     "data": {
      "text/plain": "Time\n17-16-58    0\n17-20-52    0\n17-17-30    1\n17-24-59    0\n17-27-04    0\n           ..\n18-48-21    1\n18-53-15    1\n17-19-39    1\n18-55-49    0\n17-20-01    1\nName: label, Length: 4275, dtype: int64"
     },
     "execution_count": 35,
     "metadata": {},
     "output_type": "execute_result"
    }
   ],
   "source": [
    "y_test"
   ],
   "metadata": {
    "collapsed": false,
    "pycharm": {
     "name": "#%%\n"
    }
   }
  },
  {
   "cell_type": "code",
   "execution_count": 36,
   "outputs": [
    {
     "data": {
      "text/plain": "DecisionTreeClassifier(random_state=42)",
      "text/html": "<style>#sk-container-id-2 {color: black;background-color: white;}#sk-container-id-2 pre{padding: 0;}#sk-container-id-2 div.sk-toggleable {background-color: white;}#sk-container-id-2 label.sk-toggleable__label {cursor: pointer;display: block;width: 100%;margin-bottom: 0;padding: 0.3em;box-sizing: border-box;text-align: center;}#sk-container-id-2 label.sk-toggleable__label-arrow:before {content: \"▸\";float: left;margin-right: 0.25em;color: #696969;}#sk-container-id-2 label.sk-toggleable__label-arrow:hover:before {color: black;}#sk-container-id-2 div.sk-estimator:hover label.sk-toggleable__label-arrow:before {color: black;}#sk-container-id-2 div.sk-toggleable__content {max-height: 0;max-width: 0;overflow: hidden;text-align: left;background-color: #f0f8ff;}#sk-container-id-2 div.sk-toggleable__content pre {margin: 0.2em;color: black;border-radius: 0.25em;background-color: #f0f8ff;}#sk-container-id-2 input.sk-toggleable__control:checked~div.sk-toggleable__content {max-height: 200px;max-width: 100%;overflow: auto;}#sk-container-id-2 input.sk-toggleable__control:checked~label.sk-toggleable__label-arrow:before {content: \"▾\";}#sk-container-id-2 div.sk-estimator input.sk-toggleable__control:checked~label.sk-toggleable__label {background-color: #d4ebff;}#sk-container-id-2 div.sk-label input.sk-toggleable__control:checked~label.sk-toggleable__label {background-color: #d4ebff;}#sk-container-id-2 input.sk-hidden--visually {border: 0;clip: rect(1px 1px 1px 1px);clip: rect(1px, 1px, 1px, 1px);height: 1px;margin: -1px;overflow: hidden;padding: 0;position: absolute;width: 1px;}#sk-container-id-2 div.sk-estimator {font-family: monospace;background-color: #f0f8ff;border: 1px dotted black;border-radius: 0.25em;box-sizing: border-box;margin-bottom: 0.5em;}#sk-container-id-2 div.sk-estimator:hover {background-color: #d4ebff;}#sk-container-id-2 div.sk-parallel-item::after {content: \"\";width: 100%;border-bottom: 1px solid gray;flex-grow: 1;}#sk-container-id-2 div.sk-label:hover label.sk-toggleable__label {background-color: #d4ebff;}#sk-container-id-2 div.sk-serial::before {content: \"\";position: absolute;border-left: 1px solid gray;box-sizing: border-box;top: 0;bottom: 0;left: 50%;z-index: 0;}#sk-container-id-2 div.sk-serial {display: flex;flex-direction: column;align-items: center;background-color: white;padding-right: 0.2em;padding-left: 0.2em;position: relative;}#sk-container-id-2 div.sk-item {position: relative;z-index: 1;}#sk-container-id-2 div.sk-parallel {display: flex;align-items: stretch;justify-content: center;background-color: white;position: relative;}#sk-container-id-2 div.sk-item::before, #sk-container-id-2 div.sk-parallel-item::before {content: \"\";position: absolute;border-left: 1px solid gray;box-sizing: border-box;top: 0;bottom: 0;left: 50%;z-index: -1;}#sk-container-id-2 div.sk-parallel-item {display: flex;flex-direction: column;z-index: 1;position: relative;background-color: white;}#sk-container-id-2 div.sk-parallel-item:first-child::after {align-self: flex-end;width: 50%;}#sk-container-id-2 div.sk-parallel-item:last-child::after {align-self: flex-start;width: 50%;}#sk-container-id-2 div.sk-parallel-item:only-child::after {width: 0;}#sk-container-id-2 div.sk-dashed-wrapped {border: 1px dashed gray;margin: 0 0.4em 0.5em 0.4em;box-sizing: border-box;padding-bottom: 0.4em;background-color: white;}#sk-container-id-2 div.sk-label label {font-family: monospace;font-weight: bold;display: inline-block;line-height: 1.2em;}#sk-container-id-2 div.sk-label-container {text-align: center;}#sk-container-id-2 div.sk-container {/* jupyter's `normalize.less` sets `[hidden] { display: none; }` but bootstrap.min.css set `[hidden] { display: none !important; }` so we also need the `!important` here to be able to override the default hidden behavior on the sphinx rendered scikit-learn.org. See: https://github.com/scikit-learn/scikit-learn/issues/21755 */display: inline-block !important;position: relative;}#sk-container-id-2 div.sk-text-repr-fallback {display: none;}</style><div id=\"sk-container-id-2\" class=\"sk-top-container\"><div class=\"sk-text-repr-fallback\"><pre>DecisionTreeClassifier(random_state=42)</pre><b>In a Jupyter environment, please rerun this cell to show the HTML representation or trust the notebook. <br />On GitHub, the HTML representation is unable to render, please try loading this page with nbviewer.org.</b></div><div class=\"sk-container\" hidden><div class=\"sk-item\"><div class=\"sk-estimator sk-toggleable\"><input class=\"sk-toggleable__control sk-hidden--visually\" id=\"sk-estimator-id-2\" type=\"checkbox\" checked><label for=\"sk-estimator-id-2\" class=\"sk-toggleable__label sk-toggleable__label-arrow\">DecisionTreeClassifier</label><div class=\"sk-toggleable__content\"><pre>DecisionTreeClassifier(random_state=42)</pre></div></div></div></div></div>"
     },
     "execution_count": 36,
     "metadata": {},
     "output_type": "execute_result"
    }
   ],
   "source": [
    "dt = DecisionTreeClassifier(criterion='gini', splitter='best', max_depth=None, min_samples_split=2, min_samples_leaf=1, min_weight_fraction_leaf=0.0, max_features=None, random_state=42, max_leaf_nodes=None, min_impurity_decrease=0.0, class_weight=None, ccp_alpha=0.0)\n",
    "dt.fit(x_train,y_train)"
   ],
   "metadata": {
    "collapsed": false,
    "pycharm": {
     "name": "#%%\n"
    }
   }
  },
  {
   "cell_type": "code",
   "execution_count": 37,
   "outputs": [],
   "source": [
    "dt_score=dt.score(x_test,y_test)\n",
    "y_tr_pred=dt.predict(x_train)\n",
    "y_predict=dt.predict(x_test)\n",
    "y_true=y_test"
   ],
   "metadata": {
    "collapsed": false,
    "pycharm": {
     "name": "#%%\n"
    }
   }
  },
  {
   "cell_type": "code",
   "execution_count": 38,
   "outputs": [
    {
     "name": "stdout",
     "output_type": "stream",
     "text": [
      "\n",
      "TRAINING DATA:\n",
      "              precision    recall  f1-score   support\n",
      "\n",
      "      Normal       1.00      1.00      1.00      4464\n",
      "    Reckless       1.00      1.00      1.00      5510\n",
      "\n",
      "    accuracy                           1.00      9974\n",
      "   macro avg       1.00      1.00      1.00      9974\n",
      "weighted avg       1.00      1.00      1.00      9974\n",
      "\n",
      "1.0\n",
      "\n",
      "TEST DATA:\n",
      "              precision    recall  f1-score   support\n",
      "\n",
      "      Normal       0.66      0.64      0.65      1913\n",
      "    Reckless       0.72      0.73      0.72      2362\n",
      "\n",
      "    accuracy                           0.69      4275\n",
      "   macro avg       0.69      0.69      0.69      4275\n",
      "weighted avg       0.69      0.69      0.69      4275\n",
      "\n",
      "0.6923976608187135\n"
     ]
    }
   ],
   "source": [
    "from sklearn import metrics\n",
    "print(\"\\nTRAINING DATA:\")\n",
    "print(classification_report(y_train, y_tr_pred, target_names=['Normal', 'Reckless']))\n",
    "print(metrics.accuracy_score(y_train, y_tr_pred))\n",
    "\n",
    "print(\"\\nTEST DATA:\")\n",
    "print(classification_report(y_test, y_predict, target_names=['Normal', 'Reckless']))\n",
    "print(metrics.accuracy_score(y_test, y_predict))"
   ],
   "metadata": {
    "collapsed": false,
    "pycharm": {
     "name": "#%%\n"
    }
   }
  },
  {
   "cell_type": "code",
   "execution_count": 39,
   "outputs": [],
   "source": [
    "x_train, x_test, y_train, y_test = train_test_split(X, y,train_size = 0.9, test_size = 0.1, random_state = 0,stratify = y)"
   ],
   "metadata": {
    "collapsed": false,
    "pycharm": {
     "name": "#%%\n"
    }
   }
  },
  {
   "cell_type": "code",
   "execution_count": 40,
   "outputs": [
    {
     "data": {
      "text/plain": "(12824, 7)"
     },
     "execution_count": 40,
     "metadata": {},
     "output_type": "execute_result"
    }
   ],
   "source": [
    "x_train.shape"
   ],
   "metadata": {
    "collapsed": false,
    "pycharm": {
     "name": "#%%\n"
    }
   }
  },
  {
   "cell_type": "code",
   "execution_count": 41,
   "outputs": [
    {
     "data": {
      "text/plain": "(1425, 7)"
     },
     "execution_count": 41,
     "metadata": {},
     "output_type": "execute_result"
    }
   ],
   "source": [
    "x_test.shape"
   ],
   "metadata": {
    "collapsed": false,
    "pycharm": {
     "name": "#%%\n"
    }
   }
  },
  {
   "cell_type": "code",
   "execution_count": 42,
   "outputs": [
    {
     "data": {
      "text/plain": "(12824,)"
     },
     "execution_count": 42,
     "metadata": {},
     "output_type": "execute_result"
    }
   ],
   "source": [
    "y_train.shape"
   ],
   "metadata": {
    "collapsed": false,
    "pycharm": {
     "name": "#%%\n"
    }
   }
  },
  {
   "cell_type": "code",
   "execution_count": 43,
   "outputs": [
    {
     "data": {
      "text/plain": "(1425,)"
     },
     "execution_count": 43,
     "metadata": {},
     "output_type": "execute_result"
    }
   ],
   "source": [
    "y_test.shape"
   ],
   "metadata": {
    "collapsed": false,
    "pycharm": {
     "name": "#%%\n"
    }
   }
  },
  {
   "cell_type": "code",
   "execution_count": 44,
   "outputs": [
    {
     "data": {
      "text/plain": "Time\n17-16-26    0\n17-19-36    1\n17-26-26    0\n18-53-27    1\n18-53-06    1\n           ..\n17-22-32    1\n17-16-35    0\n17-25-54    0\n18-52-36    1\n17-15-03    0\nName: label, Length: 1425, dtype: int64"
     },
     "execution_count": 44,
     "metadata": {},
     "output_type": "execute_result"
    }
   ],
   "source": [
    "y_test"
   ],
   "metadata": {
    "collapsed": false,
    "pycharm": {
     "name": "#%%\n"
    }
   }
  },
  {
   "cell_type": "code",
   "execution_count": 45,
   "outputs": [
    {
     "data": {
      "text/plain": "DecisionTreeClassifier(random_state=42)",
      "text/html": "<style>#sk-container-id-3 {color: black;background-color: white;}#sk-container-id-3 pre{padding: 0;}#sk-container-id-3 div.sk-toggleable {background-color: white;}#sk-container-id-3 label.sk-toggleable__label {cursor: pointer;display: block;width: 100%;margin-bottom: 0;padding: 0.3em;box-sizing: border-box;text-align: center;}#sk-container-id-3 label.sk-toggleable__label-arrow:before {content: \"▸\";float: left;margin-right: 0.25em;color: #696969;}#sk-container-id-3 label.sk-toggleable__label-arrow:hover:before {color: black;}#sk-container-id-3 div.sk-estimator:hover label.sk-toggleable__label-arrow:before {color: black;}#sk-container-id-3 div.sk-toggleable__content {max-height: 0;max-width: 0;overflow: hidden;text-align: left;background-color: #f0f8ff;}#sk-container-id-3 div.sk-toggleable__content pre {margin: 0.2em;color: black;border-radius: 0.25em;background-color: #f0f8ff;}#sk-container-id-3 input.sk-toggleable__control:checked~div.sk-toggleable__content {max-height: 200px;max-width: 100%;overflow: auto;}#sk-container-id-3 input.sk-toggleable__control:checked~label.sk-toggleable__label-arrow:before {content: \"▾\";}#sk-container-id-3 div.sk-estimator input.sk-toggleable__control:checked~label.sk-toggleable__label {background-color: #d4ebff;}#sk-container-id-3 div.sk-label input.sk-toggleable__control:checked~label.sk-toggleable__label {background-color: #d4ebff;}#sk-container-id-3 input.sk-hidden--visually {border: 0;clip: rect(1px 1px 1px 1px);clip: rect(1px, 1px, 1px, 1px);height: 1px;margin: -1px;overflow: hidden;padding: 0;position: absolute;width: 1px;}#sk-container-id-3 div.sk-estimator {font-family: monospace;background-color: #f0f8ff;border: 1px dotted black;border-radius: 0.25em;box-sizing: border-box;margin-bottom: 0.5em;}#sk-container-id-3 div.sk-estimator:hover {background-color: #d4ebff;}#sk-container-id-3 div.sk-parallel-item::after {content: \"\";width: 100%;border-bottom: 1px solid gray;flex-grow: 1;}#sk-container-id-3 div.sk-label:hover label.sk-toggleable__label {background-color: #d4ebff;}#sk-container-id-3 div.sk-serial::before {content: \"\";position: absolute;border-left: 1px solid gray;box-sizing: border-box;top: 0;bottom: 0;left: 50%;z-index: 0;}#sk-container-id-3 div.sk-serial {display: flex;flex-direction: column;align-items: center;background-color: white;padding-right: 0.2em;padding-left: 0.2em;position: relative;}#sk-container-id-3 div.sk-item {position: relative;z-index: 1;}#sk-container-id-3 div.sk-parallel {display: flex;align-items: stretch;justify-content: center;background-color: white;position: relative;}#sk-container-id-3 div.sk-item::before, #sk-container-id-3 div.sk-parallel-item::before {content: \"\";position: absolute;border-left: 1px solid gray;box-sizing: border-box;top: 0;bottom: 0;left: 50%;z-index: -1;}#sk-container-id-3 div.sk-parallel-item {display: flex;flex-direction: column;z-index: 1;position: relative;background-color: white;}#sk-container-id-3 div.sk-parallel-item:first-child::after {align-self: flex-end;width: 50%;}#sk-container-id-3 div.sk-parallel-item:last-child::after {align-self: flex-start;width: 50%;}#sk-container-id-3 div.sk-parallel-item:only-child::after {width: 0;}#sk-container-id-3 div.sk-dashed-wrapped {border: 1px dashed gray;margin: 0 0.4em 0.5em 0.4em;box-sizing: border-box;padding-bottom: 0.4em;background-color: white;}#sk-container-id-3 div.sk-label label {font-family: monospace;font-weight: bold;display: inline-block;line-height: 1.2em;}#sk-container-id-3 div.sk-label-container {text-align: center;}#sk-container-id-3 div.sk-container {/* jupyter's `normalize.less` sets `[hidden] { display: none; }` but bootstrap.min.css set `[hidden] { display: none !important; }` so we also need the `!important` here to be able to override the default hidden behavior on the sphinx rendered scikit-learn.org. See: https://github.com/scikit-learn/scikit-learn/issues/21755 */display: inline-block !important;position: relative;}#sk-container-id-3 div.sk-text-repr-fallback {display: none;}</style><div id=\"sk-container-id-3\" class=\"sk-top-container\"><div class=\"sk-text-repr-fallback\"><pre>DecisionTreeClassifier(random_state=42)</pre><b>In a Jupyter environment, please rerun this cell to show the HTML representation or trust the notebook. <br />On GitHub, the HTML representation is unable to render, please try loading this page with nbviewer.org.</b></div><div class=\"sk-container\" hidden><div class=\"sk-item\"><div class=\"sk-estimator sk-toggleable\"><input class=\"sk-toggleable__control sk-hidden--visually\" id=\"sk-estimator-id-3\" type=\"checkbox\" checked><label for=\"sk-estimator-id-3\" class=\"sk-toggleable__label sk-toggleable__label-arrow\">DecisionTreeClassifier</label><div class=\"sk-toggleable__content\"><pre>DecisionTreeClassifier(random_state=42)</pre></div></div></div></div></div>"
     },
     "execution_count": 45,
     "metadata": {},
     "output_type": "execute_result"
    }
   ],
   "source": [
    "dt = DecisionTreeClassifier(criterion='gini', splitter='best', max_depth=None, min_samples_split=2, min_samples_leaf=1, min_weight_fraction_leaf=0.0, max_features=None, random_state=42, max_leaf_nodes=None, min_impurity_decrease=0.0, class_weight=None, ccp_alpha=0.0)\n",
    "dt.fit(x_train,y_train)"
   ],
   "metadata": {
    "collapsed": false,
    "pycharm": {
     "name": "#%%\n"
    }
   }
  },
  {
   "cell_type": "code",
   "execution_count": 46,
   "outputs": [],
   "source": [
    "dt_score=dt.score(x_test,y_test)\n",
    "y_tr_pred=dt.predict(x_train)\n",
    "y_predict=dt.predict(x_test)\n",
    "y_true=y_test"
   ],
   "metadata": {
    "collapsed": false,
    "pycharm": {
     "name": "#%%\n"
    }
   }
  },
  {
   "cell_type": "code",
   "execution_count": 47,
   "outputs": [
    {
     "name": "stdout",
     "output_type": "stream",
     "text": [
      "\n",
      "TRAINING DATA:\n",
      "              precision    recall  f1-score   support\n",
      "\n",
      "      Normal       1.00      1.00      1.00      5739\n",
      "    Reckless       1.00      1.00      1.00      7085\n",
      "\n",
      "    accuracy                           1.00     12824\n",
      "   macro avg       1.00      1.00      1.00     12824\n",
      "weighted avg       1.00      1.00      1.00     12824\n",
      "\n",
      "1.0\n",
      "\n",
      "TEST DATA:\n",
      "              precision    recall  f1-score   support\n",
      "\n",
      "      Normal       0.67      0.67      0.67       638\n",
      "    Reckless       0.73      0.73      0.73       787\n",
      "\n",
      "    accuracy                           0.70      1425\n",
      "   macro avg       0.70      0.70      0.70      1425\n",
      "weighted avg       0.70      0.70      0.70      1425\n",
      "\n",
      "0.7031578947368421\n"
     ]
    }
   ],
   "source": [
    "from sklearn import metrics\n",
    "print(\"\\nTRAINING DATA:\")\n",
    "print(classification_report(y_train, y_tr_pred, target_names=['Normal', 'Reckless']))\n",
    "print(metrics.accuracy_score(y_train, y_tr_pred))\n",
    "\n",
    "print(\"\\nTEST DATA:\")\n",
    "print(classification_report(y_test, y_predict, target_names=['Normal', 'Reckless']))\n",
    "print(metrics.accuracy_score(y_test, y_predict))"
   ],
   "metadata": {
    "collapsed": false,
    "pycharm": {
     "name": "#%%\n"
    }
   }
  },
  {
   "cell_type": "code",
   "execution_count": 18,
   "outputs": [],
   "source": [
    "dt = DecisionTreeClassifier(criterion='gini', splitter='best', max_depth=None, min_samples_split=2, min_samples_leaf=1, min_weight_fraction_leaf=0.0, max_features=None, random_state=42, max_leaf_nodes=None, min_impurity_decrease=0.0, class_weight=None, ccp_alpha=0.0)"
   ],
   "metadata": {
    "collapsed": false,
    "pycharm": {
     "name": "#%%\n"
    }
   }
  },
  {
   "cell_type": "code",
   "execution_count": 19,
   "outputs": [],
   "source": [
    "from sklearn.model_selection import cross_validate\n",
    "_scoring = ['accuracy', 'precision', 'recall', 'f1']\n",
    "results = cross_validate(estimator=dt,X=X,y=y.values.ravel(),cv=4,scoring=_scoring,return_train_score=True)"
   ],
   "metadata": {
    "collapsed": false,
    "pycharm": {
     "name": "#%%\n"
    }
   }
  },
  {
   "cell_type": "code",
   "execution_count": 20,
   "outputs": [
    {
     "name": "stdout",
     "output_type": "stream",
     "text": [
      "\n",
      " TRAINING DATA METRICS:\n",
      "Training Accuracy scores: [1. 1. 1. 1.]\n",
      "Mean Training Accuracy: 100.0\n",
      "Training precision scores: [1. 1. 1. 1.]\n",
      "Mean Training precision: 1.0\n",
      "Training recall scores: [1. 1. 1. 1.]\n",
      "Mean Training recall: 1.0\n",
      "Training F-1 scores: [1. 1. 1. 1.]\n",
      "Mean Training F-1: 1.0\n",
      "\n",
      " TEST DATA METRICS:\n",
      "Test Accuracy scores: [0.59247825 0.5300393  0.55081415 0.49915778]\n",
      "Mean test Accuracy: 54.312236957828\n",
      "Test precision scores: [0.64365256 0.57379518 0.6233244  0.53409933]\n",
      "Mean Test precision: 0.5937178678980224\n",
      "Test recall scores: [0.58739837 0.58079268 0.47256098 0.73221545]\n",
      "Mean Test recall: 0.5932418699186992\n",
      "Test F-1 scores: [0.61424017 0.57727273 0.53757225 0.61765967]\n",
      "Mean Test F-1: 0.5866862043265981\n"
     ]
    }
   ],
   "source": [
    "print(\"\\n TRAINING DATA METRICS:\")\n",
    "print(\"Training Accuracy scores:\",results['train_accuracy'])\n",
    "print(\"Mean Training Accuracy:\",results['train_accuracy'].mean()*100)\n",
    "print(\"Training precision scores:\",results['train_precision'])\n",
    "print(\"Mean Training precision:\",results['train_precision'].mean())\n",
    "print(\"Training recall scores:\",results['train_recall'])\n",
    "print(\"Mean Training recall:\",results['train_recall'].mean())\n",
    "print(\"Training F-1 scores:\",results['train_f1'])\n",
    "print(\"Mean Training F-1:\",results['train_f1'].mean())\n",
    "\n",
    "print(\"\\n TEST DATA METRICS:\")\n",
    "print(\"Test Accuracy scores:\",results['test_accuracy'])\n",
    "print(\"Mean test Accuracy:\",results['test_accuracy'].mean()*100)\n",
    "print(\"Test precision scores:\",results['test_precision'])\n",
    "print(\"Mean Test precision:\",results['test_precision'].mean())\n",
    "print(\"Test recall scores:\",results['test_recall'])\n",
    "print(\"Mean Test recall:\",results['test_recall'].mean())\n",
    "print(\"Test F-1 scores:\",results['test_f1'])\n",
    "print(\"Mean Test F-1:\",results['test_f1'].mean())"
   ],
   "metadata": {
    "collapsed": false,
    "pycharm": {
     "name": "#%%\n"
    }
   }
  },
  {
   "cell_type": "code",
   "execution_count": null,
   "outputs": [],
   "source": [],
   "metadata": {
    "collapsed": false,
    "pycharm": {
     "name": "#%%\n"
    }
   }
  }
 ],
 "metadata": {
  "kernelspec": {
   "display_name": "Python 3",
   "language": "python",
   "name": "python3"
  },
  "language_info": {
   "codemirror_mode": {
    "name": "ipython",
    "version": 2
   },
   "file_extension": ".py",
   "mimetype": "text/x-python",
   "name": "python",
   "nbconvert_exporter": "python",
   "pygments_lexer": "ipython2",
   "version": "2.7.6"
  }
 },
 "nbformat": 4,
 "nbformat_minor": 0
}