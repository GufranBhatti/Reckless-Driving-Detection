{
 "cells": [
  {
   "cell_type": "code",
   "execution_count": 1,
   "metadata": {
    "collapsed": true,
    "pycharm": {
     "name": "#%%\n"
    }
   },
   "outputs": [],
   "source": [
    "import pandas as pd\n",
    "import numpy as np\n",
    "from datetime import datetime\n",
    "import matplotlib.pyplot as plt"
   ]
  },
  {
   "cell_type": "code",
   "execution_count": 2,
   "outputs": [
    {
     "data": {
      "text/plain": "   Longitude   Latitude  Speed      Distance      Time     Acc X     Acc Y  \\\n0  73.831324  18.518700   1.29  8.312031e+06  17-14-53  0.046402 -0.137178   \n1  73.831324  18.518700   1.29  8.312031e+06  17-14-53 -0.136978  0.365242   \n2  73.831324  18.518700   1.29  8.312031e+06  17-14-53 -0.045355 -0.103340   \n3  73.831201  18.518714   0.31  1.302423e+01  17-14-53  0.242089  0.072761   \n4  73.831201  18.518714   0.31  1.302423e+01  17-14-53 -0.230234  0.011765   \n\n      Acc Z  Heading    gyro_x    gyro_y    gyro_z  \n0 -0.282934    265.0 -0.036306 -0.008226 -0.023416  \n1  0.108889    266.0  0.035776 -0.009448  0.009570  \n2 -0.534985    266.0 -0.011871 -0.027774  0.003462  \n3 -0.350396    266.0 -0.017980  0.002769 -0.005091  \n4 -0.494085    266.0  0.011342  0.003380  0.006516  ",
      "text/html": "<div>\n<style scoped>\n    .dataframe tbody tr th:only-of-type {\n        vertical-align: middle;\n    }\n\n    .dataframe tbody tr th {\n        vertical-align: top;\n    }\n\n    .dataframe thead th {\n        text-align: right;\n    }\n</style>\n<table border=\"1\" class=\"dataframe\">\n  <thead>\n    <tr style=\"text-align: right;\">\n      <th></th>\n      <th>Longitude</th>\n      <th>Latitude</th>\n      <th>Speed</th>\n      <th>Distance</th>\n      <th>Time</th>\n      <th>Acc X</th>\n      <th>Acc Y</th>\n      <th>Acc Z</th>\n      <th>Heading</th>\n      <th>gyro_x</th>\n      <th>gyro_y</th>\n      <th>gyro_z</th>\n    </tr>\n  </thead>\n  <tbody>\n    <tr>\n      <th>0</th>\n      <td>73.831324</td>\n      <td>18.518700</td>\n      <td>1.29</td>\n      <td>8.312031e+06</td>\n      <td>17-14-53</td>\n      <td>0.046402</td>\n      <td>-0.137178</td>\n      <td>-0.282934</td>\n      <td>265.0</td>\n      <td>-0.036306</td>\n      <td>-0.008226</td>\n      <td>-0.023416</td>\n    </tr>\n    <tr>\n      <th>1</th>\n      <td>73.831324</td>\n      <td>18.518700</td>\n      <td>1.29</td>\n      <td>8.312031e+06</td>\n      <td>17-14-53</td>\n      <td>-0.136978</td>\n      <td>0.365242</td>\n      <td>0.108889</td>\n      <td>266.0</td>\n      <td>0.035776</td>\n      <td>-0.009448</td>\n      <td>0.009570</td>\n    </tr>\n    <tr>\n      <th>2</th>\n      <td>73.831324</td>\n      <td>18.518700</td>\n      <td>1.29</td>\n      <td>8.312031e+06</td>\n      <td>17-14-53</td>\n      <td>-0.045355</td>\n      <td>-0.103340</td>\n      <td>-0.534985</td>\n      <td>266.0</td>\n      <td>-0.011871</td>\n      <td>-0.027774</td>\n      <td>0.003462</td>\n    </tr>\n    <tr>\n      <th>3</th>\n      <td>73.831201</td>\n      <td>18.518714</td>\n      <td>0.31</td>\n      <td>1.302423e+01</td>\n      <td>17-14-53</td>\n      <td>0.242089</td>\n      <td>0.072761</td>\n      <td>-0.350396</td>\n      <td>266.0</td>\n      <td>-0.017980</td>\n      <td>0.002769</td>\n      <td>-0.005091</td>\n    </tr>\n    <tr>\n      <th>4</th>\n      <td>73.831201</td>\n      <td>18.518714</td>\n      <td>0.31</td>\n      <td>1.302423e+01</td>\n      <td>17-14-53</td>\n      <td>-0.230234</td>\n      <td>0.011765</td>\n      <td>-0.494085</td>\n      <td>266.0</td>\n      <td>0.011342</td>\n      <td>0.003380</td>\n      <td>0.006516</td>\n    </tr>\n  </tbody>\n</table>\n</div>"
     },
     "execution_count": 2,
     "metadata": {},
     "output_type": "execute_result"
    }
   ],
   "source": [
    "data1 = pd.read_csv(r\"1_20210317_171452.csv\")\n",
    "data1.head()"
   ],
   "metadata": {
    "collapsed": false,
    "pycharm": {
     "name": "#%%\n"
    }
   }
  },
  {
   "cell_type": "code",
   "execution_count": 3,
   "outputs": [
    {
     "data": {
      "text/plain": "   Longitude   Latitude  Speed  Distance      Time     Acc X     Acc Y  \\\n0  73.822661  18.501627    0.0       0.0  18-45-12 -0.271978  0.239697   \n1  73.822661  18.501627    0.0       0.0  18-45-12 -0.203242  0.330358   \n2  73.822661  18.501627    0.0       0.0  18-45-13 -0.052430  0.283010   \n3  73.822661  18.501627    0.0       0.0  18-45-13  0.046597  0.181215   \n4  73.822661  18.501627    0.0       0.0  18-45-13  0.038631  0.341300   \n\n      Acc Z  Heading    gyro_x    gyro_y    gyro_z  \n0 -0.870133    352.0  0.022826 -0.035573  0.012482  \n1  0.822501    352.0 -0.024821  0.045672 -0.016229  \n2 -0.348588    352.0 -0.071247  0.027346 -0.015618  \n3 -1.068336    352.0  0.028324 -0.009306 -0.015007  \n4  0.365102    352.0  0.022215 -0.015414  0.014315  ",
      "text/html": "<div>\n<style scoped>\n    .dataframe tbody tr th:only-of-type {\n        vertical-align: middle;\n    }\n\n    .dataframe tbody tr th {\n        vertical-align: top;\n    }\n\n    .dataframe thead th {\n        text-align: right;\n    }\n</style>\n<table border=\"1\" class=\"dataframe\">\n  <thead>\n    <tr style=\"text-align: right;\">\n      <th></th>\n      <th>Longitude</th>\n      <th>Latitude</th>\n      <th>Speed</th>\n      <th>Distance</th>\n      <th>Time</th>\n      <th>Acc X</th>\n      <th>Acc Y</th>\n      <th>Acc Z</th>\n      <th>Heading</th>\n      <th>gyro_x</th>\n      <th>gyro_y</th>\n      <th>gyro_z</th>\n    </tr>\n  </thead>\n  <tbody>\n    <tr>\n      <th>0</th>\n      <td>73.822661</td>\n      <td>18.501627</td>\n      <td>0.0</td>\n      <td>0.0</td>\n      <td>18-45-12</td>\n      <td>-0.271978</td>\n      <td>0.239697</td>\n      <td>-0.870133</td>\n      <td>352.0</td>\n      <td>0.022826</td>\n      <td>-0.035573</td>\n      <td>0.012482</td>\n    </tr>\n    <tr>\n      <th>1</th>\n      <td>73.822661</td>\n      <td>18.501627</td>\n      <td>0.0</td>\n      <td>0.0</td>\n      <td>18-45-12</td>\n      <td>-0.203242</td>\n      <td>0.330358</td>\n      <td>0.822501</td>\n      <td>352.0</td>\n      <td>-0.024821</td>\n      <td>0.045672</td>\n      <td>-0.016229</td>\n    </tr>\n    <tr>\n      <th>2</th>\n      <td>73.822661</td>\n      <td>18.501627</td>\n      <td>0.0</td>\n      <td>0.0</td>\n      <td>18-45-13</td>\n      <td>-0.052430</td>\n      <td>0.283010</td>\n      <td>-0.348588</td>\n      <td>352.0</td>\n      <td>-0.071247</td>\n      <td>0.027346</td>\n      <td>-0.015618</td>\n    </tr>\n    <tr>\n      <th>3</th>\n      <td>73.822661</td>\n      <td>18.501627</td>\n      <td>0.0</td>\n      <td>0.0</td>\n      <td>18-45-13</td>\n      <td>0.046597</td>\n      <td>0.181215</td>\n      <td>-1.068336</td>\n      <td>352.0</td>\n      <td>0.028324</td>\n      <td>-0.009306</td>\n      <td>-0.015007</td>\n    </tr>\n    <tr>\n      <th>4</th>\n      <td>73.822661</td>\n      <td>18.501627</td>\n      <td>0.0</td>\n      <td>0.0</td>\n      <td>18-45-13</td>\n      <td>0.038631</td>\n      <td>0.341300</td>\n      <td>0.365102</td>\n      <td>352.0</td>\n      <td>0.022215</td>\n      <td>-0.015414</td>\n      <td>0.014315</td>\n    </tr>\n  </tbody>\n</table>\n</div>"
     },
     "execution_count": 3,
     "metadata": {},
     "output_type": "execute_result"
    }
   ],
   "source": [
    "data2 = pd.read_csv(r\"2_20210317_184512.csv\")\n",
    "data2.head()"
   ],
   "metadata": {
    "collapsed": false,
    "pycharm": {
     "name": "#%%\n"
    }
   }
  },
  {
   "cell_type": "code",
   "execution_count": 4,
   "outputs": [
    {
     "data": {
      "text/plain": "      Acc X     Acc Y     Acc Z    gyro_x    gyro_y    gyro_z  label\n0  0.046402 -0.137178 -0.282934 -0.036306 -0.008226 -0.023416      0\n1 -0.136978  0.365242  0.108889  0.035776 -0.009448  0.009570      0\n2 -0.045355 -0.103340 -0.534985 -0.011871 -0.027774  0.003462      0\n3  0.242089  0.072761 -0.350396 -0.017980  0.002769 -0.005091      0\n4 -0.230234  0.011765 -0.494085  0.011342  0.003380  0.006516      0",
      "text/html": "<div>\n<style scoped>\n    .dataframe tbody tr th:only-of-type {\n        vertical-align: middle;\n    }\n\n    .dataframe tbody tr th {\n        vertical-align: top;\n    }\n\n    .dataframe thead th {\n        text-align: right;\n    }\n</style>\n<table border=\"1\" class=\"dataframe\">\n  <thead>\n    <tr style=\"text-align: right;\">\n      <th></th>\n      <th>Acc X</th>\n      <th>Acc Y</th>\n      <th>Acc Z</th>\n      <th>gyro_x</th>\n      <th>gyro_y</th>\n      <th>gyro_z</th>\n      <th>label</th>\n    </tr>\n  </thead>\n  <tbody>\n    <tr>\n      <th>0</th>\n      <td>0.046402</td>\n      <td>-0.137178</td>\n      <td>-0.282934</td>\n      <td>-0.036306</td>\n      <td>-0.008226</td>\n      <td>-0.023416</td>\n      <td>0</td>\n    </tr>\n    <tr>\n      <th>1</th>\n      <td>-0.136978</td>\n      <td>0.365242</td>\n      <td>0.108889</td>\n      <td>0.035776</td>\n      <td>-0.009448</td>\n      <td>0.009570</td>\n      <td>0</td>\n    </tr>\n    <tr>\n      <th>2</th>\n      <td>-0.045355</td>\n      <td>-0.103340</td>\n      <td>-0.534985</td>\n      <td>-0.011871</td>\n      <td>-0.027774</td>\n      <td>0.003462</td>\n      <td>0</td>\n    </tr>\n    <tr>\n      <th>3</th>\n      <td>0.242089</td>\n      <td>0.072761</td>\n      <td>-0.350396</td>\n      <td>-0.017980</td>\n      <td>0.002769</td>\n      <td>-0.005091</td>\n      <td>0</td>\n    </tr>\n    <tr>\n      <th>4</th>\n      <td>-0.230234</td>\n      <td>0.011765</td>\n      <td>-0.494085</td>\n      <td>0.011342</td>\n      <td>0.003380</td>\n      <td>0.006516</td>\n      <td>0</td>\n    </tr>\n  </tbody>\n</table>\n</div>"
     },
     "execution_count": 4,
     "metadata": {},
     "output_type": "execute_result"
    }
   ],
   "source": [
    "\n",
    "data = pd.read_csv(r\"FinalDatasetCsv.csv\")\n",
    "data.head()"
   ],
   "metadata": {
    "collapsed": false,
    "pycharm": {
     "name": "#%%\n"
    }
   }
  },
  {
   "cell_type": "code",
   "execution_count": 5,
   "outputs": [
    {
     "data": {
      "text/plain": "   Longitude   Latitude  Speed      Distance      Time     Acc X     Acc Y  \\\n0  73.831324  18.518700   1.29  8.312031e+06  17-14-53  0.046402 -0.137178   \n1  73.831324  18.518700   1.29  8.312031e+06  17-14-53 -0.136978  0.365242   \n2  73.831324  18.518700   1.29  8.312031e+06  17-14-53 -0.045355 -0.103340   \n3  73.831201  18.518714   0.31  1.302423e+01  17-14-53  0.242089  0.072761   \n4  73.831201  18.518714   0.31  1.302423e+01  17-14-53 -0.230234  0.011765   \n\n      Acc Z  Heading    gyro_x    gyro_y    gyro_z  \n0 -0.282934    265.0 -0.036306 -0.008226 -0.023416  \n1  0.108889    266.0  0.035776 -0.009448  0.009570  \n2 -0.534985    266.0 -0.011871 -0.027774  0.003462  \n3 -0.350396    266.0 -0.017980  0.002769 -0.005091  \n4 -0.494085    266.0  0.011342  0.003380  0.006516  ",
      "text/html": "<div>\n<style scoped>\n    .dataframe tbody tr th:only-of-type {\n        vertical-align: middle;\n    }\n\n    .dataframe tbody tr th {\n        vertical-align: top;\n    }\n\n    .dataframe thead th {\n        text-align: right;\n    }\n</style>\n<table border=\"1\" class=\"dataframe\">\n  <thead>\n    <tr style=\"text-align: right;\">\n      <th></th>\n      <th>Longitude</th>\n      <th>Latitude</th>\n      <th>Speed</th>\n      <th>Distance</th>\n      <th>Time</th>\n      <th>Acc X</th>\n      <th>Acc Y</th>\n      <th>Acc Z</th>\n      <th>Heading</th>\n      <th>gyro_x</th>\n      <th>gyro_y</th>\n      <th>gyro_z</th>\n    </tr>\n  </thead>\n  <tbody>\n    <tr>\n      <th>0</th>\n      <td>73.831324</td>\n      <td>18.518700</td>\n      <td>1.29</td>\n      <td>8.312031e+06</td>\n      <td>17-14-53</td>\n      <td>0.046402</td>\n      <td>-0.137178</td>\n      <td>-0.282934</td>\n      <td>265.0</td>\n      <td>-0.036306</td>\n      <td>-0.008226</td>\n      <td>-0.023416</td>\n    </tr>\n    <tr>\n      <th>1</th>\n      <td>73.831324</td>\n      <td>18.518700</td>\n      <td>1.29</td>\n      <td>8.312031e+06</td>\n      <td>17-14-53</td>\n      <td>-0.136978</td>\n      <td>0.365242</td>\n      <td>0.108889</td>\n      <td>266.0</td>\n      <td>0.035776</td>\n      <td>-0.009448</td>\n      <td>0.009570</td>\n    </tr>\n    <tr>\n      <th>2</th>\n      <td>73.831324</td>\n      <td>18.518700</td>\n      <td>1.29</td>\n      <td>8.312031e+06</td>\n      <td>17-14-53</td>\n      <td>-0.045355</td>\n      <td>-0.103340</td>\n      <td>-0.534985</td>\n      <td>266.0</td>\n      <td>-0.011871</td>\n      <td>-0.027774</td>\n      <td>0.003462</td>\n    </tr>\n    <tr>\n      <th>3</th>\n      <td>73.831201</td>\n      <td>18.518714</td>\n      <td>0.31</td>\n      <td>1.302423e+01</td>\n      <td>17-14-53</td>\n      <td>0.242089</td>\n      <td>0.072761</td>\n      <td>-0.350396</td>\n      <td>266.0</td>\n      <td>-0.017980</td>\n      <td>0.002769</td>\n      <td>-0.005091</td>\n    </tr>\n    <tr>\n      <th>4</th>\n      <td>73.831201</td>\n      <td>18.518714</td>\n      <td>0.31</td>\n      <td>1.302423e+01</td>\n      <td>17-14-53</td>\n      <td>-0.230234</td>\n      <td>0.011765</td>\n      <td>-0.494085</td>\n      <td>266.0</td>\n      <td>0.011342</td>\n      <td>0.003380</td>\n      <td>0.006516</td>\n    </tr>\n  </tbody>\n</table>\n</div>"
     },
     "execution_count": 5,
     "metadata": {},
     "output_type": "execute_result"
    }
   ],
   "source": [
    "df_final = pd.concat([data1,data2])\n",
    "df_final.head()"
   ],
   "metadata": {
    "collapsed": false,
    "pycharm": {
     "name": "#%%\n"
    }
   }
  },
  {
   "cell_type": "code",
   "execution_count": 6,
   "outputs": [],
   "source": [
    "df_final['label'] = data['label']"
   ],
   "metadata": {
    "collapsed": false,
    "pycharm": {
     "name": "#%%\n"
    }
   }
  },
  {
   "cell_type": "code",
   "execution_count": 7,
   "outputs": [],
   "source": [
    "df_final.set_index('Time', inplace=True)"
   ],
   "metadata": {
    "collapsed": false,
    "pycharm": {
     "name": "#%%\n"
    }
   }
  },
  {
   "cell_type": "code",
   "execution_count": 8,
   "outputs": [
    {
     "data": {
      "text/plain": "          Longitude   Latitude  Speed      Distance     Acc X     Acc Y  \\\nTime                                                                      \n17-14-53  73.831324  18.518700   1.29  8.312031e+06  0.046402 -0.137178   \n17-14-53  73.831324  18.518700   1.29  8.312031e+06 -0.136978  0.365242   \n17-14-53  73.831324  18.518700   1.29  8.312031e+06 -0.045355 -0.103340   \n17-14-53  73.831201  18.518714   0.31  1.302423e+01  0.242089  0.072761   \n17-14-53  73.831201  18.518714   0.31  1.302423e+01 -0.230234  0.011765   \n\n             Acc Z  Heading    gyro_x    gyro_y    gyro_z  label  \nTime                                                              \n17-14-53 -0.282934    265.0 -0.036306 -0.008226 -0.023416      0  \n17-14-53  0.108889    266.0  0.035776 -0.009448  0.009570      0  \n17-14-53 -0.534985    266.0 -0.011871 -0.027774  0.003462      0  \n17-14-53 -0.350396    266.0 -0.017980  0.002769 -0.005091      0  \n17-14-53 -0.494085    266.0  0.011342  0.003380  0.006516      0  ",
      "text/html": "<div>\n<style scoped>\n    .dataframe tbody tr th:only-of-type {\n        vertical-align: middle;\n    }\n\n    .dataframe tbody tr th {\n        vertical-align: top;\n    }\n\n    .dataframe thead th {\n        text-align: right;\n    }\n</style>\n<table border=\"1\" class=\"dataframe\">\n  <thead>\n    <tr style=\"text-align: right;\">\n      <th></th>\n      <th>Longitude</th>\n      <th>Latitude</th>\n      <th>Speed</th>\n      <th>Distance</th>\n      <th>Acc X</th>\n      <th>Acc Y</th>\n      <th>Acc Z</th>\n      <th>Heading</th>\n      <th>gyro_x</th>\n      <th>gyro_y</th>\n      <th>gyro_z</th>\n      <th>label</th>\n    </tr>\n    <tr>\n      <th>Time</th>\n      <th></th>\n      <th></th>\n      <th></th>\n      <th></th>\n      <th></th>\n      <th></th>\n      <th></th>\n      <th></th>\n      <th></th>\n      <th></th>\n      <th></th>\n      <th></th>\n    </tr>\n  </thead>\n  <tbody>\n    <tr>\n      <th>17-14-53</th>\n      <td>73.831324</td>\n      <td>18.518700</td>\n      <td>1.29</td>\n      <td>8.312031e+06</td>\n      <td>0.046402</td>\n      <td>-0.137178</td>\n      <td>-0.282934</td>\n      <td>265.0</td>\n      <td>-0.036306</td>\n      <td>-0.008226</td>\n      <td>-0.023416</td>\n      <td>0</td>\n    </tr>\n    <tr>\n      <th>17-14-53</th>\n      <td>73.831324</td>\n      <td>18.518700</td>\n      <td>1.29</td>\n      <td>8.312031e+06</td>\n      <td>-0.136978</td>\n      <td>0.365242</td>\n      <td>0.108889</td>\n      <td>266.0</td>\n      <td>0.035776</td>\n      <td>-0.009448</td>\n      <td>0.009570</td>\n      <td>0</td>\n    </tr>\n    <tr>\n      <th>17-14-53</th>\n      <td>73.831324</td>\n      <td>18.518700</td>\n      <td>1.29</td>\n      <td>8.312031e+06</td>\n      <td>-0.045355</td>\n      <td>-0.103340</td>\n      <td>-0.534985</td>\n      <td>266.0</td>\n      <td>-0.011871</td>\n      <td>-0.027774</td>\n      <td>0.003462</td>\n      <td>0</td>\n    </tr>\n    <tr>\n      <th>17-14-53</th>\n      <td>73.831201</td>\n      <td>18.518714</td>\n      <td>0.31</td>\n      <td>1.302423e+01</td>\n      <td>0.242089</td>\n      <td>0.072761</td>\n      <td>-0.350396</td>\n      <td>266.0</td>\n      <td>-0.017980</td>\n      <td>0.002769</td>\n      <td>-0.005091</td>\n      <td>0</td>\n    </tr>\n    <tr>\n      <th>17-14-53</th>\n      <td>73.831201</td>\n      <td>18.518714</td>\n      <td>0.31</td>\n      <td>1.302423e+01</td>\n      <td>-0.230234</td>\n      <td>0.011765</td>\n      <td>-0.494085</td>\n      <td>266.0</td>\n      <td>0.011342</td>\n      <td>0.003380</td>\n      <td>0.006516</td>\n      <td>0</td>\n    </tr>\n  </tbody>\n</table>\n</div>"
     },
     "execution_count": 8,
     "metadata": {},
     "output_type": "execute_result"
    }
   ],
   "source": [
    "df_final.head()"
   ],
   "metadata": {
    "collapsed": false,
    "pycharm": {
     "name": "#%%\n"
    }
   }
  },
  {
   "cell_type": "code",
   "execution_count": 9,
   "outputs": [
    {
     "data": {
      "text/plain": "datetime.timedelta(seconds=6085)"
     },
     "execution_count": 9,
     "metadata": {},
     "output_type": "execute_result"
    }
   ],
   "source": [
    "s1 = '17:14:53'\n",
    "s2 = '18:56:18' # for example\n",
    "FMT = '%H:%M:%S'\n",
    "tdelta = datetime.strptime(s2, FMT) - datetime.strptime(s1, FMT)\n",
    "tdelta"
   ],
   "metadata": {
    "collapsed": false,
    "pycharm": {
     "name": "#%%\n"
    }
   }
  },
  {
   "cell_type": "code",
   "execution_count": 10,
   "outputs": [],
   "source": [
    "df_final = df_final.drop(['Longitude', 'Latitude', 'Distance', 'Heading'], axis=1)"
   ],
   "metadata": {
    "collapsed": false,
    "pycharm": {
     "name": "#%%\n"
    }
   }
  },
  {
   "cell_type": "code",
   "execution_count": 11,
   "outputs": [
    {
     "data": {
      "text/plain": "          Speed     Acc X     Acc Y     Acc Z    gyro_x    gyro_y    gyro_z  \\\nTime                                                                          \n17-14-53   1.29  0.046402 -0.137178 -0.282934 -0.036306 -0.008226 -0.023416   \n17-14-53   1.29 -0.136978  0.365242  0.108889  0.035776 -0.009448  0.009570   \n17-14-53   1.29 -0.045355 -0.103340 -0.534985 -0.011871 -0.027774  0.003462   \n17-14-53   0.31  0.242089  0.072761 -0.350396 -0.017980  0.002769 -0.005091   \n17-14-53   0.31 -0.230234  0.011765 -0.494085  0.011342  0.003380  0.006516   \n\n          label  \nTime             \n17-14-53      0  \n17-14-53      0  \n17-14-53      0  \n17-14-53      0  \n17-14-53      0  ",
      "text/html": "<div>\n<style scoped>\n    .dataframe tbody tr th:only-of-type {\n        vertical-align: middle;\n    }\n\n    .dataframe tbody tr th {\n        vertical-align: top;\n    }\n\n    .dataframe thead th {\n        text-align: right;\n    }\n</style>\n<table border=\"1\" class=\"dataframe\">\n  <thead>\n    <tr style=\"text-align: right;\">\n      <th></th>\n      <th>Speed</th>\n      <th>Acc X</th>\n      <th>Acc Y</th>\n      <th>Acc Z</th>\n      <th>gyro_x</th>\n      <th>gyro_y</th>\n      <th>gyro_z</th>\n      <th>label</th>\n    </tr>\n    <tr>\n      <th>Time</th>\n      <th></th>\n      <th></th>\n      <th></th>\n      <th></th>\n      <th></th>\n      <th></th>\n      <th></th>\n      <th></th>\n    </tr>\n  </thead>\n  <tbody>\n    <tr>\n      <th>17-14-53</th>\n      <td>1.29</td>\n      <td>0.046402</td>\n      <td>-0.137178</td>\n      <td>-0.282934</td>\n      <td>-0.036306</td>\n      <td>-0.008226</td>\n      <td>-0.023416</td>\n      <td>0</td>\n    </tr>\n    <tr>\n      <th>17-14-53</th>\n      <td>1.29</td>\n      <td>-0.136978</td>\n      <td>0.365242</td>\n      <td>0.108889</td>\n      <td>0.035776</td>\n      <td>-0.009448</td>\n      <td>0.009570</td>\n      <td>0</td>\n    </tr>\n    <tr>\n      <th>17-14-53</th>\n      <td>1.29</td>\n      <td>-0.045355</td>\n      <td>-0.103340</td>\n      <td>-0.534985</td>\n      <td>-0.011871</td>\n      <td>-0.027774</td>\n      <td>0.003462</td>\n      <td>0</td>\n    </tr>\n    <tr>\n      <th>17-14-53</th>\n      <td>0.31</td>\n      <td>0.242089</td>\n      <td>0.072761</td>\n      <td>-0.350396</td>\n      <td>-0.017980</td>\n      <td>0.002769</td>\n      <td>-0.005091</td>\n      <td>0</td>\n    </tr>\n    <tr>\n      <th>17-14-53</th>\n      <td>0.31</td>\n      <td>-0.230234</td>\n      <td>0.011765</td>\n      <td>-0.494085</td>\n      <td>0.011342</td>\n      <td>0.003380</td>\n      <td>0.006516</td>\n      <td>0</td>\n    </tr>\n  </tbody>\n</table>\n</div>"
     },
     "execution_count": 11,
     "metadata": {},
     "output_type": "execute_result"
    }
   ],
   "source": [
    "df_final.head()"
   ],
   "metadata": {
    "collapsed": false,
    "pycharm": {
     "name": "#%%\n"
    }
   }
  },
  {
   "cell_type": "code",
   "execution_count": 12,
   "outputs": [],
   "source": [
    "timestamps = df_final.index.unique()"
   ],
   "metadata": {
    "collapsed": false,
    "pycharm": {
     "name": "#%%\n"
    }
   }
  },
  {
   "cell_type": "code",
   "execution_count": 13,
   "outputs": [
    {
     "data": {
      "text/plain": "1    7872\n0    6377\nName: label, dtype: int64"
     },
     "execution_count": 13,
     "metadata": {},
     "output_type": "execute_result"
    }
   ],
   "source": [
    "df_final['label'].value_counts()"
   ],
   "metadata": {
    "collapsed": false,
    "pycharm": {
     "name": "#%%\n"
    }
   }
  },
  {
   "cell_type": "code",
   "execution_count": 14,
   "outputs": [],
   "source": [
    "X = df_final.drop(['label'], axis=1)\n",
    "y = df_final['label']"
   ],
   "metadata": {
    "collapsed": false,
    "pycharm": {
     "name": "#%%\n"
    }
   }
  },
  {
   "cell_type": "code",
   "execution_count": 15,
   "outputs": [
    {
     "data": {
      "text/plain": "          Speed     Acc X     Acc Y     Acc Z    gyro_x    gyro_y    gyro_z\nTime                                                                       \n17-14-53   1.29  0.046402 -0.137178 -0.282934 -0.036306 -0.008226 -0.023416\n17-14-53   1.29 -0.136978  0.365242  0.108889  0.035776 -0.009448  0.009570\n17-14-53   1.29 -0.045355 -0.103340 -0.534985 -0.011871 -0.027774  0.003462\n17-14-53   0.31  0.242089  0.072761 -0.350396 -0.017980  0.002769 -0.005091\n17-14-53   0.31 -0.230234  0.011765 -0.494085  0.011342  0.003380  0.006516\n...         ...       ...       ...       ...       ...       ...       ...\n18-56-18   0.00 -0.436406 -0.219264  0.397958 -0.051089 -0.001975 -0.058989\n18-56-18   0.00 -0.436406 -0.219264  0.397958 -0.001609  0.024903  0.000876\n18-56-18   0.00 -0.436406 -0.219264  0.397958 -0.001609  0.024903  0.000876\n18-56-18   0.00 -0.436406 -0.219264  0.397958 -0.001609  0.024903  0.000876\n18-56-18   0.00 -0.436406 -0.219264  0.397958 -0.001609  0.024903  0.000876\n\n[14249 rows x 7 columns]",
      "text/html": "<div>\n<style scoped>\n    .dataframe tbody tr th:only-of-type {\n        vertical-align: middle;\n    }\n\n    .dataframe tbody tr th {\n        vertical-align: top;\n    }\n\n    .dataframe thead th {\n        text-align: right;\n    }\n</style>\n<table border=\"1\" class=\"dataframe\">\n  <thead>\n    <tr style=\"text-align: right;\">\n      <th></th>\n      <th>Speed</th>\n      <th>Acc X</th>\n      <th>Acc Y</th>\n      <th>Acc Z</th>\n      <th>gyro_x</th>\n      <th>gyro_y</th>\n      <th>gyro_z</th>\n    </tr>\n    <tr>\n      <th>Time</th>\n      <th></th>\n      <th></th>\n      <th></th>\n      <th></th>\n      <th></th>\n      <th></th>\n      <th></th>\n    </tr>\n  </thead>\n  <tbody>\n    <tr>\n      <th>17-14-53</th>\n      <td>1.29</td>\n      <td>0.046402</td>\n      <td>-0.137178</td>\n      <td>-0.282934</td>\n      <td>-0.036306</td>\n      <td>-0.008226</td>\n      <td>-0.023416</td>\n    </tr>\n    <tr>\n      <th>17-14-53</th>\n      <td>1.29</td>\n      <td>-0.136978</td>\n      <td>0.365242</td>\n      <td>0.108889</td>\n      <td>0.035776</td>\n      <td>-0.009448</td>\n      <td>0.009570</td>\n    </tr>\n    <tr>\n      <th>17-14-53</th>\n      <td>1.29</td>\n      <td>-0.045355</td>\n      <td>-0.103340</td>\n      <td>-0.534985</td>\n      <td>-0.011871</td>\n      <td>-0.027774</td>\n      <td>0.003462</td>\n    </tr>\n    <tr>\n      <th>17-14-53</th>\n      <td>0.31</td>\n      <td>0.242089</td>\n      <td>0.072761</td>\n      <td>-0.350396</td>\n      <td>-0.017980</td>\n      <td>0.002769</td>\n      <td>-0.005091</td>\n    </tr>\n    <tr>\n      <th>17-14-53</th>\n      <td>0.31</td>\n      <td>-0.230234</td>\n      <td>0.011765</td>\n      <td>-0.494085</td>\n      <td>0.011342</td>\n      <td>0.003380</td>\n      <td>0.006516</td>\n    </tr>\n    <tr>\n      <th>...</th>\n      <td>...</td>\n      <td>...</td>\n      <td>...</td>\n      <td>...</td>\n      <td>...</td>\n      <td>...</td>\n      <td>...</td>\n    </tr>\n    <tr>\n      <th>18-56-18</th>\n      <td>0.00</td>\n      <td>-0.436406</td>\n      <td>-0.219264</td>\n      <td>0.397958</td>\n      <td>-0.051089</td>\n      <td>-0.001975</td>\n      <td>-0.058989</td>\n    </tr>\n    <tr>\n      <th>18-56-18</th>\n      <td>0.00</td>\n      <td>-0.436406</td>\n      <td>-0.219264</td>\n      <td>0.397958</td>\n      <td>-0.001609</td>\n      <td>0.024903</td>\n      <td>0.000876</td>\n    </tr>\n    <tr>\n      <th>18-56-18</th>\n      <td>0.00</td>\n      <td>-0.436406</td>\n      <td>-0.219264</td>\n      <td>0.397958</td>\n      <td>-0.001609</td>\n      <td>0.024903</td>\n      <td>0.000876</td>\n    </tr>\n    <tr>\n      <th>18-56-18</th>\n      <td>0.00</td>\n      <td>-0.436406</td>\n      <td>-0.219264</td>\n      <td>0.397958</td>\n      <td>-0.001609</td>\n      <td>0.024903</td>\n      <td>0.000876</td>\n    </tr>\n    <tr>\n      <th>18-56-18</th>\n      <td>0.00</td>\n      <td>-0.436406</td>\n      <td>-0.219264</td>\n      <td>0.397958</td>\n      <td>-0.001609</td>\n      <td>0.024903</td>\n      <td>0.000876</td>\n    </tr>\n  </tbody>\n</table>\n<p>14249 rows × 7 columns</p>\n</div>"
     },
     "execution_count": 15,
     "metadata": {},
     "output_type": "execute_result"
    }
   ],
   "source": [
    "X"
   ],
   "metadata": {
    "collapsed": false,
    "pycharm": {
     "name": "#%%\n"
    }
   }
  },
  {
   "cell_type": "code",
   "execution_count": 16,
   "outputs": [
    {
     "data": {
      "text/plain": "Time\n17-14-53    0\n17-14-53    0\n17-14-53    0\n17-14-53    0\n17-14-53    0\n           ..\n18-56-18    0\n18-56-18    0\n18-56-18    0\n18-56-18    0\n18-56-18    0\nName: label, Length: 14249, dtype: int64"
     },
     "execution_count": 16,
     "metadata": {},
     "output_type": "execute_result"
    }
   ],
   "source": [
    "y"
   ],
   "metadata": {
    "collapsed": false,
    "pycharm": {
     "name": "#%%\n"
    }
   }
  },
  {
   "cell_type": "code",
   "execution_count": 17,
   "outputs": [],
   "source": [
    "from sklearn.model_selection import train_test_split\n",
    "from sklearn.neighbors import KNeighborsClassifier\n",
    "from sklearn.metrics import classification_report,confusion_matrix"
   ],
   "metadata": {
    "collapsed": false,
    "pycharm": {
     "name": "#%%\n"
    }
   }
  },
  {
   "cell_type": "code",
   "execution_count": 18,
   "outputs": [],
   "source": [
    "x_train, x_test, y_train, y_test = train_test_split(X, y,train_size = 0.8, test_size = 0.2, random_state = 0,stratify = y)"
   ],
   "metadata": {
    "collapsed": false,
    "pycharm": {
     "name": "#%%\n"
    }
   }
  },
  {
   "cell_type": "code",
   "execution_count": 19,
   "outputs": [
    {
     "data": {
      "text/plain": "(11399, 7)"
     },
     "execution_count": 19,
     "metadata": {},
     "output_type": "execute_result"
    }
   ],
   "source": [
    "x_train.shape"
   ],
   "metadata": {
    "collapsed": false,
    "pycharm": {
     "name": "#%%\n"
    }
   }
  },
  {
   "cell_type": "code",
   "execution_count": 20,
   "outputs": [
    {
     "data": {
      "text/plain": "(2850, 7)"
     },
     "execution_count": 20,
     "metadata": {},
     "output_type": "execute_result"
    }
   ],
   "source": [
    "x_test.shape"
   ],
   "metadata": {
    "collapsed": false,
    "pycharm": {
     "name": "#%%\n"
    }
   }
  },
  {
   "cell_type": "code",
   "execution_count": 21,
   "outputs": [
    {
     "data": {
      "text/plain": "(11399,)"
     },
     "execution_count": 21,
     "metadata": {},
     "output_type": "execute_result"
    }
   ],
   "source": [
    "y_train.shape"
   ],
   "metadata": {
    "collapsed": false,
    "pycharm": {
     "name": "#%%\n"
    }
   }
  },
  {
   "cell_type": "code",
   "execution_count": 22,
   "outputs": [
    {
     "data": {
      "text/plain": "Time\n18-46-11    1\n18-52-29    1\n17-22-01    1\n17-15-31    1\n17-22-49    1\n           ..\n17-21-27    0\n18-50-39    1\n17-27-26    0\n17-15-25    1\n18-53-24    1\nName: label, Length: 11399, dtype: int64"
     },
     "execution_count": 22,
     "metadata": {},
     "output_type": "execute_result"
    }
   ],
   "source": [
    "y_train"
   ],
   "metadata": {
    "collapsed": false,
    "pycharm": {
     "name": "#%%\n"
    }
   }
  },
  {
   "cell_type": "code",
   "execution_count": 23,
   "outputs": [
    {
     "data": {
      "text/plain": "(2850,)"
     },
     "execution_count": 23,
     "metadata": {},
     "output_type": "execute_result"
    }
   ],
   "source": [
    "y_test.shape"
   ],
   "metadata": {
    "collapsed": false,
    "pycharm": {
     "name": "#%%\n"
    }
   }
  },
  {
   "cell_type": "code",
   "execution_count": 24,
   "outputs": [
    {
     "data": {
      "text/plain": "Time\n18-53-03    1\n17-19-52    1\n17-23-58    1\n17-25-37    0\n18-52-10    1\n           ..\n17-20-01    1\n18-46-39    1\n17-22-06    1\n18-48-02    1\n17-18-38    0\nName: label, Length: 2850, dtype: int64"
     },
     "execution_count": 24,
     "metadata": {},
     "output_type": "execute_result"
    }
   ],
   "source": [
    "y_test"
   ],
   "metadata": {
    "collapsed": false,
    "pycharm": {
     "name": "#%%\n"
    }
   }
  },
  {
   "cell_type": "code",
   "execution_count": 26,
   "outputs": [],
   "source": [
    "from sklearn.metrics import accuracy_score\n",
    "\n",
    "knn = KNeighborsClassifier(n_neighbors=13)\n",
    "knn.fit(x_train, y_train)\n",
    "y_tr_pred = knn.predict(x_train)\n",
    "y_pred = knn.predict(x_test)"
   ],
   "metadata": {
    "collapsed": false,
    "pycharm": {
     "name": "#%%\n"
    }
   }
  },
  {
   "cell_type": "code",
   "execution_count": 27,
   "outputs": [
    {
     "name": "stdout",
     "output_type": "stream",
     "text": [
      "\n",
      "TRAINING DATA:\n",
      "              precision    recall  f1-score   support\n",
      "\n",
      "      Normal       0.72      0.60      0.65      5102\n",
      "    Reckless       0.71      0.81      0.76      6297\n",
      "\n",
      "    accuracy                           0.71     11399\n",
      "   macro avg       0.71      0.70      0.70     11399\n",
      "weighted avg       0.71      0.71      0.71     11399\n",
      "\n",
      "0.7142731818580578\n",
      "\n",
      "TEST DATA:\n",
      "              precision    recall  f1-score   support\n",
      "\n",
      "      Normal       0.64      0.53      0.58      1275\n",
      "    Reckless       0.67      0.76      0.71      1575\n",
      "\n",
      "    accuracy                           0.66      2850\n",
      "   macro avg       0.65      0.64      0.64      2850\n",
      "weighted avg       0.65      0.66      0.65      2850\n",
      "\n",
      "0.6557894736842105\n"
     ]
    }
   ],
   "source": [
    "from sklearn import metrics\n",
    "print(\"\\nTRAINING DATA:\")\n",
    "print(classification_report(y_train, y_tr_pred, target_names=['Normal', 'Reckless']))\n",
    "print(metrics.accuracy_score(y_train, y_tr_pred))\n",
    "\n",
    "print(\"\\nTEST DATA:\")\n",
    "print(classification_report(y_test, y_pred, target_names=['Normal', 'Reckless']))\n",
    "print(metrics.accuracy_score(y_test, y_pred))"
   ],
   "metadata": {
    "collapsed": false,
    "pycharm": {
     "name": "#%%\n"
    }
   }
  },
  {
   "cell_type": "code",
   "execution_count": 32,
   "outputs": [
    {
     "name": "stdout",
     "output_type": "stream",
     "text": [
      "Scores:\n",
      " 0     0.669737\n",
      "1     0.669737\n",
      "2     0.659211\n",
      "3     0.647368\n",
      "4     0.643421\n",
      "5     0.680263\n",
      "6     0.648684\n",
      "7     0.652632\n",
      "8     0.660526\n",
      "9     0.668421\n",
      "10    0.709211\n",
      "11    0.657895\n",
      "12    0.656579\n",
      "13    0.698684\n",
      "14    0.681159\n",
      "dtype: float64\n",
      "Mean: 0.6669018560894991\n",
      "Standard Deviation: 0.01817736274716192\n"
     ]
    }
   ],
   "source": [
    "from sklearn.model_selection import cross_val_score\n",
    "from sklearn.neighbors import KNeighborsClassifier\n",
    "knn = KNeighborsClassifier(n_neighbors = 13)\n",
    "scores = cross_val_score(knn, x_train, y_train, cv=15, scoring = \"accuracy\")\n",
    "print(\"Scores:\\n\", pd.Series(scores))\n",
    "print(\"Mean:\", scores.mean())\n",
    "print(\"Standard Deviation:\", scores.std())"
   ],
   "metadata": {
    "collapsed": false,
    "pycharm": {
     "name": "#%%\n"
    }
   }
  },
  {
   "cell_type": "code",
   "execution_count": 33,
   "outputs": [],
   "source": [
    "x_train, x_test, y_train, y_test = train_test_split(X, y,train_size = 0.7, test_size = 0.3, random_state = 0,stratify = y)"
   ],
   "metadata": {
    "collapsed": false,
    "pycharm": {
     "name": "#%%\n"
    }
   }
  },
  {
   "cell_type": "code",
   "execution_count": 34,
   "outputs": [
    {
     "data": {
      "text/plain": "(9974, 7)"
     },
     "execution_count": 34,
     "metadata": {},
     "output_type": "execute_result"
    }
   ],
   "source": [
    "x_train.shape"
   ],
   "metadata": {
    "collapsed": false,
    "pycharm": {
     "name": "#%%\n"
    }
   }
  },
  {
   "cell_type": "code",
   "execution_count": 35,
   "outputs": [
    {
     "data": {
      "text/plain": "(4275, 7)"
     },
     "execution_count": 35,
     "metadata": {},
     "output_type": "execute_result"
    }
   ],
   "source": [
    "x_test.shape"
   ],
   "metadata": {
    "collapsed": false,
    "pycharm": {
     "name": "#%%\n"
    }
   }
  },
  {
   "cell_type": "code",
   "execution_count": 36,
   "outputs": [
    {
     "data": {
      "text/plain": "(9974,)"
     },
     "execution_count": 36,
     "metadata": {},
     "output_type": "execute_result"
    }
   ],
   "source": [
    "y_train.shape"
   ],
   "metadata": {
    "collapsed": false,
    "pycharm": {
     "name": "#%%\n"
    }
   }
  },
  {
   "cell_type": "code",
   "execution_count": 37,
   "outputs": [
    {
     "data": {
      "text/plain": "(4275,)"
     },
     "execution_count": 37,
     "metadata": {},
     "output_type": "execute_result"
    }
   ],
   "source": [
    "y_test.shape"
   ],
   "metadata": {
    "collapsed": false,
    "pycharm": {
     "name": "#%%\n"
    }
   }
  },
  {
   "cell_type": "code",
   "execution_count": 38,
   "outputs": [
    {
     "data": {
      "text/plain": "Time\n17-16-58    0\n17-20-52    0\n17-17-30    1\n17-24-59    0\n17-27-04    0\n           ..\n18-48-21    1\n18-53-15    1\n17-19-39    1\n18-55-49    0\n17-20-01    1\nName: label, Length: 4275, dtype: int64"
     },
     "execution_count": 38,
     "metadata": {},
     "output_type": "execute_result"
    }
   ],
   "source": [
    "y_test"
   ],
   "metadata": {
    "collapsed": false,
    "pycharm": {
     "name": "#%%\n"
    }
   }
  },
  {
   "cell_type": "code",
   "execution_count": 39,
   "outputs": [
    {
     "name": "stdout",
     "output_type": "stream",
     "text": [
      "[0 1 1 ... 1 0 1]\n",
      "0.6575438596491228\n"
     ]
    }
   ],
   "source": [
    "from sklearn.metrics import accuracy_score\n",
    "\n",
    "knn = KNeighborsClassifier(n_neighbors=23)\n",
    "knn.fit(x_train, y_train)\n",
    "y_predict = knn.predict(x_test)\n",
    "print(y_predict)\n",
    "print(accuracy_score(y_test,y_predict))"
   ],
   "metadata": {
    "collapsed": false,
    "pycharm": {
     "name": "#%%\n"
    }
   }
  },
  {
   "cell_type": "code",
   "execution_count": 40,
   "outputs": [
    {
     "name": "stdout",
     "output_type": "stream",
     "text": [
      "Scores:\n",
      " 0     0.675188\n",
      "1     0.660150\n",
      "2     0.699248\n",
      "3     0.669173\n",
      "4     0.678195\n",
      "5     0.688722\n",
      "6     0.673684\n",
      "7     0.658647\n",
      "8     0.678195\n",
      "9     0.694737\n",
      "10    0.654135\n",
      "11    0.634586\n",
      "12    0.669173\n",
      "13    0.678195\n",
      "14    0.694277\n",
      "dtype: float64\n",
      "Mean: 0.673753812241447\n",
      "Standard Deviation: 0.016675243459847167\n"
     ]
    }
   ],
   "source": [
    "from sklearn.model_selection import cross_val_score\n",
    "from sklearn.neighbors import KNeighborsClassifier\n",
    "knn = KNeighborsClassifier(n_neighbors = 23)\n",
    "scores = cross_val_score(knn, x_train, y_train, cv=15, scoring = \"accuracy\")\n",
    "print(\"Scores:\\n\", pd.Series(scores))\n",
    "print(\"Mean:\", scores.mean())\n",
    "print(\"Standard Deviation:\", scores.std())"
   ],
   "metadata": {
    "collapsed": false,
    "pycharm": {
     "name": "#%%\n"
    }
   }
  },
  {
   "cell_type": "code",
   "execution_count": 41,
   "outputs": [],
   "source": [
    "x_train, x_test, y_train, y_test = train_test_split(X, y,train_size = 0.9, test_size = 0.1, random_state = 0,stratify = y)"
   ],
   "metadata": {
    "collapsed": false,
    "pycharm": {
     "name": "#%%\n"
    }
   }
  },
  {
   "cell_type": "code",
   "execution_count": 42,
   "outputs": [
    {
     "data": {
      "text/plain": "(12824, 7)"
     },
     "execution_count": 42,
     "metadata": {},
     "output_type": "execute_result"
    }
   ],
   "source": [
    "x_train.shape"
   ],
   "metadata": {
    "collapsed": false,
    "pycharm": {
     "name": "#%%\n"
    }
   }
  },
  {
   "cell_type": "code",
   "execution_count": 43,
   "outputs": [
    {
     "data": {
      "text/plain": "(1425, 7)"
     },
     "execution_count": 43,
     "metadata": {},
     "output_type": "execute_result"
    }
   ],
   "source": [
    "x_test.shape"
   ],
   "metadata": {
    "collapsed": false,
    "pycharm": {
     "name": "#%%\n"
    }
   }
  },
  {
   "cell_type": "code",
   "execution_count": 44,
   "outputs": [
    {
     "data": {
      "text/plain": "(12824,)"
     },
     "execution_count": 44,
     "metadata": {},
     "output_type": "execute_result"
    }
   ],
   "source": [
    "y_train.shape"
   ],
   "metadata": {
    "collapsed": false,
    "pycharm": {
     "name": "#%%\n"
    }
   }
  },
  {
   "cell_type": "code",
   "execution_count": 45,
   "outputs": [
    {
     "data": {
      "text/plain": "(1425,)"
     },
     "execution_count": 45,
     "metadata": {},
     "output_type": "execute_result"
    }
   ],
   "source": [
    "y_test.shape"
   ],
   "metadata": {
    "collapsed": false,
    "pycharm": {
     "name": "#%%\n"
    }
   }
  },
  {
   "cell_type": "code",
   "execution_count": 46,
   "outputs": [
    {
     "data": {
      "text/plain": "Time\n17-16-26    0\n17-19-36    1\n17-26-26    0\n18-53-27    1\n18-53-06    1\n           ..\n17-22-32    1\n17-16-35    0\n17-25-54    0\n18-52-36    1\n17-15-03    0\nName: label, Length: 1425, dtype: int64"
     },
     "execution_count": 46,
     "metadata": {},
     "output_type": "execute_result"
    }
   ],
   "source": [
    "y_test"
   ],
   "metadata": {
    "collapsed": false,
    "pycharm": {
     "name": "#%%\n"
    }
   }
  },
  {
   "cell_type": "code",
   "execution_count": 47,
   "outputs": [
    {
     "name": "stdout",
     "output_type": "stream",
     "text": [
      "[1 0 1 ... 1 1 0]\n",
      "0.6547368421052632\n"
     ]
    }
   ],
   "source": [
    "from sklearn.metrics import accuracy_score\n",
    "\n",
    "knn = KNeighborsClassifier(n_neighbors=23)\n",
    "knn.fit(x_train, y_train)\n",
    "y_predict = knn.predict(x_test)\n",
    "print(y_predict)\n",
    "print(accuracy_score(y_test,y_predict))"
   ],
   "metadata": {
    "collapsed": false,
    "pycharm": {
     "name": "#%%\n"
    }
   }
  },
  {
   "cell_type": "code",
   "execution_count": 48,
   "outputs": [
    {
     "name": "stdout",
     "output_type": "stream",
     "text": [
      "Scores:\n",
      " 0     0.643275\n",
      "1     0.667836\n",
      "2     0.660819\n",
      "3     0.674854\n",
      "4     0.660819\n",
      "5     0.665497\n",
      "6     0.706433\n",
      "7     0.666667\n",
      "8     0.669006\n",
      "9     0.678363\n",
      "10    0.701754\n",
      "11    0.656140\n",
      "12    0.677193\n",
      "13    0.685380\n",
      "14    0.683841\n",
      "dtype: float64\n",
      "Mean: 0.6731917224755879\n",
      "Standard Deviation: 0.016058638540568278\n"
     ]
    }
   ],
   "source": [
    "from sklearn.model_selection import cross_val_score\n",
    "from sklearn.neighbors import KNeighborsClassifier\n",
    "knn = KNeighborsClassifier(n_neighbors = 23)\n",
    "scores = cross_val_score(knn, x_train, y_train, cv=15, scoring = \"accuracy\")\n",
    "print(\"Scores:\\n\", pd.Series(scores))\n",
    "print(\"Mean:\", scores.mean())\n",
    "print(\"Standard Deviation:\", scores.std())"
   ],
   "metadata": {
    "collapsed": false,
    "pycharm": {
     "name": "#%%\n"
    }
   }
  },
  {
   "cell_type": "code",
   "execution_count": null,
   "outputs": [],
   "source": [],
   "metadata": {
    "collapsed": false,
    "pycharm": {
     "name": "#%%\n"
    }
   }
  }
 ],
 "metadata": {
  "kernelspec": {
   "display_name": "Python 3",
   "language": "python",
   "name": "python3"
  },
  "language_info": {
   "codemirror_mode": {
    "name": "ipython",
    "version": 2
   },
   "file_extension": ".py",
   "mimetype": "text/x-python",
   "name": "python",
   "nbconvert_exporter": "python",
   "pygments_lexer": "ipython2",
   "version": "2.7.6"
  }
 },
 "nbformat": 4,
 "nbformat_minor": 0
}