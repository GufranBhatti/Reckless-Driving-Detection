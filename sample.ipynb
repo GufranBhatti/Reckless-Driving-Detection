{
 "cells": [
  {
   "cell_type": "code",
   "execution_count": 1,
   "metadata": {
    "collapsed": true,
    "pycharm": {
     "name": "#%%\n"
    }
   },
   "outputs": [],
   "source": [
    "import pandas as pd"
   ]
  },
  {
   "cell_type": "code",
   "execution_count": 2,
   "outputs": [
    {
     "data": {
      "text/plain": "                0            1             2           3            4    \\\n0          1.000000  1294.000000  0.000000e+00    1.000000  1294.000000   \n1          1.000000  1514.000000  0.000000e+00    1.000000  1514.000000   \n2          1.999505  1294.000000  6.984919e-10    1.999703  1294.000000   \n3          2.998985  1294.000000  9.313226e-10    2.999391  1294.000000   \n4          3.998061  1294.000000  9.313226e-10    3.998836  1294.000000   \n...             ...          ...           ...         ...          ...   \n2504262  380.551133  1331.684771  1.895906e+05  650.148549  1336.357995   \n2504263  379.629067  1332.165017  1.891785e+05  649.176314  1336.631637   \n2504264  380.276647  1332.643182  1.887678e+05  649.814659  1336.904590   \n2504265  379.354717  1333.121248  1.883566e+05  648.842152  1337.177530   \n2504266  379.951197  1333.597306  1.879468e+05  649.427959  1337.449804   \n\n                  5            6            7             8             9    \\\n0        0.000000e+00     1.000000  1294.000000  0.000000e+00      1.000000   \n1        0.000000e+00     1.000000  1514.000000  0.000000e+00      1.000000   \n2        2.328306e-10     1.999901  1294.000000  6.984919e-10      1.999990   \n3        4.656613e-10     2.999797  1294.000000  6.984919e-10      2.999980   \n4        2.328306e-10     3.999612  1294.000000  6.984919e-10      3.999961   \n...               ...          ...          ...           ...           ...   \n2504262  1.865743e+05  1973.033776  1339.428666  1.851917e+05  19664.853626   \n2504263  1.863354e+05  1972.036680  1339.517190  1.851133e+05  19663.862251   \n2504264  1.860970e+05  1972.670406  1339.605640  1.850348e+05  19664.496996   \n2504265  1.858584e+05  1971.672375  1339.694090  1.849564e+05  19663.504357   \n2504266  1.856203e+05  1972.252742  1339.782469  1.848780e+05  19664.085817   \n\n         ...           105  106  107           108          109         110  \\\n0        ...  0.000000e+00  0.0  0.0      1.000000  1294.000000    0.000000   \n1        ...  0.000000e+00  0.0  0.0      1.000000  1514.000000    0.000000   \n2        ...  0.000000e+00  0.0  0.0      1.999999  1294.000000    0.000000   \n3        ...  6.984919e-10  0.0  0.0      2.999998  1294.000000    0.000015   \n4        ...  2.328306e-10  0.0  0.0      3.999996  1294.000000    0.000000   \n...      ...           ...  ...  ...           ...          ...         ...   \n2504262  ...  1.813631e+05  0.0  0.0  28040.717202  1341.152101  425.618618   \n2504263  ...  1.813090e+05  0.0  0.0  28041.433233  1341.158265  425.612280   \n2504264  ...  1.812549e+05  0.0  0.0  28042.381146  1341.164429  425.605943   \n2504265  ...  1.812009e+05  0.0  0.0  28043.096975  1341.170592  425.599606   \n2504266  ...  1.811468e+05  0.0  0.0  28044.037284  1341.176755  425.593269   \n\n                 111           112  113  114  \n0        1294.000000  0.000000e+00  0.0  0.0  \n1        1514.000000  0.000000e+00  0.0  0.0  \n2        1294.000000  0.000000e+00  0.0  0.0  \n3        1294.000000  2.328306e-10  0.0  0.0  \n4        1294.000000  0.000000e+00  0.0  0.0  \n...              ...           ...  ...  ...  \n2504262  1341.152101  1.811512e+05  0.0  0.0  \n2504263  1341.158265  1.811458e+05  0.0  0.0  \n2504264  1341.164429  1.811404e+05  0.0  0.0  \n2504265  1341.170592  1.811350e+05  0.0  0.0  \n2504266  1341.176755  1.811296e+05  0.0  0.0  \n\n[2504267 rows x 115 columns]",
      "text/html": "<div>\n<style scoped>\n    .dataframe tbody tr th:only-of-type {\n        vertical-align: middle;\n    }\n\n    .dataframe tbody tr th {\n        vertical-align: top;\n    }\n\n    .dataframe thead th {\n        text-align: right;\n    }\n</style>\n<table border=\"1\" class=\"dataframe\">\n  <thead>\n    <tr style=\"text-align: right;\">\n      <th></th>\n      <th>0</th>\n      <th>1</th>\n      <th>2</th>\n      <th>3</th>\n      <th>4</th>\n      <th>5</th>\n      <th>6</th>\n      <th>7</th>\n      <th>8</th>\n      <th>9</th>\n      <th>...</th>\n      <th>105</th>\n      <th>106</th>\n      <th>107</th>\n      <th>108</th>\n      <th>109</th>\n      <th>110</th>\n      <th>111</th>\n      <th>112</th>\n      <th>113</th>\n      <th>114</th>\n    </tr>\n  </thead>\n  <tbody>\n    <tr>\n      <th>0</th>\n      <td>1.000000</td>\n      <td>1294.000000</td>\n      <td>0.000000e+00</td>\n      <td>1.000000</td>\n      <td>1294.000000</td>\n      <td>0.000000e+00</td>\n      <td>1.000000</td>\n      <td>1294.000000</td>\n      <td>0.000000e+00</td>\n      <td>1.000000</td>\n      <td>...</td>\n      <td>0.000000e+00</td>\n      <td>0.0</td>\n      <td>0.0</td>\n      <td>1.000000</td>\n      <td>1294.000000</td>\n      <td>0.000000</td>\n      <td>1294.000000</td>\n      <td>0.000000e+00</td>\n      <td>0.0</td>\n      <td>0.0</td>\n    </tr>\n    <tr>\n      <th>1</th>\n      <td>1.000000</td>\n      <td>1514.000000</td>\n      <td>0.000000e+00</td>\n      <td>1.000000</td>\n      <td>1514.000000</td>\n      <td>0.000000e+00</td>\n      <td>1.000000</td>\n      <td>1514.000000</td>\n      <td>0.000000e+00</td>\n      <td>1.000000</td>\n      <td>...</td>\n      <td>0.000000e+00</td>\n      <td>0.0</td>\n      <td>0.0</td>\n      <td>1.000000</td>\n      <td>1514.000000</td>\n      <td>0.000000</td>\n      <td>1514.000000</td>\n      <td>0.000000e+00</td>\n      <td>0.0</td>\n      <td>0.0</td>\n    </tr>\n    <tr>\n      <th>2</th>\n      <td>1.999505</td>\n      <td>1294.000000</td>\n      <td>6.984919e-10</td>\n      <td>1.999703</td>\n      <td>1294.000000</td>\n      <td>2.328306e-10</td>\n      <td>1.999901</td>\n      <td>1294.000000</td>\n      <td>6.984919e-10</td>\n      <td>1.999990</td>\n      <td>...</td>\n      <td>0.000000e+00</td>\n      <td>0.0</td>\n      <td>0.0</td>\n      <td>1.999999</td>\n      <td>1294.000000</td>\n      <td>0.000000</td>\n      <td>1294.000000</td>\n      <td>0.000000e+00</td>\n      <td>0.0</td>\n      <td>0.0</td>\n    </tr>\n    <tr>\n      <th>3</th>\n      <td>2.998985</td>\n      <td>1294.000000</td>\n      <td>9.313226e-10</td>\n      <td>2.999391</td>\n      <td>1294.000000</td>\n      <td>4.656613e-10</td>\n      <td>2.999797</td>\n      <td>1294.000000</td>\n      <td>6.984919e-10</td>\n      <td>2.999980</td>\n      <td>...</td>\n      <td>6.984919e-10</td>\n      <td>0.0</td>\n      <td>0.0</td>\n      <td>2.999998</td>\n      <td>1294.000000</td>\n      <td>0.000015</td>\n      <td>1294.000000</td>\n      <td>2.328306e-10</td>\n      <td>0.0</td>\n      <td>0.0</td>\n    </tr>\n    <tr>\n      <th>4</th>\n      <td>3.998061</td>\n      <td>1294.000000</td>\n      <td>9.313226e-10</td>\n      <td>3.998836</td>\n      <td>1294.000000</td>\n      <td>2.328306e-10</td>\n      <td>3.999612</td>\n      <td>1294.000000</td>\n      <td>6.984919e-10</td>\n      <td>3.999961</td>\n      <td>...</td>\n      <td>2.328306e-10</td>\n      <td>0.0</td>\n      <td>0.0</td>\n      <td>3.999996</td>\n      <td>1294.000000</td>\n      <td>0.000000</td>\n      <td>1294.000000</td>\n      <td>0.000000e+00</td>\n      <td>0.0</td>\n      <td>0.0</td>\n    </tr>\n    <tr>\n      <th>...</th>\n      <td>...</td>\n      <td>...</td>\n      <td>...</td>\n      <td>...</td>\n      <td>...</td>\n      <td>...</td>\n      <td>...</td>\n      <td>...</td>\n      <td>...</td>\n      <td>...</td>\n      <td>...</td>\n      <td>...</td>\n      <td>...</td>\n      <td>...</td>\n      <td>...</td>\n      <td>...</td>\n      <td>...</td>\n      <td>...</td>\n      <td>...</td>\n      <td>...</td>\n      <td>...</td>\n    </tr>\n    <tr>\n      <th>2504262</th>\n      <td>380.551133</td>\n      <td>1331.684771</td>\n      <td>1.895906e+05</td>\n      <td>650.148549</td>\n      <td>1336.357995</td>\n      <td>1.865743e+05</td>\n      <td>1973.033776</td>\n      <td>1339.428666</td>\n      <td>1.851917e+05</td>\n      <td>19664.853626</td>\n      <td>...</td>\n      <td>1.813631e+05</td>\n      <td>0.0</td>\n      <td>0.0</td>\n      <td>28040.717202</td>\n      <td>1341.152101</td>\n      <td>425.618618</td>\n      <td>1341.152101</td>\n      <td>1.811512e+05</td>\n      <td>0.0</td>\n      <td>0.0</td>\n    </tr>\n    <tr>\n      <th>2504263</th>\n      <td>379.629067</td>\n      <td>1332.165017</td>\n      <td>1.891785e+05</td>\n      <td>649.176314</td>\n      <td>1336.631637</td>\n      <td>1.863354e+05</td>\n      <td>1972.036680</td>\n      <td>1339.517190</td>\n      <td>1.851133e+05</td>\n      <td>19663.862251</td>\n      <td>...</td>\n      <td>1.813090e+05</td>\n      <td>0.0</td>\n      <td>0.0</td>\n      <td>28041.433233</td>\n      <td>1341.158265</td>\n      <td>425.612280</td>\n      <td>1341.158265</td>\n      <td>1.811458e+05</td>\n      <td>0.0</td>\n      <td>0.0</td>\n    </tr>\n    <tr>\n      <th>2504264</th>\n      <td>380.276647</td>\n      <td>1332.643182</td>\n      <td>1.887678e+05</td>\n      <td>649.814659</td>\n      <td>1336.904590</td>\n      <td>1.860970e+05</td>\n      <td>1972.670406</td>\n      <td>1339.605640</td>\n      <td>1.850348e+05</td>\n      <td>19664.496996</td>\n      <td>...</td>\n      <td>1.812549e+05</td>\n      <td>0.0</td>\n      <td>0.0</td>\n      <td>28042.381146</td>\n      <td>1341.164429</td>\n      <td>425.605943</td>\n      <td>1341.164429</td>\n      <td>1.811404e+05</td>\n      <td>0.0</td>\n      <td>0.0</td>\n    </tr>\n    <tr>\n      <th>2504265</th>\n      <td>379.354717</td>\n      <td>1333.121248</td>\n      <td>1.883566e+05</td>\n      <td>648.842152</td>\n      <td>1337.177530</td>\n      <td>1.858584e+05</td>\n      <td>1971.672375</td>\n      <td>1339.694090</td>\n      <td>1.849564e+05</td>\n      <td>19663.504357</td>\n      <td>...</td>\n      <td>1.812009e+05</td>\n      <td>0.0</td>\n      <td>0.0</td>\n      <td>28043.096975</td>\n      <td>1341.170592</td>\n      <td>425.599606</td>\n      <td>1341.170592</td>\n      <td>1.811350e+05</td>\n      <td>0.0</td>\n      <td>0.0</td>\n    </tr>\n    <tr>\n      <th>2504266</th>\n      <td>379.951197</td>\n      <td>1333.597306</td>\n      <td>1.879468e+05</td>\n      <td>649.427959</td>\n      <td>1337.449804</td>\n      <td>1.856203e+05</td>\n      <td>1972.252742</td>\n      <td>1339.782469</td>\n      <td>1.848780e+05</td>\n      <td>19664.085817</td>\n      <td>...</td>\n      <td>1.811468e+05</td>\n      <td>0.0</td>\n      <td>0.0</td>\n      <td>28044.037284</td>\n      <td>1341.176755</td>\n      <td>425.593269</td>\n      <td>1341.176755</td>\n      <td>1.811296e+05</td>\n      <td>0.0</td>\n      <td>0.0</td>\n    </tr>\n  </tbody>\n</table>\n<p>2504267 rows × 115 columns</p>\n</div>"
     },
     "execution_count": 2,
     "metadata": {},
     "output_type": "execute_result"
    }
   ],
   "source": [
    "x1 = pd.read_csv(r'D:/FYP dataset/ARP MitM/ARP_MitM_dataset.csv',header=None)\n",
    "x1"
   ],
   "metadata": {
    "collapsed": false,
    "pycharm": {
     "name": "#%%\n"
    }
   }
  },
  {
   "cell_type": "code",
   "execution_count": 3,
   "outputs": [
    {
     "data": {
      "text/plain": "         Unnamed: 0  x\n0                 1  0\n1                 2  0\n2                 3  0\n3                 4  0\n4                 5  0\n...             ... ..\n2504262     2504263  1\n2504263     2504264  1\n2504264     2504265  1\n2504265     2504266  1\n2504266     2504267  1\n\n[2504267 rows x 2 columns]",
      "text/html": "<div>\n<style scoped>\n    .dataframe tbody tr th:only-of-type {\n        vertical-align: middle;\n    }\n\n    .dataframe tbody tr th {\n        vertical-align: top;\n    }\n\n    .dataframe thead th {\n        text-align: right;\n    }\n</style>\n<table border=\"1\" class=\"dataframe\">\n  <thead>\n    <tr style=\"text-align: right;\">\n      <th></th>\n      <th>Unnamed: 0</th>\n      <th>x</th>\n    </tr>\n  </thead>\n  <tbody>\n    <tr>\n      <th>0</th>\n      <td>1</td>\n      <td>0</td>\n    </tr>\n    <tr>\n      <th>1</th>\n      <td>2</td>\n      <td>0</td>\n    </tr>\n    <tr>\n      <th>2</th>\n      <td>3</td>\n      <td>0</td>\n    </tr>\n    <tr>\n      <th>3</th>\n      <td>4</td>\n      <td>0</td>\n    </tr>\n    <tr>\n      <th>4</th>\n      <td>5</td>\n      <td>0</td>\n    </tr>\n    <tr>\n      <th>...</th>\n      <td>...</td>\n      <td>...</td>\n    </tr>\n    <tr>\n      <th>2504262</th>\n      <td>2504263</td>\n      <td>1</td>\n    </tr>\n    <tr>\n      <th>2504263</th>\n      <td>2504264</td>\n      <td>1</td>\n    </tr>\n    <tr>\n      <th>2504264</th>\n      <td>2504265</td>\n      <td>1</td>\n    </tr>\n    <tr>\n      <th>2504265</th>\n      <td>2504266</td>\n      <td>1</td>\n    </tr>\n    <tr>\n      <th>2504266</th>\n      <td>2504267</td>\n      <td>1</td>\n    </tr>\n  </tbody>\n</table>\n<p>2504267 rows × 2 columns</p>\n</div>"
     },
     "execution_count": 3,
     "metadata": {},
     "output_type": "execute_result"
    }
   ],
   "source": [
    "y1 = pd.read_csv(r'D:/FYP dataset/ARP MitM/ARP_MitM_labels.csv')\n",
    "y1"
   ],
   "metadata": {
    "collapsed": false,
    "pycharm": {
     "name": "#%%\n"
    }
   }
  },
  {
   "cell_type": "code",
   "execution_count": 4,
   "outputs": [
    {
     "data": {
      "text/plain": "                 0           1             2             3           4    \\\n0           1.000000  209.000000  0.000000e+00      1.000000  209.000000   \n1           1.997162  830.381872  3.850195e+05      1.998296  830.029123   \n2           2.996940  586.005354  3.758057e+05      2.998163  585.869927   \n3           3.994740  802.288440  4.218196e+05      3.996842  802.073133   \n4           4.994129  661.265167  4.167900e+05      4.996476  661.159177   \n...              ...         ...           ...           ...         ...   \n4077261  7430.838735  136.000000  3.637979e-11  12386.459998  136.000000   \n4077262  7430.862528  136.000000  3.637979e-11  12386.483629  136.000000   \n4077263  7430.984547  136.000000  3.637979e-11  12386.605506  136.000000   \n4077264  7430.105886  136.000000  3.637979e-11  12385.726502  136.000000   \n4077265  7431.081328  136.000000  3.637979e-11  12386.701940  136.000000   \n\n                  5             6           7             8              9    \\\n0        0.000000e+00      1.000000  209.000000  0.000000e+00       1.000000   \n1        3.850200e+05      1.999432  829.676374  3.850202e+05       1.999943   \n2        3.757193e+05      2.999387  585.734436  3.756328e+05       2.999939   \n3        4.217991e+05      3.998947  801.857734  4.217785e+05       3.999895   \n4        4.167368e+05      4.998825  661.053084  4.166835e+05       4.999882   \n...               ...           ...         ...           ...            ...   \n4077261  8.731149e-11  37157.800970  136.000000  1.928129e-10  354099.428872   \n4077262  8.731149e-11  37157.824617  136.000000  1.928129e-10  354099.498434   \n4077263  8.731149e-11  37157.946511  136.000000  2.037268e-10  354099.661625   \n4077264  8.731149e-11  37157.067507  136.000000  2.000888e-10  354098.870972   \n4077265  8.731149e-11  37158.042945  136.000000  1.891749e-10  354099.847565   \n\n         ...           105  106  107        108          109        110  \\\n0        ...  0.000000e+00  0.0  0.0   1.000000   209.000000   0.000000   \n1        ...  0.000000e+00  0.0  0.0   1.000000  1450.000000   0.000000   \n2        ...  3.080250e+03  0.0  0.0   1.999994   153.499836  55.500000   \n3        ...  0.000000e+00  0.0  0.0   1.999998  1450.000000   0.000022   \n4        ...  2.737938e+03  0.0  0.0   2.999991   134.999832  52.325843   \n...      ...           ...  ...  ...        ...          ...        ...   \n4077261  ...  7.275958e-12  0.0  0.0  22.486489   136.000000   0.000000   \n4077262  ...  0.000000e+00  0.0  0.0  26.717578   136.000000   0.000000   \n4077263  ...  3.637979e-12  0.0  0.0  16.136518   136.000000   0.000003   \n4077264  ...  0.000000e+00  0.0  0.0  12.443898   136.000000   0.000003   \n4077265  ...  3.637979e-12  0.0  0.0  15.575927   136.000000   0.000003   \n\n                 111           112  113  114  \n0         209.000000  0.000000e+00  0.0  0.0  \n1        1450.000000  0.000000e+00  0.0  0.0  \n2         153.499836  3.080250e+03  0.0  0.0  \n3        1450.000000  4.656613e-10  0.0  0.0  \n4         134.999832  2.737994e+03  0.0  0.0  \n...              ...           ...  ...  ...  \n4077261   136.000000  0.000000e+00  0.0  0.0  \n4077262   136.000000  0.000000e+00  0.0  0.0  \n4077263   136.000000  1.091394e-11  0.0  0.0  \n4077264   136.000000  7.275958e-12  0.0  0.0  \n4077265   136.000000  7.275958e-12  0.0  0.0  \n\n[4077266 rows x 115 columns]",
      "text/html": "<div>\n<style scoped>\n    .dataframe tbody tr th:only-of-type {\n        vertical-align: middle;\n    }\n\n    .dataframe tbody tr th {\n        vertical-align: top;\n    }\n\n    .dataframe thead th {\n        text-align: right;\n    }\n</style>\n<table border=\"1\" class=\"dataframe\">\n  <thead>\n    <tr style=\"text-align: right;\">\n      <th></th>\n      <th>0</th>\n      <th>1</th>\n      <th>2</th>\n      <th>3</th>\n      <th>4</th>\n      <th>5</th>\n      <th>6</th>\n      <th>7</th>\n      <th>8</th>\n      <th>9</th>\n      <th>...</th>\n      <th>105</th>\n      <th>106</th>\n      <th>107</th>\n      <th>108</th>\n      <th>109</th>\n      <th>110</th>\n      <th>111</th>\n      <th>112</th>\n      <th>113</th>\n      <th>114</th>\n    </tr>\n  </thead>\n  <tbody>\n    <tr>\n      <th>0</th>\n      <td>1.000000</td>\n      <td>209.000000</td>\n      <td>0.000000e+00</td>\n      <td>1.000000</td>\n      <td>209.000000</td>\n      <td>0.000000e+00</td>\n      <td>1.000000</td>\n      <td>209.000000</td>\n      <td>0.000000e+00</td>\n      <td>1.000000</td>\n      <td>...</td>\n      <td>0.000000e+00</td>\n      <td>0.0</td>\n      <td>0.0</td>\n      <td>1.000000</td>\n      <td>209.000000</td>\n      <td>0.000000</td>\n      <td>209.000000</td>\n      <td>0.000000e+00</td>\n      <td>0.0</td>\n      <td>0.0</td>\n    </tr>\n    <tr>\n      <th>1</th>\n      <td>1.997162</td>\n      <td>830.381872</td>\n      <td>3.850195e+05</td>\n      <td>1.998296</td>\n      <td>830.029123</td>\n      <td>3.850200e+05</td>\n      <td>1.999432</td>\n      <td>829.676374</td>\n      <td>3.850202e+05</td>\n      <td>1.999943</td>\n      <td>...</td>\n      <td>0.000000e+00</td>\n      <td>0.0</td>\n      <td>0.0</td>\n      <td>1.000000</td>\n      <td>1450.000000</td>\n      <td>0.000000</td>\n      <td>1450.000000</td>\n      <td>0.000000e+00</td>\n      <td>0.0</td>\n      <td>0.0</td>\n    </tr>\n    <tr>\n      <th>2</th>\n      <td>2.996940</td>\n      <td>586.005354</td>\n      <td>3.758057e+05</td>\n      <td>2.998163</td>\n      <td>585.869927</td>\n      <td>3.757193e+05</td>\n      <td>2.999387</td>\n      <td>585.734436</td>\n      <td>3.756328e+05</td>\n      <td>2.999939</td>\n      <td>...</td>\n      <td>3.080250e+03</td>\n      <td>0.0</td>\n      <td>0.0</td>\n      <td>1.999994</td>\n      <td>153.499836</td>\n      <td>55.500000</td>\n      <td>153.499836</td>\n      <td>3.080250e+03</td>\n      <td>0.0</td>\n      <td>0.0</td>\n    </tr>\n    <tr>\n      <th>3</th>\n      <td>3.994740</td>\n      <td>802.288440</td>\n      <td>4.218196e+05</td>\n      <td>3.996842</td>\n      <td>802.073133</td>\n      <td>4.217991e+05</td>\n      <td>3.998947</td>\n      <td>801.857734</td>\n      <td>4.217785e+05</td>\n      <td>3.999895</td>\n      <td>...</td>\n      <td>0.000000e+00</td>\n      <td>0.0</td>\n      <td>0.0</td>\n      <td>1.999998</td>\n      <td>1450.000000</td>\n      <td>0.000022</td>\n      <td>1450.000000</td>\n      <td>4.656613e-10</td>\n      <td>0.0</td>\n      <td>0.0</td>\n    </tr>\n    <tr>\n      <th>4</th>\n      <td>4.994129</td>\n      <td>661.265167</td>\n      <td>4.167900e+05</td>\n      <td>4.996476</td>\n      <td>661.159177</td>\n      <td>4.167368e+05</td>\n      <td>4.998825</td>\n      <td>661.053084</td>\n      <td>4.166835e+05</td>\n      <td>4.999882</td>\n      <td>...</td>\n      <td>2.737938e+03</td>\n      <td>0.0</td>\n      <td>0.0</td>\n      <td>2.999991</td>\n      <td>134.999832</td>\n      <td>52.325843</td>\n      <td>134.999832</td>\n      <td>2.737994e+03</td>\n      <td>0.0</td>\n      <td>0.0</td>\n    </tr>\n    <tr>\n      <th>...</th>\n      <td>...</td>\n      <td>...</td>\n      <td>...</td>\n      <td>...</td>\n      <td>...</td>\n      <td>...</td>\n      <td>...</td>\n      <td>...</td>\n      <td>...</td>\n      <td>...</td>\n      <td>...</td>\n      <td>...</td>\n      <td>...</td>\n      <td>...</td>\n      <td>...</td>\n      <td>...</td>\n      <td>...</td>\n      <td>...</td>\n      <td>...</td>\n      <td>...</td>\n      <td>...</td>\n    </tr>\n    <tr>\n      <th>4077261</th>\n      <td>7430.838735</td>\n      <td>136.000000</td>\n      <td>3.637979e-11</td>\n      <td>12386.459998</td>\n      <td>136.000000</td>\n      <td>8.731149e-11</td>\n      <td>37157.800970</td>\n      <td>136.000000</td>\n      <td>1.928129e-10</td>\n      <td>354099.428872</td>\n      <td>...</td>\n      <td>7.275958e-12</td>\n      <td>0.0</td>\n      <td>0.0</td>\n      <td>22.486489</td>\n      <td>136.000000</td>\n      <td>0.000000</td>\n      <td>136.000000</td>\n      <td>0.000000e+00</td>\n      <td>0.0</td>\n      <td>0.0</td>\n    </tr>\n    <tr>\n      <th>4077262</th>\n      <td>7430.862528</td>\n      <td>136.000000</td>\n      <td>3.637979e-11</td>\n      <td>12386.483629</td>\n      <td>136.000000</td>\n      <td>8.731149e-11</td>\n      <td>37157.824617</td>\n      <td>136.000000</td>\n      <td>1.928129e-10</td>\n      <td>354099.498434</td>\n      <td>...</td>\n      <td>0.000000e+00</td>\n      <td>0.0</td>\n      <td>0.0</td>\n      <td>26.717578</td>\n      <td>136.000000</td>\n      <td>0.000000</td>\n      <td>136.000000</td>\n      <td>0.000000e+00</td>\n      <td>0.0</td>\n      <td>0.0</td>\n    </tr>\n    <tr>\n      <th>4077263</th>\n      <td>7430.984547</td>\n      <td>136.000000</td>\n      <td>3.637979e-11</td>\n      <td>12386.605506</td>\n      <td>136.000000</td>\n      <td>8.731149e-11</td>\n      <td>37157.946511</td>\n      <td>136.000000</td>\n      <td>2.037268e-10</td>\n      <td>354099.661625</td>\n      <td>...</td>\n      <td>3.637979e-12</td>\n      <td>0.0</td>\n      <td>0.0</td>\n      <td>16.136518</td>\n      <td>136.000000</td>\n      <td>0.000003</td>\n      <td>136.000000</td>\n      <td>1.091394e-11</td>\n      <td>0.0</td>\n      <td>0.0</td>\n    </tr>\n    <tr>\n      <th>4077264</th>\n      <td>7430.105886</td>\n      <td>136.000000</td>\n      <td>3.637979e-11</td>\n      <td>12385.726502</td>\n      <td>136.000000</td>\n      <td>8.731149e-11</td>\n      <td>37157.067507</td>\n      <td>136.000000</td>\n      <td>2.000888e-10</td>\n      <td>354098.870972</td>\n      <td>...</td>\n      <td>0.000000e+00</td>\n      <td>0.0</td>\n      <td>0.0</td>\n      <td>12.443898</td>\n      <td>136.000000</td>\n      <td>0.000003</td>\n      <td>136.000000</td>\n      <td>7.275958e-12</td>\n      <td>0.0</td>\n      <td>0.0</td>\n    </tr>\n    <tr>\n      <th>4077265</th>\n      <td>7431.081328</td>\n      <td>136.000000</td>\n      <td>3.637979e-11</td>\n      <td>12386.701940</td>\n      <td>136.000000</td>\n      <td>8.731149e-11</td>\n      <td>37158.042945</td>\n      <td>136.000000</td>\n      <td>1.891749e-10</td>\n      <td>354099.847565</td>\n      <td>...</td>\n      <td>3.637979e-12</td>\n      <td>0.0</td>\n      <td>0.0</td>\n      <td>15.575927</td>\n      <td>136.000000</td>\n      <td>0.000003</td>\n      <td>136.000000</td>\n      <td>7.275958e-12</td>\n      <td>0.0</td>\n      <td>0.0</td>\n    </tr>\n  </tbody>\n</table>\n<p>4077266 rows × 115 columns</p>\n</div>"
     },
     "execution_count": 4,
     "metadata": {},
     "output_type": "execute_result"
    }
   ],
   "source": [
    "x2 = pd.read_csv(r'D:/FYP dataset/SSDP Flood/SSDP_Flood_dataset.csv',header=None)\n",
    "x2"
   ],
   "metadata": {
    "collapsed": false,
    "pycharm": {
     "name": "#%%\n"
    }
   }
  },
  {
   "cell_type": "code",
   "execution_count": 5,
   "outputs": [
    {
     "data": {
      "text/plain": "         Unnamed: 0  x\n0                 1  0\n1                 2  0\n2                 3  0\n3                 4  0\n4                 5  0\n...             ... ..\n4077261     4077262  1\n4077262     4077263  1\n4077263     4077264  1\n4077264     4077265  1\n4077265     4077266  1\n\n[4077266 rows x 2 columns]",
      "text/html": "<div>\n<style scoped>\n    .dataframe tbody tr th:only-of-type {\n        vertical-align: middle;\n    }\n\n    .dataframe tbody tr th {\n        vertical-align: top;\n    }\n\n    .dataframe thead th {\n        text-align: right;\n    }\n</style>\n<table border=\"1\" class=\"dataframe\">\n  <thead>\n    <tr style=\"text-align: right;\">\n      <th></th>\n      <th>Unnamed: 0</th>\n      <th>x</th>\n    </tr>\n  </thead>\n  <tbody>\n    <tr>\n      <th>0</th>\n      <td>1</td>\n      <td>0</td>\n    </tr>\n    <tr>\n      <th>1</th>\n      <td>2</td>\n      <td>0</td>\n    </tr>\n    <tr>\n      <th>2</th>\n      <td>3</td>\n      <td>0</td>\n    </tr>\n    <tr>\n      <th>3</th>\n      <td>4</td>\n      <td>0</td>\n    </tr>\n    <tr>\n      <th>4</th>\n      <td>5</td>\n      <td>0</td>\n    </tr>\n    <tr>\n      <th>...</th>\n      <td>...</td>\n      <td>...</td>\n    </tr>\n    <tr>\n      <th>4077261</th>\n      <td>4077262</td>\n      <td>1</td>\n    </tr>\n    <tr>\n      <th>4077262</th>\n      <td>4077263</td>\n      <td>1</td>\n    </tr>\n    <tr>\n      <th>4077263</th>\n      <td>4077264</td>\n      <td>1</td>\n    </tr>\n    <tr>\n      <th>4077264</th>\n      <td>4077265</td>\n      <td>1</td>\n    </tr>\n    <tr>\n      <th>4077265</th>\n      <td>4077266</td>\n      <td>1</td>\n    </tr>\n  </tbody>\n</table>\n<p>4077266 rows × 2 columns</p>\n</div>"
     },
     "execution_count": 5,
     "metadata": {},
     "output_type": "execute_result"
    }
   ],
   "source": [
    "y2 = pd.read_csv(r'D:/FYP dataset/SSDP Flood/SSDP_Flood_labels.csv')\n",
    "y2"
   ],
   "metadata": {
    "collapsed": false,
    "pycharm": {
     "name": "#%%\n"
    }
   }
  },
  {
   "cell_type": "code",
   "execution_count": 6,
   "outputs": [
    {
     "data": {
      "text/plain": "                 0       1             2             3       4    \\\n0           1.000000  1294.0  0.000000e+00      1.000000  1294.0   \n1           1.000000  1514.0  0.000000e+00      1.000000  1514.0   \n2           1.999505  1294.0  6.984919e-10      1.999703  1294.0   \n3           2.998985  1294.0  9.313226e-10      2.999391  1294.0   \n4           3.998061  1294.0  9.313226e-10      3.998836  1294.0   \n...              ...     ...           ...           ...     ...   \n4077261  7430.838735   136.0  3.637979e-11  12386.459998   136.0   \n4077262  7430.862528   136.0  3.637979e-11  12386.483629   136.0   \n4077263  7430.984547   136.0  3.637979e-11  12386.605506   136.0   \n4077264  7430.105886   136.0  3.637979e-11  12385.726502   136.0   \n4077265  7431.081328   136.0  3.637979e-11  12386.701940   136.0   \n\n                  5             6       7             8              9    ...  \\\n0        0.000000e+00      1.000000  1294.0  0.000000e+00       1.000000  ...   \n1        0.000000e+00      1.000000  1514.0  0.000000e+00       1.000000  ...   \n2        2.328306e-10      1.999901  1294.0  6.984919e-10       1.999990  ...   \n3        4.656613e-10      2.999797  1294.0  6.984919e-10       2.999980  ...   \n4        2.328306e-10      3.999612  1294.0  6.984919e-10       3.999961  ...   \n...               ...           ...     ...           ...            ...  ...   \n4077261  8.731149e-11  37157.800970   136.0  1.928129e-10  354099.428872  ...   \n4077262  8.731149e-11  37157.824617   136.0  1.928129e-10  354099.498434  ...   \n4077263  8.731149e-11  37157.946511   136.0  2.037268e-10  354099.661625  ...   \n4077264  8.731149e-11  37157.067507   136.0  2.000888e-10  354098.870972  ...   \n4077265  8.731149e-11  37158.042945   136.0  1.891749e-10  354099.847565  ...   \n\n                  105  106  107        108     109       110     111  \\\n0        0.000000e+00  0.0  0.0   1.000000  1294.0  0.000000  1294.0   \n1        0.000000e+00  0.0  0.0   1.000000  1514.0  0.000000  1514.0   \n2        0.000000e+00  0.0  0.0   1.999999  1294.0  0.000000  1294.0   \n3        6.984919e-10  0.0  0.0   2.999998  1294.0  0.000015  1294.0   \n4        2.328306e-10  0.0  0.0   3.999996  1294.0  0.000000  1294.0   \n...               ...  ...  ...        ...     ...       ...     ...   \n4077261  7.275958e-12  0.0  0.0  22.486489   136.0  0.000000   136.0   \n4077262  0.000000e+00  0.0  0.0  26.717578   136.0  0.000000   136.0   \n4077263  3.637979e-12  0.0  0.0  16.136518   136.0  0.000003   136.0   \n4077264  0.000000e+00  0.0  0.0  12.443898   136.0  0.000003   136.0   \n4077265  3.637979e-12  0.0  0.0  15.575927   136.0  0.000003   136.0   \n\n                  112  113  114  \n0        0.000000e+00  0.0  0.0  \n1        0.000000e+00  0.0  0.0  \n2        0.000000e+00  0.0  0.0  \n3        2.328306e-10  0.0  0.0  \n4        0.000000e+00  0.0  0.0  \n...               ...  ...  ...  \n4077261  0.000000e+00  0.0  0.0  \n4077262  0.000000e+00  0.0  0.0  \n4077263  1.091394e-11  0.0  0.0  \n4077264  7.275958e-12  0.0  0.0  \n4077265  7.275958e-12  0.0  0.0  \n\n[6581533 rows x 115 columns]",
      "text/html": "<div>\n<style scoped>\n    .dataframe tbody tr th:only-of-type {\n        vertical-align: middle;\n    }\n\n    .dataframe tbody tr th {\n        vertical-align: top;\n    }\n\n    .dataframe thead th {\n        text-align: right;\n    }\n</style>\n<table border=\"1\" class=\"dataframe\">\n  <thead>\n    <tr style=\"text-align: right;\">\n      <th></th>\n      <th>0</th>\n      <th>1</th>\n      <th>2</th>\n      <th>3</th>\n      <th>4</th>\n      <th>5</th>\n      <th>6</th>\n      <th>7</th>\n      <th>8</th>\n      <th>9</th>\n      <th>...</th>\n      <th>105</th>\n      <th>106</th>\n      <th>107</th>\n      <th>108</th>\n      <th>109</th>\n      <th>110</th>\n      <th>111</th>\n      <th>112</th>\n      <th>113</th>\n      <th>114</th>\n    </tr>\n  </thead>\n  <tbody>\n    <tr>\n      <th>0</th>\n      <td>1.000000</td>\n      <td>1294.0</td>\n      <td>0.000000e+00</td>\n      <td>1.000000</td>\n      <td>1294.0</td>\n      <td>0.000000e+00</td>\n      <td>1.000000</td>\n      <td>1294.0</td>\n      <td>0.000000e+00</td>\n      <td>1.000000</td>\n      <td>...</td>\n      <td>0.000000e+00</td>\n      <td>0.0</td>\n      <td>0.0</td>\n      <td>1.000000</td>\n      <td>1294.0</td>\n      <td>0.000000</td>\n      <td>1294.0</td>\n      <td>0.000000e+00</td>\n      <td>0.0</td>\n      <td>0.0</td>\n    </tr>\n    <tr>\n      <th>1</th>\n      <td>1.000000</td>\n      <td>1514.0</td>\n      <td>0.000000e+00</td>\n      <td>1.000000</td>\n      <td>1514.0</td>\n      <td>0.000000e+00</td>\n      <td>1.000000</td>\n      <td>1514.0</td>\n      <td>0.000000e+00</td>\n      <td>1.000000</td>\n      <td>...</td>\n      <td>0.000000e+00</td>\n      <td>0.0</td>\n      <td>0.0</td>\n      <td>1.000000</td>\n      <td>1514.0</td>\n      <td>0.000000</td>\n      <td>1514.0</td>\n      <td>0.000000e+00</td>\n      <td>0.0</td>\n      <td>0.0</td>\n    </tr>\n    <tr>\n      <th>2</th>\n      <td>1.999505</td>\n      <td>1294.0</td>\n      <td>6.984919e-10</td>\n      <td>1.999703</td>\n      <td>1294.0</td>\n      <td>2.328306e-10</td>\n      <td>1.999901</td>\n      <td>1294.0</td>\n      <td>6.984919e-10</td>\n      <td>1.999990</td>\n      <td>...</td>\n      <td>0.000000e+00</td>\n      <td>0.0</td>\n      <td>0.0</td>\n      <td>1.999999</td>\n      <td>1294.0</td>\n      <td>0.000000</td>\n      <td>1294.0</td>\n      <td>0.000000e+00</td>\n      <td>0.0</td>\n      <td>0.0</td>\n    </tr>\n    <tr>\n      <th>3</th>\n      <td>2.998985</td>\n      <td>1294.0</td>\n      <td>9.313226e-10</td>\n      <td>2.999391</td>\n      <td>1294.0</td>\n      <td>4.656613e-10</td>\n      <td>2.999797</td>\n      <td>1294.0</td>\n      <td>6.984919e-10</td>\n      <td>2.999980</td>\n      <td>...</td>\n      <td>6.984919e-10</td>\n      <td>0.0</td>\n      <td>0.0</td>\n      <td>2.999998</td>\n      <td>1294.0</td>\n      <td>0.000015</td>\n      <td>1294.0</td>\n      <td>2.328306e-10</td>\n      <td>0.0</td>\n      <td>0.0</td>\n    </tr>\n    <tr>\n      <th>4</th>\n      <td>3.998061</td>\n      <td>1294.0</td>\n      <td>9.313226e-10</td>\n      <td>3.998836</td>\n      <td>1294.0</td>\n      <td>2.328306e-10</td>\n      <td>3.999612</td>\n      <td>1294.0</td>\n      <td>6.984919e-10</td>\n      <td>3.999961</td>\n      <td>...</td>\n      <td>2.328306e-10</td>\n      <td>0.0</td>\n      <td>0.0</td>\n      <td>3.999996</td>\n      <td>1294.0</td>\n      <td>0.000000</td>\n      <td>1294.0</td>\n      <td>0.000000e+00</td>\n      <td>0.0</td>\n      <td>0.0</td>\n    </tr>\n    <tr>\n      <th>...</th>\n      <td>...</td>\n      <td>...</td>\n      <td>...</td>\n      <td>...</td>\n      <td>...</td>\n      <td>...</td>\n      <td>...</td>\n      <td>...</td>\n      <td>...</td>\n      <td>...</td>\n      <td>...</td>\n      <td>...</td>\n      <td>...</td>\n      <td>...</td>\n      <td>...</td>\n      <td>...</td>\n      <td>...</td>\n      <td>...</td>\n      <td>...</td>\n      <td>...</td>\n      <td>...</td>\n    </tr>\n    <tr>\n      <th>4077261</th>\n      <td>7430.838735</td>\n      <td>136.0</td>\n      <td>3.637979e-11</td>\n      <td>12386.459998</td>\n      <td>136.0</td>\n      <td>8.731149e-11</td>\n      <td>37157.800970</td>\n      <td>136.0</td>\n      <td>1.928129e-10</td>\n      <td>354099.428872</td>\n      <td>...</td>\n      <td>7.275958e-12</td>\n      <td>0.0</td>\n      <td>0.0</td>\n      <td>22.486489</td>\n      <td>136.0</td>\n      <td>0.000000</td>\n      <td>136.0</td>\n      <td>0.000000e+00</td>\n      <td>0.0</td>\n      <td>0.0</td>\n    </tr>\n    <tr>\n      <th>4077262</th>\n      <td>7430.862528</td>\n      <td>136.0</td>\n      <td>3.637979e-11</td>\n      <td>12386.483629</td>\n      <td>136.0</td>\n      <td>8.731149e-11</td>\n      <td>37157.824617</td>\n      <td>136.0</td>\n      <td>1.928129e-10</td>\n      <td>354099.498434</td>\n      <td>...</td>\n      <td>0.000000e+00</td>\n      <td>0.0</td>\n      <td>0.0</td>\n      <td>26.717578</td>\n      <td>136.0</td>\n      <td>0.000000</td>\n      <td>136.0</td>\n      <td>0.000000e+00</td>\n      <td>0.0</td>\n      <td>0.0</td>\n    </tr>\n    <tr>\n      <th>4077263</th>\n      <td>7430.984547</td>\n      <td>136.0</td>\n      <td>3.637979e-11</td>\n      <td>12386.605506</td>\n      <td>136.0</td>\n      <td>8.731149e-11</td>\n      <td>37157.946511</td>\n      <td>136.0</td>\n      <td>2.037268e-10</td>\n      <td>354099.661625</td>\n      <td>...</td>\n      <td>3.637979e-12</td>\n      <td>0.0</td>\n      <td>0.0</td>\n      <td>16.136518</td>\n      <td>136.0</td>\n      <td>0.000003</td>\n      <td>136.0</td>\n      <td>1.091394e-11</td>\n      <td>0.0</td>\n      <td>0.0</td>\n    </tr>\n    <tr>\n      <th>4077264</th>\n      <td>7430.105886</td>\n      <td>136.0</td>\n      <td>3.637979e-11</td>\n      <td>12385.726502</td>\n      <td>136.0</td>\n      <td>8.731149e-11</td>\n      <td>37157.067507</td>\n      <td>136.0</td>\n      <td>2.000888e-10</td>\n      <td>354098.870972</td>\n      <td>...</td>\n      <td>0.000000e+00</td>\n      <td>0.0</td>\n      <td>0.0</td>\n      <td>12.443898</td>\n      <td>136.0</td>\n      <td>0.000003</td>\n      <td>136.0</td>\n      <td>7.275958e-12</td>\n      <td>0.0</td>\n      <td>0.0</td>\n    </tr>\n    <tr>\n      <th>4077265</th>\n      <td>7431.081328</td>\n      <td>136.0</td>\n      <td>3.637979e-11</td>\n      <td>12386.701940</td>\n      <td>136.0</td>\n      <td>8.731149e-11</td>\n      <td>37158.042945</td>\n      <td>136.0</td>\n      <td>1.891749e-10</td>\n      <td>354099.847565</td>\n      <td>...</td>\n      <td>3.637979e-12</td>\n      <td>0.0</td>\n      <td>0.0</td>\n      <td>15.575927</td>\n      <td>136.0</td>\n      <td>0.000003</td>\n      <td>136.0</td>\n      <td>7.275958e-12</td>\n      <td>0.0</td>\n      <td>0.0</td>\n    </tr>\n  </tbody>\n</table>\n<p>6581533 rows × 115 columns</p>\n</div>"
     },
     "execution_count": 6,
     "metadata": {},
     "output_type": "execute_result"
    }
   ],
   "source": [
    "x = pd.concat([x1,x2])\n",
    "x"
   ],
   "metadata": {
    "collapsed": false,
    "pycharm": {
     "name": "#%%\n"
    }
   }
  },
  {
   "cell_type": "code",
   "execution_count": 7,
   "outputs": [
    {
     "data": {
      "text/plain": "         Unnamed: 0  x\n0                 1  0\n1                 2  0\n2                 3  0\n3                 4  0\n4                 5  0\n...             ... ..\n4077261     4077262  1\n4077262     4077263  1\n4077263     4077264  1\n4077264     4077265  1\n4077265     4077266  1\n\n[6581533 rows x 2 columns]",
      "text/html": "<div>\n<style scoped>\n    .dataframe tbody tr th:only-of-type {\n        vertical-align: middle;\n    }\n\n    .dataframe tbody tr th {\n        vertical-align: top;\n    }\n\n    .dataframe thead th {\n        text-align: right;\n    }\n</style>\n<table border=\"1\" class=\"dataframe\">\n  <thead>\n    <tr style=\"text-align: right;\">\n      <th></th>\n      <th>Unnamed: 0</th>\n      <th>x</th>\n    </tr>\n  </thead>\n  <tbody>\n    <tr>\n      <th>0</th>\n      <td>1</td>\n      <td>0</td>\n    </tr>\n    <tr>\n      <th>1</th>\n      <td>2</td>\n      <td>0</td>\n    </tr>\n    <tr>\n      <th>2</th>\n      <td>3</td>\n      <td>0</td>\n    </tr>\n    <tr>\n      <th>3</th>\n      <td>4</td>\n      <td>0</td>\n    </tr>\n    <tr>\n      <th>4</th>\n      <td>5</td>\n      <td>0</td>\n    </tr>\n    <tr>\n      <th>...</th>\n      <td>...</td>\n      <td>...</td>\n    </tr>\n    <tr>\n      <th>4077261</th>\n      <td>4077262</td>\n      <td>1</td>\n    </tr>\n    <tr>\n      <th>4077262</th>\n      <td>4077263</td>\n      <td>1</td>\n    </tr>\n    <tr>\n      <th>4077263</th>\n      <td>4077264</td>\n      <td>1</td>\n    </tr>\n    <tr>\n      <th>4077264</th>\n      <td>4077265</td>\n      <td>1</td>\n    </tr>\n    <tr>\n      <th>4077265</th>\n      <td>4077266</td>\n      <td>1</td>\n    </tr>\n  </tbody>\n</table>\n<p>6581533 rows × 2 columns</p>\n</div>"
     },
     "execution_count": 7,
     "metadata": {},
     "output_type": "execute_result"
    }
   ],
   "source": [
    "y = pd.concat([y1,y2])\n",
    "y"
   ],
   "metadata": {
    "collapsed": false,
    "pycharm": {
     "name": "#%%\n"
    }
   }
  },
  {
   "cell_type": "code",
   "execution_count": 8,
   "outputs": [],
   "source": [
    "import numpy as np\n",
    "import matplotlib.pyplot as plt\n",
    "import seaborn as sns; sns.set()\n",
    "import tensorflow as tf\n",
    "from keras.layers import Dense, BatchNormalization, Dropout, LSTM, Bidirectional\n",
    "from keras.models import Sequential\n",
    "from tensorflow.keras.utils import to_categorical\n",
    "from keras.optimizers import Adam\n",
    "from tensorflow.keras import regularizers\n",
    "from sklearn.metrics import precision_score, recall_score, confusion_matrix, classification_report, accuracy_score, f1_score\n",
    "from keras import callbacks\n",
    "from tensorflow.keras.callbacks import EarlyStopping"
   ],
   "metadata": {
    "collapsed": false,
    "pycharm": {
     "name": "#%%\n"
    }
   }
  },
  {
   "cell_type": "code",
   "execution_count": 9,
   "outputs": [
    {
     "data": {
      "text/plain": "         x\n0        0\n1        0\n2        0\n3        0\n4        0\n...     ..\n4077261  1\n4077262  1\n4077263  1\n4077264  1\n4077265  1\n\n[6581533 rows x 1 columns]",
      "text/html": "<div>\n<style scoped>\n    .dataframe tbody tr th:only-of-type {\n        vertical-align: middle;\n    }\n\n    .dataframe tbody tr th {\n        vertical-align: top;\n    }\n\n    .dataframe thead th {\n        text-align: right;\n    }\n</style>\n<table border=\"1\" class=\"dataframe\">\n  <thead>\n    <tr style=\"text-align: right;\">\n      <th></th>\n      <th>x</th>\n    </tr>\n  </thead>\n  <tbody>\n    <tr>\n      <th>0</th>\n      <td>0</td>\n    </tr>\n    <tr>\n      <th>1</th>\n      <td>0</td>\n    </tr>\n    <tr>\n      <th>2</th>\n      <td>0</td>\n    </tr>\n    <tr>\n      <th>3</th>\n      <td>0</td>\n    </tr>\n    <tr>\n      <th>4</th>\n      <td>0</td>\n    </tr>\n    <tr>\n      <th>...</th>\n      <td>...</td>\n    </tr>\n    <tr>\n      <th>4077261</th>\n      <td>1</td>\n    </tr>\n    <tr>\n      <th>4077262</th>\n      <td>1</td>\n    </tr>\n    <tr>\n      <th>4077263</th>\n      <td>1</td>\n    </tr>\n    <tr>\n      <th>4077264</th>\n      <td>1</td>\n    </tr>\n    <tr>\n      <th>4077265</th>\n      <td>1</td>\n    </tr>\n  </tbody>\n</table>\n<p>6581533 rows × 1 columns</p>\n</div>"
     },
     "execution_count": 9,
     "metadata": {},
     "output_type": "execute_result"
    }
   ],
   "source": [
    "y.drop('Unnamed: 0',inplace = True, axis=1)\n",
    "y"
   ],
   "metadata": {
    "collapsed": false,
    "pycharm": {
     "name": "#%%\n"
    }
   }
  },
  {
   "cell_type": "code",
   "execution_count": 10,
   "outputs": [
    {
     "name": "stdout",
     "output_type": "stream",
     "text": [
      "Number of 0's and 1's in y dataset:\n",
      "0    3996657\n",
      "1    2584876\n",
      "Name: x, dtype: int64\n"
     ]
    }
   ],
   "source": [
    "print(\"Number of 0's and 1's in y dataset:\")\n",
    "print(y['x'].value_counts())"
   ],
   "metadata": {
    "collapsed": false,
    "pycharm": {
     "name": "#%%\n"
    }
   }
  },
  {
   "cell_type": "code",
   "execution_count": 11,
   "outputs": [],
   "source": [
    "from sklearn.model_selection import train_test_split\n",
    "\n",
    "x_train, x_test, y_train, y_test = train_test_split(x, y,train_size = 0.8, test_size = 0.2, random_state = 0,stratify = y)"
   ],
   "metadata": {
    "collapsed": false,
    "pycharm": {
     "name": "#%%\n"
    }
   }
  },
  {
   "cell_type": "code",
   "execution_count": 12,
   "outputs": [],
   "source": [
    "x_train , y_train = np.array(x_train), np.array(y_train)\n",
    "x_train = np.reshape(x_train, (x_train.shape[0] , x_train.shape[1], 1) )"
   ],
   "metadata": {
    "collapsed": false,
    "pycharm": {
     "name": "#%%\n"
    }
   }
  },
  {
   "cell_type": "code",
   "execution_count": 13,
   "outputs": [],
   "source": [
    "x_test , y_test = np.array(x_test), np.array(y_test)\n",
    "x_test = np.reshape(x_test, (x_test.shape[0] , x_test.shape[1], 1) )"
   ],
   "metadata": {
    "collapsed": false,
    "pycharm": {
     "name": "#%%\n"
    }
   }
  },
  {
   "cell_type": "code",
   "execution_count": 14,
   "outputs": [
    {
     "name": "stdout",
     "output_type": "stream",
     "text": [
      "Model: \"sequential\"\n",
      "_________________________________________________________________\n",
      " Layer (type)                Output Shape              Param #   \n",
      "=================================================================\n",
      " dense (Dense)               (None, 115, 128)          256       \n",
      "                                                                 \n",
      " dense_1 (Dense)             (None, 115, 128)          16512     \n",
      "                                                                 \n",
      " dropout (Dropout)           (None, 115, 128)          0         \n",
      "                                                                 \n",
      " dense_2 (Dense)             (None, 115, 128)          16512     \n",
      "                                                                 \n",
      " dropout_1 (Dropout)         (None, 115, 128)          0         \n",
      "                                                                 \n",
      " dense_3 (Dense)             (None, 115, 128)          16512     \n",
      "                                                                 \n",
      " dropout_2 (Dropout)         (None, 115, 128)          0         \n",
      "                                                                 \n",
      " dense_4 (Dense)             (None, 115, 1)            129       \n",
      "                                                                 \n",
      "=================================================================\n",
      "Total params: 49,921\n",
      "Trainable params: 49,921\n",
      "Non-trainable params: 0\n",
      "_________________________________________________________________\n",
      "Epoch 1/5\n",
      " 473/4628 [==>...........................] - ETA: 1:52:12 - loss: 1.0523 - accuracy: 0.6047"
     ]
    },
    {
     "ename": "KeyboardInterrupt",
     "evalue": "",
     "output_type": "error",
     "traceback": [
      "\u001B[1;31m---------------------------------------------------------------------------\u001B[0m",
      "\u001B[1;31mKeyboardInterrupt\u001B[0m                         Traceback (most recent call last)",
      "Cell \u001B[1;32mIn [14], line 15\u001B[0m\n\u001B[0;32m     13\u001B[0m model\u001B[38;5;241m.\u001B[39mcompile(optimizer\u001B[38;5;241m=\u001B[39m\u001B[38;5;124m'\u001B[39m\u001B[38;5;124mAdam\u001B[39m\u001B[38;5;124m'\u001B[39m,loss\u001B[38;5;241m=\u001B[39m\u001B[38;5;124m'\u001B[39m\u001B[38;5;124mbinary_crossentropy\u001B[39m\u001B[38;5;124m'\u001B[39m,metrics\u001B[38;5;241m=\u001B[39m[\u001B[38;5;124m'\u001B[39m\u001B[38;5;124maccuracy\u001B[39m\u001B[38;5;124m'\u001B[39m])\n\u001B[0;32m     14\u001B[0m es \u001B[38;5;241m=\u001B[39m EarlyStopping(monitor\u001B[38;5;241m=\u001B[39m\u001B[38;5;124m'\u001B[39m\u001B[38;5;124mval_accuracy\u001B[39m\u001B[38;5;124m'\u001B[39m,mode\u001B[38;5;241m=\u001B[39m\u001B[38;5;124m'\u001B[39m\u001B[38;5;124mmax\u001B[39m\u001B[38;5;124m'\u001B[39m,patience\u001B[38;5;241m=\u001B[39m\u001B[38;5;241m10\u001B[39m,restore_best_weights\u001B[38;5;241m=\u001B[39m\u001B[38;5;28;01mTrue\u001B[39;00m)\n\u001B[1;32m---> 15\u001B[0m history \u001B[38;5;241m=\u001B[39m model\u001B[38;5;241m.\u001B[39mfit(x_train,y_train,callbacks\u001B[38;5;241m=\u001B[39m[es],epochs\u001B[38;5;241m=\u001B[39m\u001B[38;5;241m5\u001B[39m,batch_size\u001B[38;5;241m=\u001B[39m\u001B[38;5;241m1024\u001B[39m,validation_split\u001B[38;5;241m=\u001B[39m\u001B[38;5;241m0.1\u001B[39m,shuffle\u001B[38;5;241m=\u001B[39m\u001B[38;5;28;01mTrue\u001B[39;00m,verbose\u001B[38;5;241m=\u001B[39m\u001B[38;5;241m1\u001B[39m)\n",
      "File \u001B[1;32m~\\AppData\\Local\\Programs\\Python\\Python310\\lib\\site-packages\\keras\\utils\\traceback_utils.py:65\u001B[0m, in \u001B[0;36mfilter_traceback.<locals>.error_handler\u001B[1;34m(*args, **kwargs)\u001B[0m\n\u001B[0;32m     63\u001B[0m filtered_tb \u001B[38;5;241m=\u001B[39m \u001B[38;5;28;01mNone\u001B[39;00m\n\u001B[0;32m     64\u001B[0m \u001B[38;5;28;01mtry\u001B[39;00m:\n\u001B[1;32m---> 65\u001B[0m     \u001B[38;5;28;01mreturn\u001B[39;00m fn(\u001B[38;5;241m*\u001B[39margs, \u001B[38;5;241m*\u001B[39m\u001B[38;5;241m*\u001B[39mkwargs)\n\u001B[0;32m     66\u001B[0m \u001B[38;5;28;01mexcept\u001B[39;00m \u001B[38;5;167;01mException\u001B[39;00m \u001B[38;5;28;01mas\u001B[39;00m e:\n\u001B[0;32m     67\u001B[0m     filtered_tb \u001B[38;5;241m=\u001B[39m _process_traceback_frames(e\u001B[38;5;241m.\u001B[39m__traceback__)\n",
      "File \u001B[1;32m~\\AppData\\Local\\Programs\\Python\\Python310\\lib\\site-packages\\keras\\engine\\training.py:1564\u001B[0m, in \u001B[0;36mModel.fit\u001B[1;34m(self, x, y, batch_size, epochs, verbose, callbacks, validation_split, validation_data, shuffle, class_weight, sample_weight, initial_epoch, steps_per_epoch, validation_steps, validation_batch_size, validation_freq, max_queue_size, workers, use_multiprocessing)\u001B[0m\n\u001B[0;32m   1556\u001B[0m \u001B[38;5;28;01mwith\u001B[39;00m tf\u001B[38;5;241m.\u001B[39mprofiler\u001B[38;5;241m.\u001B[39mexperimental\u001B[38;5;241m.\u001B[39mTrace(\n\u001B[0;32m   1557\u001B[0m     \u001B[38;5;124m\"\u001B[39m\u001B[38;5;124mtrain\u001B[39m\u001B[38;5;124m\"\u001B[39m,\n\u001B[0;32m   1558\u001B[0m     epoch_num\u001B[38;5;241m=\u001B[39mepoch,\n\u001B[1;32m   (...)\u001B[0m\n\u001B[0;32m   1561\u001B[0m     _r\u001B[38;5;241m=\u001B[39m\u001B[38;5;241m1\u001B[39m,\n\u001B[0;32m   1562\u001B[0m ):\n\u001B[0;32m   1563\u001B[0m     callbacks\u001B[38;5;241m.\u001B[39mon_train_batch_begin(step)\n\u001B[1;32m-> 1564\u001B[0m     tmp_logs \u001B[38;5;241m=\u001B[39m \u001B[38;5;28;43mself\u001B[39;49m\u001B[38;5;241;43m.\u001B[39;49m\u001B[43mtrain_function\u001B[49m\u001B[43m(\u001B[49m\u001B[43miterator\u001B[49m\u001B[43m)\u001B[49m\n\u001B[0;32m   1565\u001B[0m     \u001B[38;5;28;01mif\u001B[39;00m data_handler\u001B[38;5;241m.\u001B[39mshould_sync:\n\u001B[0;32m   1566\u001B[0m         context\u001B[38;5;241m.\u001B[39masync_wait()\n",
      "File \u001B[1;32m~\\AppData\\Local\\Programs\\Python\\Python310\\lib\\site-packages\\tensorflow\\python\\util\\traceback_utils.py:150\u001B[0m, in \u001B[0;36mfilter_traceback.<locals>.error_handler\u001B[1;34m(*args, **kwargs)\u001B[0m\n\u001B[0;32m    148\u001B[0m filtered_tb \u001B[38;5;241m=\u001B[39m \u001B[38;5;28;01mNone\u001B[39;00m\n\u001B[0;32m    149\u001B[0m \u001B[38;5;28;01mtry\u001B[39;00m:\n\u001B[1;32m--> 150\u001B[0m   \u001B[38;5;28;01mreturn\u001B[39;00m fn(\u001B[38;5;241m*\u001B[39margs, \u001B[38;5;241m*\u001B[39m\u001B[38;5;241m*\u001B[39mkwargs)\n\u001B[0;32m    151\u001B[0m \u001B[38;5;28;01mexcept\u001B[39;00m \u001B[38;5;167;01mException\u001B[39;00m \u001B[38;5;28;01mas\u001B[39;00m e:\n\u001B[0;32m    152\u001B[0m   filtered_tb \u001B[38;5;241m=\u001B[39m _process_traceback_frames(e\u001B[38;5;241m.\u001B[39m__traceback__)\n",
      "File \u001B[1;32m~\\AppData\\Local\\Programs\\Python\\Python310\\lib\\site-packages\\tensorflow\\python\\eager\\def_function.py:915\u001B[0m, in \u001B[0;36mFunction.__call__\u001B[1;34m(self, *args, **kwds)\u001B[0m\n\u001B[0;32m    912\u001B[0m compiler \u001B[38;5;241m=\u001B[39m \u001B[38;5;124m\"\u001B[39m\u001B[38;5;124mxla\u001B[39m\u001B[38;5;124m\"\u001B[39m \u001B[38;5;28;01mif\u001B[39;00m \u001B[38;5;28mself\u001B[39m\u001B[38;5;241m.\u001B[39m_jit_compile \u001B[38;5;28;01melse\u001B[39;00m \u001B[38;5;124m\"\u001B[39m\u001B[38;5;124mnonXla\u001B[39m\u001B[38;5;124m\"\u001B[39m\n\u001B[0;32m    914\u001B[0m \u001B[38;5;28;01mwith\u001B[39;00m OptionalXlaContext(\u001B[38;5;28mself\u001B[39m\u001B[38;5;241m.\u001B[39m_jit_compile):\n\u001B[1;32m--> 915\u001B[0m   result \u001B[38;5;241m=\u001B[39m \u001B[38;5;28mself\u001B[39m\u001B[38;5;241m.\u001B[39m_call(\u001B[38;5;241m*\u001B[39margs, \u001B[38;5;241m*\u001B[39m\u001B[38;5;241m*\u001B[39mkwds)\n\u001B[0;32m    917\u001B[0m new_tracing_count \u001B[38;5;241m=\u001B[39m \u001B[38;5;28mself\u001B[39m\u001B[38;5;241m.\u001B[39mexperimental_get_tracing_count()\n\u001B[0;32m    918\u001B[0m without_tracing \u001B[38;5;241m=\u001B[39m (tracing_count \u001B[38;5;241m==\u001B[39m new_tracing_count)\n",
      "File \u001B[1;32m~\\AppData\\Local\\Programs\\Python\\Python310\\lib\\site-packages\\tensorflow\\python\\eager\\def_function.py:947\u001B[0m, in \u001B[0;36mFunction._call\u001B[1;34m(self, *args, **kwds)\u001B[0m\n\u001B[0;32m    944\u001B[0m   \u001B[38;5;28mself\u001B[39m\u001B[38;5;241m.\u001B[39m_lock\u001B[38;5;241m.\u001B[39mrelease()\n\u001B[0;32m    945\u001B[0m   \u001B[38;5;66;03m# In this case we have created variables on the first call, so we run the\u001B[39;00m\n\u001B[0;32m    946\u001B[0m   \u001B[38;5;66;03m# defunned version which is guaranteed to never create variables.\u001B[39;00m\n\u001B[1;32m--> 947\u001B[0m   \u001B[38;5;28;01mreturn\u001B[39;00m \u001B[38;5;28mself\u001B[39m\u001B[38;5;241m.\u001B[39m_stateless_fn(\u001B[38;5;241m*\u001B[39margs, \u001B[38;5;241m*\u001B[39m\u001B[38;5;241m*\u001B[39mkwds)  \u001B[38;5;66;03m# pylint: disable=not-callable\u001B[39;00m\n\u001B[0;32m    948\u001B[0m \u001B[38;5;28;01melif\u001B[39;00m \u001B[38;5;28mself\u001B[39m\u001B[38;5;241m.\u001B[39m_stateful_fn \u001B[38;5;129;01mis\u001B[39;00m \u001B[38;5;129;01mnot\u001B[39;00m \u001B[38;5;28;01mNone\u001B[39;00m:\n\u001B[0;32m    949\u001B[0m   \u001B[38;5;66;03m# Release the lock early so that multiple threads can perform the call\u001B[39;00m\n\u001B[0;32m    950\u001B[0m   \u001B[38;5;66;03m# in parallel.\u001B[39;00m\n\u001B[0;32m    951\u001B[0m   \u001B[38;5;28mself\u001B[39m\u001B[38;5;241m.\u001B[39m_lock\u001B[38;5;241m.\u001B[39mrelease()\n",
      "File \u001B[1;32m~\\AppData\\Local\\Programs\\Python\\Python310\\lib\\site-packages\\tensorflow\\python\\eager\\function.py:2496\u001B[0m, in \u001B[0;36mFunction.__call__\u001B[1;34m(self, *args, **kwargs)\u001B[0m\n\u001B[0;32m   2493\u001B[0m \u001B[38;5;28;01mwith\u001B[39;00m \u001B[38;5;28mself\u001B[39m\u001B[38;5;241m.\u001B[39m_lock:\n\u001B[0;32m   2494\u001B[0m   (graph_function,\n\u001B[0;32m   2495\u001B[0m    filtered_flat_args) \u001B[38;5;241m=\u001B[39m \u001B[38;5;28mself\u001B[39m\u001B[38;5;241m.\u001B[39m_maybe_define_function(args, kwargs)\n\u001B[1;32m-> 2496\u001B[0m \u001B[38;5;28;01mreturn\u001B[39;00m \u001B[43mgraph_function\u001B[49m\u001B[38;5;241;43m.\u001B[39;49m\u001B[43m_call_flat\u001B[49m\u001B[43m(\u001B[49m\n\u001B[0;32m   2497\u001B[0m \u001B[43m    \u001B[49m\u001B[43mfiltered_flat_args\u001B[49m\u001B[43m,\u001B[49m\u001B[43m \u001B[49m\u001B[43mcaptured_inputs\u001B[49m\u001B[38;5;241;43m=\u001B[39;49m\u001B[43mgraph_function\u001B[49m\u001B[38;5;241;43m.\u001B[39;49m\u001B[43mcaptured_inputs\u001B[49m\u001B[43m)\u001B[49m\n",
      "File \u001B[1;32m~\\AppData\\Local\\Programs\\Python\\Python310\\lib\\site-packages\\tensorflow\\python\\eager\\function.py:1862\u001B[0m, in \u001B[0;36mConcreteFunction._call_flat\u001B[1;34m(self, args, captured_inputs, cancellation_manager)\u001B[0m\n\u001B[0;32m   1858\u001B[0m possible_gradient_type \u001B[38;5;241m=\u001B[39m gradients_util\u001B[38;5;241m.\u001B[39mPossibleTapeGradientTypes(args)\n\u001B[0;32m   1859\u001B[0m \u001B[38;5;28;01mif\u001B[39;00m (possible_gradient_type \u001B[38;5;241m==\u001B[39m gradients_util\u001B[38;5;241m.\u001B[39mPOSSIBLE_GRADIENT_TYPES_NONE\n\u001B[0;32m   1860\u001B[0m     \u001B[38;5;129;01mand\u001B[39;00m executing_eagerly):\n\u001B[0;32m   1861\u001B[0m   \u001B[38;5;66;03m# No tape is watching; skip to running the function.\u001B[39;00m\n\u001B[1;32m-> 1862\u001B[0m   \u001B[38;5;28;01mreturn\u001B[39;00m \u001B[38;5;28mself\u001B[39m\u001B[38;5;241m.\u001B[39m_build_call_outputs(\u001B[38;5;28;43mself\u001B[39;49m\u001B[38;5;241;43m.\u001B[39;49m\u001B[43m_inference_function\u001B[49m\u001B[38;5;241;43m.\u001B[39;49m\u001B[43mcall\u001B[49m\u001B[43m(\u001B[49m\n\u001B[0;32m   1863\u001B[0m \u001B[43m      \u001B[49m\u001B[43mctx\u001B[49m\u001B[43m,\u001B[49m\u001B[43m \u001B[49m\u001B[43margs\u001B[49m\u001B[43m,\u001B[49m\u001B[43m \u001B[49m\u001B[43mcancellation_manager\u001B[49m\u001B[38;5;241;43m=\u001B[39;49m\u001B[43mcancellation_manager\u001B[49m\u001B[43m)\u001B[49m)\n\u001B[0;32m   1864\u001B[0m forward_backward \u001B[38;5;241m=\u001B[39m \u001B[38;5;28mself\u001B[39m\u001B[38;5;241m.\u001B[39m_select_forward_and_backward_functions(\n\u001B[0;32m   1865\u001B[0m     args,\n\u001B[0;32m   1866\u001B[0m     possible_gradient_type,\n\u001B[0;32m   1867\u001B[0m     executing_eagerly)\n\u001B[0;32m   1868\u001B[0m forward_function, args_with_tangents \u001B[38;5;241m=\u001B[39m forward_backward\u001B[38;5;241m.\u001B[39mforward()\n",
      "File \u001B[1;32m~\\AppData\\Local\\Programs\\Python\\Python310\\lib\\site-packages\\tensorflow\\python\\eager\\function.py:499\u001B[0m, in \u001B[0;36m_EagerDefinedFunction.call\u001B[1;34m(self, ctx, args, cancellation_manager)\u001B[0m\n\u001B[0;32m    497\u001B[0m \u001B[38;5;28;01mwith\u001B[39;00m _InterpolateFunctionError(\u001B[38;5;28mself\u001B[39m):\n\u001B[0;32m    498\u001B[0m   \u001B[38;5;28;01mif\u001B[39;00m cancellation_manager \u001B[38;5;129;01mis\u001B[39;00m \u001B[38;5;28;01mNone\u001B[39;00m:\n\u001B[1;32m--> 499\u001B[0m     outputs \u001B[38;5;241m=\u001B[39m \u001B[43mexecute\u001B[49m\u001B[38;5;241;43m.\u001B[39;49m\u001B[43mexecute\u001B[49m\u001B[43m(\u001B[49m\n\u001B[0;32m    500\u001B[0m \u001B[43m        \u001B[49m\u001B[38;5;28;43mstr\u001B[39;49m\u001B[43m(\u001B[49m\u001B[38;5;28;43mself\u001B[39;49m\u001B[38;5;241;43m.\u001B[39;49m\u001B[43msignature\u001B[49m\u001B[38;5;241;43m.\u001B[39;49m\u001B[43mname\u001B[49m\u001B[43m)\u001B[49m\u001B[43m,\u001B[49m\n\u001B[0;32m    501\u001B[0m \u001B[43m        \u001B[49m\u001B[43mnum_outputs\u001B[49m\u001B[38;5;241;43m=\u001B[39;49m\u001B[38;5;28;43mself\u001B[39;49m\u001B[38;5;241;43m.\u001B[39;49m\u001B[43m_num_outputs\u001B[49m\u001B[43m,\u001B[49m\n\u001B[0;32m    502\u001B[0m \u001B[43m        \u001B[49m\u001B[43minputs\u001B[49m\u001B[38;5;241;43m=\u001B[39;49m\u001B[43margs\u001B[49m\u001B[43m,\u001B[49m\n\u001B[0;32m    503\u001B[0m \u001B[43m        \u001B[49m\u001B[43mattrs\u001B[49m\u001B[38;5;241;43m=\u001B[39;49m\u001B[43mattrs\u001B[49m\u001B[43m,\u001B[49m\n\u001B[0;32m    504\u001B[0m \u001B[43m        \u001B[49m\u001B[43mctx\u001B[49m\u001B[38;5;241;43m=\u001B[39;49m\u001B[43mctx\u001B[49m\u001B[43m)\u001B[49m\n\u001B[0;32m    505\u001B[0m   \u001B[38;5;28;01melse\u001B[39;00m:\n\u001B[0;32m    506\u001B[0m     outputs \u001B[38;5;241m=\u001B[39m execute\u001B[38;5;241m.\u001B[39mexecute_with_cancellation(\n\u001B[0;32m    507\u001B[0m         \u001B[38;5;28mstr\u001B[39m(\u001B[38;5;28mself\u001B[39m\u001B[38;5;241m.\u001B[39msignature\u001B[38;5;241m.\u001B[39mname),\n\u001B[0;32m    508\u001B[0m         num_outputs\u001B[38;5;241m=\u001B[39m\u001B[38;5;28mself\u001B[39m\u001B[38;5;241m.\u001B[39m_num_outputs,\n\u001B[1;32m   (...)\u001B[0m\n\u001B[0;32m    511\u001B[0m         ctx\u001B[38;5;241m=\u001B[39mctx,\n\u001B[0;32m    512\u001B[0m         cancellation_manager\u001B[38;5;241m=\u001B[39mcancellation_manager)\n",
      "File \u001B[1;32m~\\AppData\\Local\\Programs\\Python\\Python310\\lib\\site-packages\\tensorflow\\python\\eager\\execute.py:54\u001B[0m, in \u001B[0;36mquick_execute\u001B[1;34m(op_name, num_outputs, inputs, attrs, ctx, name)\u001B[0m\n\u001B[0;32m     52\u001B[0m \u001B[38;5;28;01mtry\u001B[39;00m:\n\u001B[0;32m     53\u001B[0m   ctx\u001B[38;5;241m.\u001B[39mensure_initialized()\n\u001B[1;32m---> 54\u001B[0m   tensors \u001B[38;5;241m=\u001B[39m \u001B[43mpywrap_tfe\u001B[49m\u001B[38;5;241;43m.\u001B[39;49m\u001B[43mTFE_Py_Execute\u001B[49m\u001B[43m(\u001B[49m\u001B[43mctx\u001B[49m\u001B[38;5;241;43m.\u001B[39;49m\u001B[43m_handle\u001B[49m\u001B[43m,\u001B[49m\u001B[43m \u001B[49m\u001B[43mdevice_name\u001B[49m\u001B[43m,\u001B[49m\u001B[43m \u001B[49m\u001B[43mop_name\u001B[49m\u001B[43m,\u001B[49m\n\u001B[0;32m     55\u001B[0m \u001B[43m                                      \u001B[49m\u001B[43minputs\u001B[49m\u001B[43m,\u001B[49m\u001B[43m \u001B[49m\u001B[43mattrs\u001B[49m\u001B[43m,\u001B[49m\u001B[43m \u001B[49m\u001B[43mnum_outputs\u001B[49m\u001B[43m)\u001B[49m\n\u001B[0;32m     56\u001B[0m \u001B[38;5;28;01mexcept\u001B[39;00m core\u001B[38;5;241m.\u001B[39m_NotOkStatusException \u001B[38;5;28;01mas\u001B[39;00m e:\n\u001B[0;32m     57\u001B[0m   \u001B[38;5;28;01mif\u001B[39;00m name \u001B[38;5;129;01mis\u001B[39;00m \u001B[38;5;129;01mnot\u001B[39;00m \u001B[38;5;28;01mNone\u001B[39;00m:\n",
      "\u001B[1;31mKeyboardInterrupt\u001B[0m: "
     ]
    }
   ],
   "source": [
    "# build a model\n",
    "model = Sequential()\n",
    "model.add(Dense(128, input_shape=(x_train.shape[1],1), activation='relu'))\n",
    "model.add(Dense(128, activation='relu'))\n",
    "model.add(Dropout(0.2))\n",
    "model.add(Dense(128, activation='relu'))\n",
    "model.add(Dropout(0.2))\n",
    "model.add(Dense(128, activation='relu'))\n",
    "model.add(Dropout(0.2))\n",
    "model.add(Dense(1, activation='sigmoid'))\n",
    "model.summary()\n",
    "\n",
    "model.compile(optimizer='Adam',loss='binary_crossentropy',metrics=['accuracy'])\n",
    "es = EarlyStopping(monitor='val_accuracy',mode='max',patience=10,restore_best_weights=True)\n",
    "history = model.fit(x_train,y_train,callbacks=[es],epochs=5,batch_size=1024,validation_split=0.1,shuffle=True,verbose=1)"
   ],
   "metadata": {
    "collapsed": false,
    "pycharm": {
     "name": "#%%\n"
    }
   }
  },
  {
   "cell_type": "code",
   "execution_count": null,
   "outputs": [],
   "source": [],
   "metadata": {
    "collapsed": false,
    "pycharm": {
     "name": "#%%\n"
    }
   }
  }
 ],
 "metadata": {
  "kernelspec": {
   "display_name": "Python 3",
   "language": "python",
   "name": "python3"
  },
  "language_info": {
   "codemirror_mode": {
    "name": "ipython",
    "version": 2
   },
   "file_extension": ".py",
   "mimetype": "text/x-python",
   "name": "python",
   "nbconvert_exporter": "python",
   "pygments_lexer": "ipython2",
   "version": "2.7.6"
  }
 },
 "nbformat": 4,
 "nbformat_minor": 0
}