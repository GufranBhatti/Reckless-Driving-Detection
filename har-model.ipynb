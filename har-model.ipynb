{
 "cells": [
  {
   "cell_type": "raw",
   "id": "aebc94bc",
   "metadata": {
    "_cell_guid": "b1076dfc-b9ad-4769-8c92-a6c4dae69d19",
    "_uuid": "8f2839f25d086af736a60e9eeb907d3b93b6e0e5",
    "papermill": {
     "duration": 0.022305,
     "end_time": "2021-12-02T05:15:39.748423",
     "exception": false,
     "start_time": "2021-12-02T05:15:39.726118",
     "status": "completed"
    },
    "tags": [],
    "pycharm": {
     "name": "#%% raw\n"
    }
   },
   "source": [
    "# This Python 3 environment comes with many helpful analytics libraries installed\n",
    "# It is defined by the kaggle/python Docker image: https://github.com/kaggle/docker-python\n",
    "# For example, here's several helpful packages to load\n",
    "\n",
    "import numpy as np # linear algebra\n",
    "import pandas as pd # data processing, CSV file I/O (e.g. pd.read_csv)\n",
    "\n",
    "# Input data files are available in the read-only \"../input/\" directory\n",
    "# For example, running this (by clicking run or pressing Shift+Enter) will list all files under the input directory\n",
    "\n",
    "import os\n",
    "for dirname, _, filenames in os.walk('/kaggle/input'):\n",
    "    for filename in filenames:\n",
    "        print(os.path.join(dirname, filename))\n",
    "\n",
    "# You can write up to 20GB to the current directory (/kaggle/working/) that gets preserved as output when you create a version using \"Save & Run All\" \n",
    "# You can also write temporary files to /kaggle/temp/, but they won't be saved outside of the current session"
   ]
  },
  {
   "cell_type": "code",
   "execution_count": 1,
   "id": "fc4945ba",
   "metadata": {
    "execution": {
     "iopub.execute_input": "2021-12-02T05:15:39.793249Z",
     "iopub.status.busy": "2021-12-02T05:15:39.791694Z",
     "iopub.status.idle": "2021-12-02T05:15:39.800241Z",
     "shell.execute_reply": "2021-12-02T05:15:39.800696Z",
     "shell.execute_reply.started": "2021-12-02T05:07:46.474409Z"
    },
    "papermill": {
     "duration": 0.03269,
     "end_time": "2021-12-02T05:15:39.800914",
     "exception": false,
     "start_time": "2021-12-02T05:15:39.768224",
     "status": "completed"
    },
    "tags": [],
    "pycharm": {
     "name": "#%%\n"
    }
   },
   "outputs": [],
   "source": [
    "import pandas as pd\n",
    "import numpy as np\n",
    "from datetime import datetime\n",
    "import matplotlib.pyplot as plt"
   ]
  },
  {
   "cell_type": "code",
   "execution_count": 2,
   "id": "80f83898",
   "metadata": {
    "execution": {
     "iopub.execute_input": "2021-12-02T05:15:39.843628Z",
     "iopub.status.busy": "2021-12-02T05:15:39.843142Z",
     "iopub.status.idle": "2021-12-02T05:15:39.908554Z",
     "shell.execute_reply": "2021-12-02T05:15:39.909034Z",
     "shell.execute_reply.started": "2021-12-02T05:07:46.501092Z"
    },
    "papermill": {
     "duration": 0.088425,
     "end_time": "2021-12-02T05:15:39.909166",
     "exception": false,
     "start_time": "2021-12-02T05:15:39.820741",
     "status": "completed"
    },
    "tags": [],
    "pycharm": {
     "name": "#%%\n"
    }
   },
   "outputs": [
    {
     "data": {
      "text/html": [
       "<div>\n",
       "<style scoped>\n",
       "    .dataframe tbody tr th:only-of-type {\n",
       "        vertical-align: middle;\n",
       "    }\n",
       "\n",
       "    .dataframe tbody tr th {\n",
       "        vertical-align: top;\n",
       "    }\n",
       "\n",
       "    .dataframe thead th {\n",
       "        text-align: right;\n",
       "    }\n",
       "</style>\n",
       "<table border=\"1\" class=\"dataframe\">\n",
       "  <thead>\n",
       "    <tr style=\"text-align: right;\">\n",
       "      <th></th>\n",
       "      <th>Longitude</th>\n",
       "      <th>Latitude</th>\n",
       "      <th>Speed</th>\n",
       "      <th>Distance</th>\n",
       "      <th>Time</th>\n",
       "      <th>Acc X</th>\n",
       "      <th>Acc Y</th>\n",
       "      <th>Acc Z</th>\n",
       "      <th>Heading</th>\n",
       "      <th>gyro_x</th>\n",
       "      <th>gyro_y</th>\n",
       "      <th>gyro_z</th>\n",
       "    </tr>\n",
       "  </thead>\n",
       "  <tbody>\n",
       "    <tr>\n",
       "      <th>0</th>\n",
       "      <td>73.831324</td>\n",
       "      <td>18.518700</td>\n",
       "      <td>1.29</td>\n",
       "      <td>8.312031e+06</td>\n",
       "      <td>17-14-53</td>\n",
       "      <td>0.046402</td>\n",
       "      <td>-0.137178</td>\n",
       "      <td>-0.282934</td>\n",
       "      <td>265.0</td>\n",
       "      <td>-0.036306</td>\n",
       "      <td>-0.008226</td>\n",
       "      <td>-0.023416</td>\n",
       "    </tr>\n",
       "    <tr>\n",
       "      <th>1</th>\n",
       "      <td>73.831324</td>\n",
       "      <td>18.518700</td>\n",
       "      <td>1.29</td>\n",
       "      <td>8.312031e+06</td>\n",
       "      <td>17-14-53</td>\n",
       "      <td>-0.136978</td>\n",
       "      <td>0.365242</td>\n",
       "      <td>0.108889</td>\n",
       "      <td>266.0</td>\n",
       "      <td>0.035776</td>\n",
       "      <td>-0.009448</td>\n",
       "      <td>0.009570</td>\n",
       "    </tr>\n",
       "    <tr>\n",
       "      <th>2</th>\n",
       "      <td>73.831324</td>\n",
       "      <td>18.518700</td>\n",
       "      <td>1.29</td>\n",
       "      <td>8.312031e+06</td>\n",
       "      <td>17-14-53</td>\n",
       "      <td>-0.045355</td>\n",
       "      <td>-0.103340</td>\n",
       "      <td>-0.534985</td>\n",
       "      <td>266.0</td>\n",
       "      <td>-0.011871</td>\n",
       "      <td>-0.027774</td>\n",
       "      <td>0.003462</td>\n",
       "    </tr>\n",
       "    <tr>\n",
       "      <th>3</th>\n",
       "      <td>73.831201</td>\n",
       "      <td>18.518714</td>\n",
       "      <td>0.31</td>\n",
       "      <td>1.302423e+01</td>\n",
       "      <td>17-14-53</td>\n",
       "      <td>0.242089</td>\n",
       "      <td>0.072761</td>\n",
       "      <td>-0.350396</td>\n",
       "      <td>266.0</td>\n",
       "      <td>-0.017980</td>\n",
       "      <td>0.002769</td>\n",
       "      <td>-0.005091</td>\n",
       "    </tr>\n",
       "    <tr>\n",
       "      <th>4</th>\n",
       "      <td>73.831201</td>\n",
       "      <td>18.518714</td>\n",
       "      <td>0.31</td>\n",
       "      <td>1.302423e+01</td>\n",
       "      <td>17-14-53</td>\n",
       "      <td>-0.230234</td>\n",
       "      <td>0.011765</td>\n",
       "      <td>-0.494085</td>\n",
       "      <td>266.0</td>\n",
       "      <td>0.011342</td>\n",
       "      <td>0.003380</td>\n",
       "      <td>0.006516</td>\n",
       "    </tr>\n",
       "  </tbody>\n",
       "</table>\n",
       "</div>"
      ],
      "text/plain": [
       "   Longitude   Latitude  Speed      Distance      Time     Acc X     Acc Y  \\\n",
       "0  73.831324  18.518700   1.29  8.312031e+06  17-14-53  0.046402 -0.137178   \n",
       "1  73.831324  18.518700   1.29  8.312031e+06  17-14-53 -0.136978  0.365242   \n",
       "2  73.831324  18.518700   1.29  8.312031e+06  17-14-53 -0.045355 -0.103340   \n",
       "3  73.831201  18.518714   0.31  1.302423e+01  17-14-53  0.242089  0.072761   \n",
       "4  73.831201  18.518714   0.31  1.302423e+01  17-14-53 -0.230234  0.011765   \n",
       "\n",
       "      Acc Z  Heading    gyro_x    gyro_y    gyro_z  \n",
       "0 -0.282934    265.0 -0.036306 -0.008226 -0.023416  \n",
       "1  0.108889    266.0  0.035776 -0.009448  0.009570  \n",
       "2 -0.534985    266.0 -0.011871 -0.027774  0.003462  \n",
       "3 -0.350396    266.0 -0.017980  0.002769 -0.005091  \n",
       "4 -0.494085    266.0  0.011342  0.003380  0.006516  "
      ]
     },
     "execution_count": 2,
     "metadata": {},
     "output_type": "execute_result"
    }
   ],
   "source": [
    "data1 = pd.read_csv('../input/phone-sensor-data-while-driving-a-car/1_20210317_171452.csv')\n",
    "data1.head()"
   ]
  },
  {
   "cell_type": "code",
   "execution_count": 3,
   "id": "ffe12a56",
   "metadata": {
    "execution": {
     "iopub.execute_input": "2021-12-02T05:15:39.955482Z",
     "iopub.status.busy": "2021-12-02T05:15:39.954984Z",
     "iopub.status.idle": "2021-12-02T05:15:39.998150Z",
     "shell.execute_reply": "2021-12-02T05:15:39.997381Z",
     "shell.execute_reply.started": "2021-12-02T05:07:46.575525Z"
    },
    "papermill": {
     "duration": 0.066517,
     "end_time": "2021-12-02T05:15:39.998272",
     "exception": false,
     "start_time": "2021-12-02T05:15:39.931755",
     "status": "completed"
    },
    "tags": [],
    "pycharm": {
     "name": "#%%\n"
    }
   },
   "outputs": [
    {
     "data": {
      "text/html": [
       "<div>\n",
       "<style scoped>\n",
       "    .dataframe tbody tr th:only-of-type {\n",
       "        vertical-align: middle;\n",
       "    }\n",
       "\n",
       "    .dataframe tbody tr th {\n",
       "        vertical-align: top;\n",
       "    }\n",
       "\n",
       "    .dataframe thead th {\n",
       "        text-align: right;\n",
       "    }\n",
       "</style>\n",
       "<table border=\"1\" class=\"dataframe\">\n",
       "  <thead>\n",
       "    <tr style=\"text-align: right;\">\n",
       "      <th></th>\n",
       "      <th>Longitude</th>\n",
       "      <th>Latitude</th>\n",
       "      <th>Speed</th>\n",
       "      <th>Distance</th>\n",
       "      <th>Time</th>\n",
       "      <th>Acc X</th>\n",
       "      <th>Acc Y</th>\n",
       "      <th>Acc Z</th>\n",
       "      <th>Heading</th>\n",
       "      <th>gyro_x</th>\n",
       "      <th>gyro_y</th>\n",
       "      <th>gyro_z</th>\n",
       "    </tr>\n",
       "  </thead>\n",
       "  <tbody>\n",
       "    <tr>\n",
       "      <th>6641</th>\n",
       "      <td>73.831196</td>\n",
       "      <td>18.518508</td>\n",
       "      <td>0.0</td>\n",
       "      <td>2074.5303</td>\n",
       "      <td>18-56-18</td>\n",
       "      <td>-0.436406</td>\n",
       "      <td>-0.219264</td>\n",
       "      <td>0.397958</td>\n",
       "      <td>85.0</td>\n",
       "      <td>-0.051089</td>\n",
       "      <td>-0.001975</td>\n",
       "      <td>-0.058989</td>\n",
       "    </tr>\n",
       "    <tr>\n",
       "      <th>6642</th>\n",
       "      <td>73.831196</td>\n",
       "      <td>18.518508</td>\n",
       "      <td>0.0</td>\n",
       "      <td>2074.5303</td>\n",
       "      <td>18-56-18</td>\n",
       "      <td>-0.436406</td>\n",
       "      <td>-0.219264</td>\n",
       "      <td>0.397958</td>\n",
       "      <td>85.0</td>\n",
       "      <td>-0.001609</td>\n",
       "      <td>0.024903</td>\n",
       "      <td>0.000876</td>\n",
       "    </tr>\n",
       "    <tr>\n",
       "      <th>6643</th>\n",
       "      <td>73.831196</td>\n",
       "      <td>18.518508</td>\n",
       "      <td>0.0</td>\n",
       "      <td>2074.5303</td>\n",
       "      <td>18-56-18</td>\n",
       "      <td>-0.436406</td>\n",
       "      <td>-0.219264</td>\n",
       "      <td>0.397958</td>\n",
       "      <td>85.0</td>\n",
       "      <td>-0.001609</td>\n",
       "      <td>0.024903</td>\n",
       "      <td>0.000876</td>\n",
       "    </tr>\n",
       "    <tr>\n",
       "      <th>6644</th>\n",
       "      <td>73.831196</td>\n",
       "      <td>18.518508</td>\n",
       "      <td>0.0</td>\n",
       "      <td>2074.5303</td>\n",
       "      <td>18-56-18</td>\n",
       "      <td>-0.436406</td>\n",
       "      <td>-0.219264</td>\n",
       "      <td>0.397958</td>\n",
       "      <td>85.0</td>\n",
       "      <td>-0.001609</td>\n",
       "      <td>0.024903</td>\n",
       "      <td>0.000876</td>\n",
       "    </tr>\n",
       "    <tr>\n",
       "      <th>6645</th>\n",
       "      <td>73.831196</td>\n",
       "      <td>18.518508</td>\n",
       "      <td>0.0</td>\n",
       "      <td>2074.5303</td>\n",
       "      <td>18-56-18</td>\n",
       "      <td>-0.436406</td>\n",
       "      <td>-0.219264</td>\n",
       "      <td>0.397958</td>\n",
       "      <td>85.0</td>\n",
       "      <td>-0.001609</td>\n",
       "      <td>0.024903</td>\n",
       "      <td>0.000876</td>\n",
       "    </tr>\n",
       "  </tbody>\n",
       "</table>\n",
       "</div>"
      ],
      "text/plain": [
       "      Longitude   Latitude  Speed   Distance      Time     Acc X     Acc Y  \\\n",
       "6641  73.831196  18.518508    0.0  2074.5303  18-56-18 -0.436406 -0.219264   \n",
       "6642  73.831196  18.518508    0.0  2074.5303  18-56-18 -0.436406 -0.219264   \n",
       "6643  73.831196  18.518508    0.0  2074.5303  18-56-18 -0.436406 -0.219264   \n",
       "6644  73.831196  18.518508    0.0  2074.5303  18-56-18 -0.436406 -0.219264   \n",
       "6645  73.831196  18.518508    0.0  2074.5303  18-56-18 -0.436406 -0.219264   \n",
       "\n",
       "         Acc Z  Heading    gyro_x    gyro_y    gyro_z  \n",
       "6641  0.397958     85.0 -0.051089 -0.001975 -0.058989  \n",
       "6642  0.397958     85.0 -0.001609  0.024903  0.000876  \n",
       "6643  0.397958     85.0 -0.001609  0.024903  0.000876  \n",
       "6644  0.397958     85.0 -0.001609  0.024903  0.000876  \n",
       "6645  0.397958     85.0 -0.001609  0.024903  0.000876  "
      ]
     },
     "execution_count": 3,
     "metadata": {},
     "output_type": "execute_result"
    }
   ],
   "source": [
    "data2 = pd.read_csv('../input/phone-sensor-data-while-driving-a-car/2_20210317_184512.csv')\n",
    "data2.tail()"
   ]
  },
  {
   "cell_type": "code",
   "execution_count": 4,
   "id": "ad051eeb",
   "metadata": {
    "execution": {
     "iopub.execute_input": "2021-12-02T05:15:40.043214Z",
     "iopub.status.busy": "2021-12-02T05:15:40.042705Z",
     "iopub.status.idle": "2021-12-02T05:15:40.087492Z",
     "shell.execute_reply": "2021-12-02T05:15:40.087084Z",
     "shell.execute_reply.started": "2021-12-02T05:07:46.633826Z"
    },
    "papermill": {
     "duration": 0.068542,
     "end_time": "2021-12-02T05:15:40.087618",
     "exception": false,
     "start_time": "2021-12-02T05:15:40.019076",
     "status": "completed"
    },
    "tags": [],
    "pycharm": {
     "name": "#%%\n"
    }
   },
   "outputs": [
    {
     "data": {
      "text/html": [
       "<div>\n",
       "<style scoped>\n",
       "    .dataframe tbody tr th:only-of-type {\n",
       "        vertical-align: middle;\n",
       "    }\n",
       "\n",
       "    .dataframe tbody tr th {\n",
       "        vertical-align: top;\n",
       "    }\n",
       "\n",
       "    .dataframe thead th {\n",
       "        text-align: right;\n",
       "    }\n",
       "</style>\n",
       "<table border=\"1\" class=\"dataframe\">\n",
       "  <thead>\n",
       "    <tr style=\"text-align: right;\">\n",
       "      <th></th>\n",
       "      <th>Acc X</th>\n",
       "      <th>Acc Y</th>\n",
       "      <th>Acc Z</th>\n",
       "      <th>gyro_x</th>\n",
       "      <th>gyro_y</th>\n",
       "      <th>gyro_z</th>\n",
       "      <th>label</th>\n",
       "    </tr>\n",
       "  </thead>\n",
       "  <tbody>\n",
       "    <tr>\n",
       "      <th>0</th>\n",
       "      <td>0.046402</td>\n",
       "      <td>-0.137178</td>\n",
       "      <td>-0.282934</td>\n",
       "      <td>-0.036306</td>\n",
       "      <td>-0.008226</td>\n",
       "      <td>-0.023416</td>\n",
       "      <td>0</td>\n",
       "    </tr>\n",
       "    <tr>\n",
       "      <th>1</th>\n",
       "      <td>-0.136978</td>\n",
       "      <td>0.365242</td>\n",
       "      <td>0.108889</td>\n",
       "      <td>0.035776</td>\n",
       "      <td>-0.009448</td>\n",
       "      <td>0.009570</td>\n",
       "      <td>0</td>\n",
       "    </tr>\n",
       "    <tr>\n",
       "      <th>2</th>\n",
       "      <td>-0.045355</td>\n",
       "      <td>-0.103340</td>\n",
       "      <td>-0.534985</td>\n",
       "      <td>-0.011871</td>\n",
       "      <td>-0.027774</td>\n",
       "      <td>0.003462</td>\n",
       "      <td>0</td>\n",
       "    </tr>\n",
       "    <tr>\n",
       "      <th>3</th>\n",
       "      <td>0.242089</td>\n",
       "      <td>0.072761</td>\n",
       "      <td>-0.350396</td>\n",
       "      <td>-0.017980</td>\n",
       "      <td>0.002769</td>\n",
       "      <td>-0.005091</td>\n",
       "      <td>0</td>\n",
       "    </tr>\n",
       "    <tr>\n",
       "      <th>4</th>\n",
       "      <td>-0.230234</td>\n",
       "      <td>0.011765</td>\n",
       "      <td>-0.494085</td>\n",
       "      <td>0.011342</td>\n",
       "      <td>0.003380</td>\n",
       "      <td>0.006516</td>\n",
       "      <td>0</td>\n",
       "    </tr>\n",
       "  </tbody>\n",
       "</table>\n",
       "</div>"
      ],
      "text/plain": [
       "      Acc X     Acc Y     Acc Z    gyro_x    gyro_y    gyro_z  label\n",
       "0  0.046402 -0.137178 -0.282934 -0.036306 -0.008226 -0.023416      0\n",
       "1 -0.136978  0.365242  0.108889  0.035776 -0.009448  0.009570      0\n",
       "2 -0.045355 -0.103340 -0.534985 -0.011871 -0.027774  0.003462      0\n",
       "3  0.242089  0.072761 -0.350396 -0.017980  0.002769 -0.005091      0\n",
       "4 -0.230234  0.011765 -0.494085  0.011342  0.003380  0.006516      0"
      ]
     },
     "execution_count": 4,
     "metadata": {},
     "output_type": "execute_result"
    }
   ],
   "source": [
    "data = pd.read_csv('../input/phone-sensor-data-while-driving-a-car/FinalDatasetCsv.csv')\n",
    "data.head()"
   ]
  },
  {
   "cell_type": "code",
   "execution_count": 5,
   "id": "edf186cf",
   "metadata": {
    "execution": {
     "iopub.execute_input": "2021-12-02T05:15:40.137706Z",
     "iopub.status.busy": "2021-12-02T05:15:40.136827Z",
     "iopub.status.idle": "2021-12-02T05:15:40.153204Z",
     "shell.execute_reply": "2021-12-02T05:15:40.153575Z",
     "shell.execute_reply.started": "2021-12-02T05:07:46.682642Z"
    },
    "papermill": {
     "duration": 0.0443,
     "end_time": "2021-12-02T05:15:40.153736",
     "exception": false,
     "start_time": "2021-12-02T05:15:40.109436",
     "status": "completed"
    },
    "tags": [],
    "pycharm": {
     "name": "#%%\n"
    }
   },
   "outputs": [
    {
     "data": {
      "text/html": [
       "<div>\n",
       "<style scoped>\n",
       "    .dataframe tbody tr th:only-of-type {\n",
       "        vertical-align: middle;\n",
       "    }\n",
       "\n",
       "    .dataframe tbody tr th {\n",
       "        vertical-align: top;\n",
       "    }\n",
       "\n",
       "    .dataframe thead th {\n",
       "        text-align: right;\n",
       "    }\n",
       "</style>\n",
       "<table border=\"1\" class=\"dataframe\">\n",
       "  <thead>\n",
       "    <tr style=\"text-align: right;\">\n",
       "      <th></th>\n",
       "      <th>Longitude</th>\n",
       "      <th>Latitude</th>\n",
       "      <th>Speed</th>\n",
       "      <th>Distance</th>\n",
       "      <th>Time</th>\n",
       "      <th>Acc X</th>\n",
       "      <th>Acc Y</th>\n",
       "      <th>Acc Z</th>\n",
       "      <th>Heading</th>\n",
       "      <th>gyro_x</th>\n",
       "      <th>gyro_y</th>\n",
       "      <th>gyro_z</th>\n",
       "    </tr>\n",
       "  </thead>\n",
       "  <tbody>\n",
       "    <tr>\n",
       "      <th>0</th>\n",
       "      <td>73.831324</td>\n",
       "      <td>18.518700</td>\n",
       "      <td>1.29</td>\n",
       "      <td>8.312031e+06</td>\n",
       "      <td>17-14-53</td>\n",
       "      <td>0.046402</td>\n",
       "      <td>-0.137178</td>\n",
       "      <td>-0.282934</td>\n",
       "      <td>265.0</td>\n",
       "      <td>-0.036306</td>\n",
       "      <td>-0.008226</td>\n",
       "      <td>-0.023416</td>\n",
       "    </tr>\n",
       "    <tr>\n",
       "      <th>1</th>\n",
       "      <td>73.831324</td>\n",
       "      <td>18.518700</td>\n",
       "      <td>1.29</td>\n",
       "      <td>8.312031e+06</td>\n",
       "      <td>17-14-53</td>\n",
       "      <td>-0.136978</td>\n",
       "      <td>0.365242</td>\n",
       "      <td>0.108889</td>\n",
       "      <td>266.0</td>\n",
       "      <td>0.035776</td>\n",
       "      <td>-0.009448</td>\n",
       "      <td>0.009570</td>\n",
       "    </tr>\n",
       "    <tr>\n",
       "      <th>2</th>\n",
       "      <td>73.831324</td>\n",
       "      <td>18.518700</td>\n",
       "      <td>1.29</td>\n",
       "      <td>8.312031e+06</td>\n",
       "      <td>17-14-53</td>\n",
       "      <td>-0.045355</td>\n",
       "      <td>-0.103340</td>\n",
       "      <td>-0.534985</td>\n",
       "      <td>266.0</td>\n",
       "      <td>-0.011871</td>\n",
       "      <td>-0.027774</td>\n",
       "      <td>0.003462</td>\n",
       "    </tr>\n",
       "    <tr>\n",
       "      <th>3</th>\n",
       "      <td>73.831201</td>\n",
       "      <td>18.518714</td>\n",
       "      <td>0.31</td>\n",
       "      <td>1.302423e+01</td>\n",
       "      <td>17-14-53</td>\n",
       "      <td>0.242089</td>\n",
       "      <td>0.072761</td>\n",
       "      <td>-0.350396</td>\n",
       "      <td>266.0</td>\n",
       "      <td>-0.017980</td>\n",
       "      <td>0.002769</td>\n",
       "      <td>-0.005091</td>\n",
       "    </tr>\n",
       "    <tr>\n",
       "      <th>4</th>\n",
       "      <td>73.831201</td>\n",
       "      <td>18.518714</td>\n",
       "      <td>0.31</td>\n",
       "      <td>1.302423e+01</td>\n",
       "      <td>17-14-53</td>\n",
       "      <td>-0.230234</td>\n",
       "      <td>0.011765</td>\n",
       "      <td>-0.494085</td>\n",
       "      <td>266.0</td>\n",
       "      <td>0.011342</td>\n",
       "      <td>0.003380</td>\n",
       "      <td>0.006516</td>\n",
       "    </tr>\n",
       "  </tbody>\n",
       "</table>\n",
       "</div>"
      ],
      "text/plain": [
       "   Longitude   Latitude  Speed      Distance      Time     Acc X     Acc Y  \\\n",
       "0  73.831324  18.518700   1.29  8.312031e+06  17-14-53  0.046402 -0.137178   \n",
       "1  73.831324  18.518700   1.29  8.312031e+06  17-14-53 -0.136978  0.365242   \n",
       "2  73.831324  18.518700   1.29  8.312031e+06  17-14-53 -0.045355 -0.103340   \n",
       "3  73.831201  18.518714   0.31  1.302423e+01  17-14-53  0.242089  0.072761   \n",
       "4  73.831201  18.518714   0.31  1.302423e+01  17-14-53 -0.230234  0.011765   \n",
       "\n",
       "      Acc Z  Heading    gyro_x    gyro_y    gyro_z  \n",
       "0 -0.282934    265.0 -0.036306 -0.008226 -0.023416  \n",
       "1  0.108889    266.0  0.035776 -0.009448  0.009570  \n",
       "2 -0.534985    266.0 -0.011871 -0.027774  0.003462  \n",
       "3 -0.350396    266.0 -0.017980  0.002769 -0.005091  \n",
       "4 -0.494085    266.0  0.011342  0.003380  0.006516  "
      ]
     },
     "execution_count": 5,
     "metadata": {},
     "output_type": "execute_result"
    }
   ],
   "source": [
    "df_final = pd.concat([data1, data2])\n",
    "df_final.head()"
   ]
  },
  {
   "cell_type": "code",
   "execution_count": 6,
   "id": "9818122d",
   "metadata": {
    "execution": {
     "iopub.execute_input": "2021-12-02T05:15:40.204461Z",
     "iopub.status.busy": "2021-12-02T05:15:40.203658Z",
     "iopub.status.idle": "2021-12-02T05:15:40.207879Z",
     "shell.execute_reply": "2021-12-02T05:15:40.208286Z",
     "shell.execute_reply.started": "2021-12-02T05:07:46.710021Z"
    },
    "papermill": {
     "duration": 0.032794,
     "end_time": "2021-12-02T05:15:40.208418",
     "exception": false,
     "start_time": "2021-12-02T05:15:40.175624",
     "status": "completed"
    },
    "tags": [],
    "pycharm": {
     "name": "#%%\n"
    }
   },
   "outputs": [],
   "source": [
    "df_final['label'] = data['label']"
   ]
  },
  {
   "cell_type": "code",
   "execution_count": 7,
   "id": "77e3388b",
   "metadata": {
    "execution": {
     "iopub.execute_input": "2021-12-02T05:15:40.281828Z",
     "iopub.status.busy": "2021-12-02T05:15:40.278828Z",
     "iopub.status.idle": "2021-12-02T05:15:40.282632Z",
     "shell.execute_reply": "2021-12-02T05:15:40.283226Z",
     "shell.execute_reply.started": "2021-12-02T05:07:46.721950Z"
    },
    "papermill": {
     "duration": 0.045565,
     "end_time": "2021-12-02T05:15:40.283400",
     "exception": false,
     "start_time": "2021-12-02T05:15:40.237835",
     "status": "completed"
    },
    "tags": [],
    "pycharm": {
     "name": "#%%\n"
    }
   },
   "outputs": [],
   "source": [
    "df_final.set_index('Time', inplace=True)"
   ]
  },
  {
   "cell_type": "code",
   "execution_count": 8,
   "id": "000d4d41",
   "metadata": {
    "execution": {
     "iopub.execute_input": "2021-12-02T05:15:40.355826Z",
     "iopub.status.busy": "2021-12-02T05:15:40.355077Z",
     "iopub.status.idle": "2021-12-02T05:15:40.357910Z",
     "shell.execute_reply": "2021-12-02T05:15:40.358326Z",
     "shell.execute_reply.started": "2021-12-02T05:07:46.730667Z"
    },
    "papermill": {
     "duration": 0.041205,
     "end_time": "2021-12-02T05:15:40.358455",
     "exception": false,
     "start_time": "2021-12-02T05:15:40.317250",
     "status": "completed"
    },
    "tags": [],
    "pycharm": {
     "name": "#%%\n"
    }
   },
   "outputs": [
    {
     "data": {
      "text/html": [
       "<div>\n",
       "<style scoped>\n",
       "    .dataframe tbody tr th:only-of-type {\n",
       "        vertical-align: middle;\n",
       "    }\n",
       "\n",
       "    .dataframe tbody tr th {\n",
       "        vertical-align: top;\n",
       "    }\n",
       "\n",
       "    .dataframe thead th {\n",
       "        text-align: right;\n",
       "    }\n",
       "</style>\n",
       "<table border=\"1\" class=\"dataframe\">\n",
       "  <thead>\n",
       "    <tr style=\"text-align: right;\">\n",
       "      <th></th>\n",
       "      <th>Longitude</th>\n",
       "      <th>Latitude</th>\n",
       "      <th>Speed</th>\n",
       "      <th>Distance</th>\n",
       "      <th>Acc X</th>\n",
       "      <th>Acc Y</th>\n",
       "      <th>Acc Z</th>\n",
       "      <th>Heading</th>\n",
       "      <th>gyro_x</th>\n",
       "      <th>gyro_y</th>\n",
       "      <th>gyro_z</th>\n",
       "      <th>label</th>\n",
       "    </tr>\n",
       "    <tr>\n",
       "      <th>Time</th>\n",
       "      <th></th>\n",
       "      <th></th>\n",
       "      <th></th>\n",
       "      <th></th>\n",
       "      <th></th>\n",
       "      <th></th>\n",
       "      <th></th>\n",
       "      <th></th>\n",
       "      <th></th>\n",
       "      <th></th>\n",
       "      <th></th>\n",
       "      <th></th>\n",
       "    </tr>\n",
       "  </thead>\n",
       "  <tbody>\n",
       "    <tr>\n",
       "      <th>17-14-53</th>\n",
       "      <td>73.831324</td>\n",
       "      <td>18.518700</td>\n",
       "      <td>1.29</td>\n",
       "      <td>8.312031e+06</td>\n",
       "      <td>0.046402</td>\n",
       "      <td>-0.137178</td>\n",
       "      <td>-0.282934</td>\n",
       "      <td>265.0</td>\n",
       "      <td>-0.036306</td>\n",
       "      <td>-0.008226</td>\n",
       "      <td>-0.023416</td>\n",
       "      <td>0</td>\n",
       "    </tr>\n",
       "    <tr>\n",
       "      <th>17-14-53</th>\n",
       "      <td>73.831324</td>\n",
       "      <td>18.518700</td>\n",
       "      <td>1.29</td>\n",
       "      <td>8.312031e+06</td>\n",
       "      <td>-0.136978</td>\n",
       "      <td>0.365242</td>\n",
       "      <td>0.108889</td>\n",
       "      <td>266.0</td>\n",
       "      <td>0.035776</td>\n",
       "      <td>-0.009448</td>\n",
       "      <td>0.009570</td>\n",
       "      <td>0</td>\n",
       "    </tr>\n",
       "    <tr>\n",
       "      <th>17-14-53</th>\n",
       "      <td>73.831324</td>\n",
       "      <td>18.518700</td>\n",
       "      <td>1.29</td>\n",
       "      <td>8.312031e+06</td>\n",
       "      <td>-0.045355</td>\n",
       "      <td>-0.103340</td>\n",
       "      <td>-0.534985</td>\n",
       "      <td>266.0</td>\n",
       "      <td>-0.011871</td>\n",
       "      <td>-0.027774</td>\n",
       "      <td>0.003462</td>\n",
       "      <td>0</td>\n",
       "    </tr>\n",
       "    <tr>\n",
       "      <th>17-14-53</th>\n",
       "      <td>73.831201</td>\n",
       "      <td>18.518714</td>\n",
       "      <td>0.31</td>\n",
       "      <td>1.302423e+01</td>\n",
       "      <td>0.242089</td>\n",
       "      <td>0.072761</td>\n",
       "      <td>-0.350396</td>\n",
       "      <td>266.0</td>\n",
       "      <td>-0.017980</td>\n",
       "      <td>0.002769</td>\n",
       "      <td>-0.005091</td>\n",
       "      <td>0</td>\n",
       "    </tr>\n",
       "    <tr>\n",
       "      <th>17-14-53</th>\n",
       "      <td>73.831201</td>\n",
       "      <td>18.518714</td>\n",
       "      <td>0.31</td>\n",
       "      <td>1.302423e+01</td>\n",
       "      <td>-0.230234</td>\n",
       "      <td>0.011765</td>\n",
       "      <td>-0.494085</td>\n",
       "      <td>266.0</td>\n",
       "      <td>0.011342</td>\n",
       "      <td>0.003380</td>\n",
       "      <td>0.006516</td>\n",
       "      <td>0</td>\n",
       "    </tr>\n",
       "  </tbody>\n",
       "</table>\n",
       "</div>"
      ],
      "text/plain": [
       "          Longitude   Latitude  Speed      Distance     Acc X     Acc Y  \\\n",
       "Time                                                                      \n",
       "17-14-53  73.831324  18.518700   1.29  8.312031e+06  0.046402 -0.137178   \n",
       "17-14-53  73.831324  18.518700   1.29  8.312031e+06 -0.136978  0.365242   \n",
       "17-14-53  73.831324  18.518700   1.29  8.312031e+06 -0.045355 -0.103340   \n",
       "17-14-53  73.831201  18.518714   0.31  1.302423e+01  0.242089  0.072761   \n",
       "17-14-53  73.831201  18.518714   0.31  1.302423e+01 -0.230234  0.011765   \n",
       "\n",
       "             Acc Z  Heading    gyro_x    gyro_y    gyro_z  label  \n",
       "Time                                                              \n",
       "17-14-53 -0.282934    265.0 -0.036306 -0.008226 -0.023416      0  \n",
       "17-14-53  0.108889    266.0  0.035776 -0.009448  0.009570      0  \n",
       "17-14-53 -0.534985    266.0 -0.011871 -0.027774  0.003462      0  \n",
       "17-14-53 -0.350396    266.0 -0.017980  0.002769 -0.005091      0  \n",
       "17-14-53 -0.494085    266.0  0.011342  0.003380  0.006516      0  "
      ]
     },
     "execution_count": 8,
     "metadata": {},
     "output_type": "execute_result"
    }
   ],
   "source": [
    "df_final.head()"
   ]
  },
  {
   "cell_type": "code",
   "execution_count": 9,
   "id": "70a7f8da",
   "metadata": {
    "execution": {
     "iopub.execute_input": "2021-12-02T05:15:40.408071Z",
     "iopub.status.busy": "2021-12-02T05:15:40.407413Z",
     "iopub.status.idle": "2021-12-02T05:15:40.410052Z",
     "shell.execute_reply": "2021-12-02T05:15:40.410530Z",
     "shell.execute_reply.started": "2021-12-02T05:07:46.753502Z"
    },
    "papermill": {
     "duration": 0.029828,
     "end_time": "2021-12-02T05:15:40.410700",
     "exception": false,
     "start_time": "2021-12-02T05:15:40.380872",
     "status": "completed"
    },
    "tags": [],
    "pycharm": {
     "name": "#%%\n"
    }
   },
   "outputs": [
    {
     "data": {
      "text/plain": [
       "datetime.timedelta(seconds=6085)"
      ]
     },
     "execution_count": 9,
     "metadata": {},
     "output_type": "execute_result"
    }
   ],
   "source": [
    "s1 = '17:14:53'\n",
    "s2 = '18:56:18' # for example\n",
    "FMT = '%H:%M:%S'\n",
    "tdelta = datetime.strptime(s2, FMT) - datetime.strptime(s1, FMT)\n",
    "tdelta"
   ]
  },
  {
   "cell_type": "code",
   "execution_count": 10,
   "id": "d0c594d1",
   "metadata": {
    "execution": {
     "iopub.execute_input": "2021-12-02T05:15:40.485405Z",
     "iopub.status.busy": "2021-12-02T05:15:40.484501Z",
     "iopub.status.idle": "2021-12-02T05:15:40.490835Z",
     "shell.execute_reply": "2021-12-02T05:15:40.490285Z",
     "shell.execute_reply.started": "2021-12-02T05:07:46.764341Z"
    },
    "papermill": {
     "duration": 0.044571,
     "end_time": "2021-12-02T05:15:40.491045",
     "exception": false,
     "start_time": "2021-12-02T05:15:40.446474",
     "status": "completed"
    },
    "tags": [],
    "pycharm": {
     "name": "#%%\n"
    }
   },
   "outputs": [],
   "source": [
    "df_final = df_final.drop(['Longitude', 'Latitude', 'Distance', 'Heading'], axis=1)"
   ]
  },
  {
   "cell_type": "code",
   "execution_count": 11,
   "id": "378da28a",
   "metadata": {
    "execution": {
     "iopub.execute_input": "2021-12-02T05:15:40.554355Z",
     "iopub.status.busy": "2021-12-02T05:15:40.553732Z",
     "iopub.status.idle": "2021-12-02T05:15:40.556498Z",
     "shell.execute_reply": "2021-12-02T05:15:40.556070Z",
     "shell.execute_reply.started": "2021-12-02T05:07:46.776068Z"
    },
    "papermill": {
     "duration": 0.035608,
     "end_time": "2021-12-02T05:15:40.556600",
     "exception": false,
     "start_time": "2021-12-02T05:15:40.520992",
     "status": "completed"
    },
    "tags": [],
    "pycharm": {
     "name": "#%%\n"
    }
   },
   "outputs": [],
   "source": [
    "timestamps = df_final.index.unique()"
   ]
  },
  {
   "cell_type": "code",
   "execution_count": 12,
   "id": "ed690887",
   "metadata": {
    "execution": {
     "iopub.execute_input": "2021-12-02T05:15:40.607087Z",
     "iopub.status.busy": "2021-12-02T05:15:40.606307Z",
     "iopub.status.idle": "2021-12-02T05:15:40.610213Z",
     "shell.execute_reply": "2021-12-02T05:15:40.610751Z",
     "shell.execute_reply.started": "2021-12-02T05:07:46.786678Z"
    },
    "papermill": {
     "duration": 0.032312,
     "end_time": "2021-12-02T05:15:40.610895",
     "exception": false,
     "start_time": "2021-12-02T05:15:40.578583",
     "status": "completed"
    },
    "tags": [],
    "pycharm": {
     "name": "#%%\n"
    }
   },
   "outputs": [],
   "source": [
    "X = np.array(df_final.drop(['label'], axis=1))\n",
    "y = np.array(df_final['label'])"
   ]
  },
  {
   "cell_type": "code",
   "execution_count": 13,
   "id": "da0f86e3",
   "metadata": {
    "execution": {
     "iopub.execute_input": "2021-12-02T05:15:40.666875Z",
     "iopub.status.busy": "2021-12-02T05:15:40.665945Z",
     "iopub.status.idle": "2021-12-02T05:15:40.669394Z",
     "shell.execute_reply": "2021-12-02T05:15:40.670235Z",
     "shell.execute_reply.started": "2021-12-02T05:09:25.576395Z"
    },
    "papermill": {
     "duration": 0.037462,
     "end_time": "2021-12-02T05:15:40.670454",
     "exception": false,
     "start_time": "2021-12-02T05:15:40.632992",
     "status": "completed"
    },
    "tags": [],
    "pycharm": {
     "name": "#%%\n"
    }
   },
   "outputs": [
    {
     "data": {
      "text/plain": [
       "array([[ 1.2900000e+00,  4.6402127e-02, -1.3717842e-01, ...,\n",
       "        -3.6305760e-02, -8.2263180e-03, -2.3416500e-02],\n",
       "       [ 1.2900000e+00, -1.3697833e-01,  3.6524200e-01, ...,\n",
       "         3.5776343e-02, -9.4480500e-03,  9.5702220e-03],\n",
       "       [ 1.2900000e+00, -4.5354933e-02, -1.0334015e-01, ...,\n",
       "        -1.1871147e-02, -2.7774006e-02,  3.4615695e-03],\n",
       "       ...,\n",
       "       [ 0.0000000e+00, -4.3640620e-01, -2.1926403e-01, ...,\n",
       "        -1.6086120e-03,  2.4902940e-02,  8.7556243e-04],\n",
       "       [ 0.0000000e+00, -4.3640620e-01, -2.1926403e-01, ...,\n",
       "        -1.6086120e-03,  2.4902940e-02,  8.7556243e-04],\n",
       "       [ 0.0000000e+00, -4.3640620e-01, -2.1926403e-01, ...,\n",
       "        -1.6086120e-03,  2.4902940e-02,  8.7556243e-04]])"
      ]
     },
     "execution_count": 13,
     "metadata": {},
     "output_type": "execute_result"
    }
   ],
   "source": [
    "X"
   ]
  },
  {
   "cell_type": "code",
   "execution_count": 14,
   "id": "c3ba50f2",
   "metadata": {
    "execution": {
     "iopub.execute_input": "2021-12-02T05:15:40.770818Z",
     "iopub.status.busy": "2021-12-02T05:15:40.770020Z",
     "iopub.status.idle": "2021-12-02T05:15:41.719532Z",
     "shell.execute_reply": "2021-12-02T05:15:41.719975Z",
     "shell.execute_reply.started": "2021-12-02T05:07:46.809307Z"
    },
    "papermill": {
     "duration": 1.011237,
     "end_time": "2021-12-02T05:15:41.720122",
     "exception": false,
     "start_time": "2021-12-02T05:15:40.708885",
     "status": "completed"
    },
    "tags": [],
    "pycharm": {
     "name": "#%%\n"
    }
   },
   "outputs": [
    {
     "data": {
      "image/png": "[encoded data removed]",
      "text/plain": [
       "<Figure size 1440x720 with 6 Axes>"
      ]
     },
     "metadata": {
      "needs_background": "light"
     },
     "output_type": "display_data"
    }
   ],
   "source": [
    "def plot_series(data, df_final_col_names):\n",
    "    colors = ['r', 'g', 'b', 'c', 'magenta', 'orange', 'black']\n",
    "    \n",
    "    \n",
    "    fig, axes = plt.subplots(data.shape[1] // 2, 2, figsize=(20, 10))\n",
    "    \n",
    "    try:\n",
    "        for i in range(data.shape[1] // 2):\n",
    "            for j in range (2):\n",
    "                n = i * 2 + j\n",
    "    \n",
    "                axes[i][j].plot(np.arange(len(data[:, n])),data[:,n], color=colors[n])\n",
    "                axes[i][j].set_title(df_final_col_names[n])\n",
    "    except IndexError:\n",
    "        print('Error!')\n",
    "        \n",
    "plot_series(X, df_final.columns)        "
   ]
  },
  {
   "cell_type": "code",
   "execution_count": 15,
   "id": "6dc7cb1f",
   "metadata": {
    "execution": {
     "iopub.execute_input": "2021-12-02T05:15:41.775336Z",
     "iopub.status.busy": "2021-12-02T05:15:41.774655Z",
     "iopub.status.idle": "2021-12-02T05:15:45.494758Z",
     "shell.execute_reply": "2021-12-02T05:15:45.494257Z",
     "shell.execute_reply.started": "2021-12-02T05:07:47.812766Z"
    },
    "papermill": {
     "duration": 3.749383,
     "end_time": "2021-12-02T05:15:45.494898",
     "exception": false,
     "start_time": "2021-12-02T05:15:41.745515",
     "status": "completed"
    },
    "tags": [],
    "pycharm": {
     "name": "#%%\n"
    }
   },
   "outputs": [],
   "source": [
    "import tensorflow as tf"
   ]
  },
  {
   "cell_type": "code",
   "execution_count": 16,
   "id": "d2c8de2d",
   "metadata": {
    "execution": {
     "iopub.execute_input": "2021-12-02T05:15:45.549987Z",
     "iopub.status.busy": "2021-12-02T05:15:45.548428Z",
     "iopub.status.idle": "2021-12-02T05:15:45.550610Z",
     "shell.execute_reply": "2021-12-02T05:15:45.551058Z",
     "shell.execute_reply.started": "2021-12-02T05:07:51.915311Z"
    },
    "papermill": {
     "duration": 0.031118,
     "end_time": "2021-12-02T05:15:45.551181",
     "exception": false,
     "start_time": "2021-12-02T05:15:45.520063",
     "status": "completed"
    },
    "tags": [],
    "pycharm": {
     "name": "#%%\n"
    }
   },
   "outputs": [],
   "source": [
    "_window_size = 100\n",
    "_batch_size = 64\n",
    "_shuffle_buffer = 60800"
   ]
  },
  {
   "cell_type": "code",
   "execution_count": 17,
   "id": "4b2cf368",
   "metadata": {
    "execution": {
     "iopub.execute_input": "2021-12-02T05:15:47.864386Z",
     "iopub.status.busy": "2021-12-02T05:15:47.573319Z",
     "iopub.status.idle": "2021-12-02T05:15:47.880898Z",
     "shell.execute_reply": "2021-12-02T05:15:47.881333Z",
     "shell.execute_reply.started": "2021-12-02T05:11:19.610284Z"
    },
    "papermill": {
     "duration": 2.305777,
     "end_time": "2021-12-02T05:15:47.881476",
     "exception": false,
     "start_time": "2021-12-02T05:15:45.575699",
     "status": "completed"
    },
    "tags": [],
    "pycharm": {
     "name": "#%%\n"
    }
   },
   "outputs": [
    {
     "name": "stderr",
     "output_type": "stream",
     "text": [
      "2021-12-02 05:15:45.644961: I tensorflow/stream_executor/cuda/cuda_gpu_executor.cc:937] successful NUMA node read from SysFS had negative value (-1), but there must be at least one NUMA node, so returning NUMA node zero\n",
      "2021-12-02 05:15:45.743465: I tensorflow/stream_executor/cuda/cuda_gpu_executor.cc:937] successful NUMA node read from SysFS had negative value (-1), but there must be at least one NUMA node, so returning NUMA node zero\n",
      "2021-12-02 05:15:45.744201: I tensorflow/stream_executor/cuda/cuda_gpu_executor.cc:937] successful NUMA node read from SysFS had negative value (-1), but there must be at least one NUMA node, so returning NUMA node zero\n",
      "2021-12-02 05:15:45.746738: I tensorflow/core/platform/cpu_feature_guard.cc:142] This TensorFlow binary is optimized with oneAPI Deep Neural Network Library (oneDNN) to use the following CPU instructions in performance-critical operations:  AVX2 AVX512F FMA\n",
      "To enable them in other operations, rebuild TensorFlow with the appropriate compiler flags.\n",
      "2021-12-02 05:15:45.747494: I tensorflow/stream_executor/cuda/cuda_gpu_executor.cc:937] successful NUMA node read from SysFS had negative value (-1), but there must be at least one NUMA node, so returning NUMA node zero\n",
      "2021-12-02 05:15:45.748193: I tensorflow/stream_executor/cuda/cuda_gpu_executor.cc:937] successful NUMA node read from SysFS had negative value (-1), but there must be at least one NUMA node, so returning NUMA node zero\n",
      "2021-12-02 05:15:45.748830: I tensorflow/stream_executor/cuda/cuda_gpu_executor.cc:937] successful NUMA node read from SysFS had negative value (-1), but there must be at least one NUMA node, so returning NUMA node zero\n",
      "2021-12-02 05:15:47.562767: I tensorflow/stream_executor/cuda/cuda_gpu_executor.cc:937] successful NUMA node read from SysFS had negative value (-1), but there must be at least one NUMA node, so returning NUMA node zero\n",
      "2021-12-02 05:15:47.563558: I tensorflow/stream_executor/cuda/cuda_gpu_executor.cc:937] successful NUMA node read from SysFS had negative value (-1), but there must be at least one NUMA node, so returning NUMA node zero\n",
      "2021-12-02 05:15:47.564251: I tensorflow/stream_executor/cuda/cuda_gpu_executor.cc:937] successful NUMA node read from SysFS had negative value (-1), but there must be at least one NUMA node, so returning NUMA node zero\n",
      "2021-12-02 05:15:47.564838: I tensorflow/core/common_runtime/gpu/gpu_device.cc:1510] Created device /job:localhost/replica:0/task:0/device:GPU:0 with 15403 MB memory:  -> device: 0, name: Tesla P100-PCIE-16GB, pci bus id: 0000:00:04.0, compute capability: 6.0\n"
     ]
    },
    {
     "data": {
      "text/plain": [
       "<tf.Tensor: shape=(14249, 8), dtype=float32, numpy=\n",
       "array([[ 1.2900000e+00,  4.6402127e-02, -1.3717842e-01, ...,\n",
       "        -8.2263183e-03, -2.3416501e-02,  0.0000000e+00],\n",
       "       [ 1.2900000e+00, -1.3697833e-01,  3.6524200e-01, ...,\n",
       "        -9.4480496e-03,  9.5702223e-03,  0.0000000e+00],\n",
       "       [ 1.2900000e+00, -4.5354933e-02, -1.0334015e-01, ...,\n",
       "        -2.7774006e-02,  3.4615695e-03,  0.0000000e+00],\n",
       "       ...,\n",
       "       [ 0.0000000e+00, -4.3640620e-01, -2.1926403e-01, ...,\n",
       "         2.4902940e-02,  8.7556243e-04,  0.0000000e+00],\n",
       "       [ 0.0000000e+00, -4.3640620e-01, -2.1926403e-01, ...,\n",
       "         2.4902940e-02,  8.7556243e-04,  0.0000000e+00],\n",
       "       [ 0.0000000e+00, -4.3640620e-01, -2.1926403e-01, ...,\n",
       "         2.4902940e-02,  8.7556243e-04,  0.0000000e+00]], dtype=float32)>"
      ]
     },
     "execution_count": 17,
     "metadata": {},
     "output_type": "execute_result"
    }
   ],
   "source": [
    "ds = tf.concat([X, tf.expand_dims(tf.cast(y, 'float32'), -1)], axis=1)\n",
    "ds"
   ]
  },
  {
   "cell_type": "code",
   "execution_count": 18,
   "id": "d1ab9318",
   "metadata": {
    "execution": {
     "iopub.execute_input": "2021-12-02T05:15:47.942489Z",
     "iopub.status.busy": "2021-12-02T05:15:47.940489Z",
     "iopub.status.idle": "2021-12-02T05:15:48.067211Z",
     "shell.execute_reply": "2021-12-02T05:15:48.066693Z",
     "shell.execute_reply.started": "2021-12-02T05:11:35.980382Z"
    },
    "papermill": {
     "duration": 0.159918,
     "end_time": "2021-12-02T05:15:48.067350",
     "exception": false,
     "start_time": "2021-12-02T05:15:47.907432",
     "status": "completed"
    },
    "tags": [],
    "pycharm": {
     "name": "#%%\n"
    }
   },
   "outputs": [
    {
     "data": {
      "text/plain": [
       "(<PrefetchDataset shapes: ((None, None, 7), (None, 1)), types: (tf.float32, tf.int32)>,\n",
       " <PrefetchDataset shapes: ((None, None, 7), (None, 1)), types: (tf.float32, tf.int32)>)"
      ]
     },
     "execution_count": 18,
     "metadata": {},
     "output_type": "execute_result"
    }
   ],
   "source": [
    "def windowed_dataset(ds, batch_size, shuffle_buffer, window_size, train_split_size=0.8):\n",
    "    \n",
    "    train_split_index = int(ds.shape[0] * 0.8)\n",
    "    \n",
    "    ds = tf.data.Dataset.from_tensor_slices(ds)\n",
    "    ds = ds.window(window_size, shift=1, drop_remainder=True)\n",
    "    ds = ds.flat_map(lambda w: w.batch(window_size))\n",
    "    ds = ds.map(lambda w: (w[:, :-1], tf.cond(tf.reduce_sum(w[:, -1]) <  5, lambda : tf.constant([0]), \n",
    "                                              lambda : tf.constant([1]))))\n",
    "\n",
    "\n",
    "    ds = ds.shuffle(shuffle_buffer)\n",
    "    \n",
    "    \n",
    "    train_ds, eval_ds = ds.take(train_split_index), ds.skip(train_split_index)\n",
    "    \n",
    "    \n",
    "    train_ds, eval_ds = train_ds.batch(batch_size), eval_ds.batch(batch_size)\n",
    "    \n",
    "    return train_ds.prefetch(1), eval_ds.prefetch(1)\n",
    "    \n",
    "    \n",
    "train_ds, eval_ds = windowed_dataset(ds, _batch_size, _shuffle_buffer, _window_size)\n",
    "train_ds, eval_ds"
   ]
  },
  {
   "cell_type": "code",
   "execution_count": 19,
   "id": "17e63265",
   "metadata": {
    "execution": {
     "iopub.execute_input": "2021-12-02T05:15:48.123126Z",
     "iopub.status.busy": "2021-12-02T05:15:48.122241Z",
     "iopub.status.idle": "2021-12-02T05:15:49.052729Z",
     "shell.execute_reply": "2021-12-02T05:15:49.052173Z",
     "shell.execute_reply.started": "2021-12-02T05:11:42.363144Z"
    },
    "papermill": {
     "duration": 0.959576,
     "end_time": "2021-12-02T05:15:49.052912",
     "exception": false,
     "start_time": "2021-12-02T05:15:48.093336",
     "status": "completed"
    },
    "tags": [],
    "pycharm": {
     "name": "#%%\n"
    }
   },
   "outputs": [],
   "source": [
    "from tensorflow.keras import layers"
   ]
  },
  {
   "cell_type": "code",
   "execution_count": 20,
   "id": "519ae456",
   "metadata": {
    "execution": {
     "iopub.execute_input": "2021-12-02T05:15:49.112583Z",
     "iopub.status.busy": "2021-12-02T05:15:49.111924Z",
     "iopub.status.idle": "2021-12-02T05:15:50.175706Z",
     "shell.execute_reply": "2021-12-02T05:15:50.175185Z",
     "shell.execute_reply.started": "2021-12-02T05:11:44.495692Z"
    },
    "papermill": {
     "duration": 1.096398,
     "end_time": "2021-12-02T05:15:50.175843",
     "exception": false,
     "start_time": "2021-12-02T05:15:49.079445",
     "status": "completed"
    },
    "tags": [],
    "pycharm": {
     "name": "#%%\n"
    }
   },
   "outputs": [],
   "source": [
    "def build_model():\n",
    "    \n",
    "    inputs = layers.Input(shape=(_window_size, 7))\n",
    "    x = layers.Bidirectional(layers.LSTM(32, return_sequences=True))(inputs)\n",
    "    x = layers.Bidirectional(layers.LSTM(32, return_sequences=True))(x)\n",
    "    x = layers.LSTM(32)(x)\n",
    "    x = layers.Dropout(0.4)(x)\n",
    "    x = layers.Dense(128, activation='relu')(x)\n",
    "    x = layers.Dropout(0.3)(x)\n",
    "    x = layers.Dense(128, activation='relu')(x)\n",
    "    outputs = layers.Dense(1, activation='sigmoid')(x)\n",
    "    \n",
    "    model = tf.keras.Model(inputs=[inputs], outputs=[outputs], name='HAR')\n",
    "    \n",
    "    return model\n",
    "\n",
    "model = build_model()"
   ]
  },
  {
   "cell_type": "code",
   "execution_count": 21,
   "id": "e7cd715d",
   "metadata": {
    "execution": {
     "iopub.execute_input": "2021-12-02T05:15:50.244791Z",
     "iopub.status.busy": "2021-12-02T05:15:50.240598Z",
     "iopub.status.idle": "2021-12-02T05:15:50.266588Z",
     "shell.execute_reply": "2021-12-02T05:15:50.266178Z",
     "shell.execute_reply.started": "2021-12-02T05:11:45.922149Z"
    },
    "papermill": {
     "duration": 0.065129,
     "end_time": "2021-12-02T05:15:50.266727",
     "exception": false,
     "start_time": "2021-12-02T05:15:50.201598",
     "status": "completed"
    },
    "tags": [],
    "pycharm": {
     "name": "#%%\n"
    }
   },
   "outputs": [],
   "source": [
    "METRICS = [\n",
    "      tf.keras.metrics.TruePositives(name='tp'),\n",
    "      tf.keras.metrics.FalsePositives(name='fp'),\n",
    "      tf.keras.metrics.TrueNegatives(name='tn'),\n",
    "      tf.keras.metrics.FalseNegatives(name='fn'), \n",
    "      tf.keras.metrics.BinaryAccuracy(name='accuracy'),\n",
    "      tf.keras.metrics.Precision(name='precision'),\n",
    "      tf.keras.metrics.Recall(name='recall'),\n",
    "      tf.keras.metrics.AUC(name='auc'),\n",
    "      tf.keras.metrics.AUC(name='prc', curve='PR'), # precision-recall curve\n",
    "]"
   ]
  },
  {
   "cell_type": "code",
   "execution_count": 22,
   "id": "6a6a5d33",
   "metadata": {
    "execution": {
     "iopub.execute_input": "2021-12-02T05:15:50.326427Z",
     "iopub.status.busy": "2021-12-02T05:15:50.325645Z",
     "iopub.status.idle": "2021-12-02T05:15:50.331846Z",
     "shell.execute_reply": "2021-12-02T05:15:50.331365Z",
     "shell.execute_reply.started": "2021-12-02T05:11:45.953913Z"
    },
    "papermill": {
     "duration": 0.039702,
     "end_time": "2021-12-02T05:15:50.331953",
     "exception": false,
     "start_time": "2021-12-02T05:15:50.292251",
     "status": "completed"
    },
    "tags": [],
    "pycharm": {
     "name": "#%%\n"
    }
   },
   "outputs": [],
   "source": [
    "model.compile(optimizer=tf.keras.optimizers.Adam(),\n",
    "             loss=tf.keras.losses.BinaryCrossentropy(),\n",
    "             metrics=METRICS)"
   ]
  },
  {
   "cell_type": "code",
   "execution_count": 23,
   "id": "54339fbb",
   "metadata": {
    "execution": {
     "iopub.execute_input": "2021-12-02T05:15:50.386776Z",
     "iopub.status.busy": "2021-12-02T05:15:50.386260Z",
     "iopub.status.idle": "2021-12-02T05:15:50.389584Z",
     "shell.execute_reply": "2021-12-02T05:15:50.389184Z",
     "shell.execute_reply.started": "2021-12-02T05:11:46.092011Z"
    },
    "papermill": {
     "duration": 0.032405,
     "end_time": "2021-12-02T05:15:50.389710",
     "exception": false,
     "start_time": "2021-12-02T05:15:50.357305",
     "status": "completed"
    },
    "tags": [],
    "pycharm": {
     "name": "#%%\n"
    }
   },
   "outputs": [],
   "source": [
    "early_stopping = tf.keras.callbacks.EarlyStopping(\n",
    "    monitor='loss', \n",
    "    verbose=1,\n",
    "    patience=4,\n",
    "    mode='min',\n",
    "    restore_best_weights=True)"
   ]
  },
  {
   "cell_type": "code",
   "execution_count": 24,
   "id": "5bf6c5f7",
   "metadata": {
    "execution": {
     "iopub.execute_input": "2021-12-02T05:15:50.444393Z",
     "iopub.status.busy": "2021-12-02T05:15:50.443848Z",
     "iopub.status.idle": "2021-12-02T05:19:39.900577Z",
     "shell.execute_reply": "2021-12-02T05:19:39.900085Z",
     "shell.execute_reply.started": "2021-12-02T05:11:46.443879Z"
    },
    "papermill": {
     "duration": 229.485826,
     "end_time": "2021-12-02T05:19:39.900739",
     "exception": false,
     "start_time": "2021-12-02T05:15:50.414913",
     "status": "completed"
    },
    "tags": [],
    "pycharm": {
     "name": "#%%\n"
    }
   },
   "outputs": [
    {
     "name": "stdout",
     "output_type": "stream",
     "text": [
      "Epoch 1/100\n"
     ]
    },
    {
     "name": "stderr",
     "output_type": "stream",
     "text": [
      "2021-12-02 05:15:56.390272: I tensorflow/compiler/mlir/mlir_graph_optimization_pass.cc:185] None of the MLIR Optimization Passes are enabled (registered 2)\n",
      "2021-12-02 05:16:00.556574: I tensorflow/stream_executor/cuda/cuda_dnn.cc:369] Loaded cuDNN version 8005\n"
     ]
    },
    {
     "name": "stdout",
     "output_type": "stream",
     "text": [
      "179/179 [==============================] - 16s 26ms/step - loss: 0.6220 - tp: 5699.0000 - fp: 2502.0000 - tn: 1991.0000 - fn: 1207.0000 - accuracy: 0.6746 - precision: 0.6949 - recall: 0.8252 - auc: 0.6751 - prc: 0.7241\n",
      "Epoch 2/100\n",
      "179/179 [==============================] - 7s 25ms/step - loss: 0.5122 - tp: 6578.0000 - fp: 2333.0000 - tn: 2115.0000 - fn: 373.0000 - accuracy: 0.7626 - precision: 0.7382 - recall: 0.9463 - auc: 0.7898 - prc: 0.8331\n",
      "Epoch 3/100\n",
      "179/179 [==============================] - 8s 25ms/step - loss: 0.4300 - tp: 6510.0000 - fp: 1777.0000 - tn: 2683.0000 - fn: 429.0000 - accuracy: 0.8065 - precision: 0.7856 - recall: 0.9382 - auc: 0.8634 - prc: 0.8967\n",
      "Epoch 4/100\n",
      "179/179 [==============================] - 7s 25ms/step - loss: 0.3802 - tp: 6420.0000 - fp: 1507.0000 - tn: 2997.0000 - fn: 475.0000 - accuracy: 0.8261 - precision: 0.8099 - recall: 0.9311 - auc: 0.8995 - prc: 0.9278\n",
      "Epoch 5/100\n",
      "179/179 [==============================] - 7s 25ms/step - loss: 0.3180 - tp: 6499.0000 - fp: 1209.0000 - tn: 3269.0000 - fn: 422.0000 - accuracy: 0.8569 - precision: 0.8431 - recall: 0.9390 - auc: 0.9310 - prc: 0.9503\n",
      "Epoch 6/100\n",
      "179/179 [==============================] - 8s 25ms/step - loss: 0.2635 - tp: 6468.0000 - fp: 872.0000 - tn: 3623.0000 - fn: 436.0000 - accuracy: 0.8853 - precision: 0.8812 - recall: 0.9368 - auc: 0.9538 - prc: 0.9676\n",
      "Epoch 7/100\n",
      "179/179 [==============================] - 7s 27ms/step - loss: 0.2156 - tp: 6576.0000 - fp: 605.0000 - tn: 3816.0000 - fn: 402.0000 - accuracy: 0.9117 - precision: 0.9157 - recall: 0.9424 - auc: 0.9700 - prc: 0.9799\n",
      "Epoch 8/100\n",
      "179/179 [==============================] - 8s 28ms/step - loss: 0.1631 - tp: 6694.0000 - fp: 476.0000 - tn: 3999.0000 - fn: 230.0000 - accuracy: 0.9381 - precision: 0.9336 - recall: 0.9668 - auc: 0.9812 - prc: 0.9868\n",
      "Epoch 9/100\n",
      "179/179 [==============================] - 8s 29ms/step - loss: 0.1344 - tp: 6685.0000 - fp: 335.0000 - tn: 4159.0000 - fn: 220.0000 - accuracy: 0.9513 - precision: 0.9523 - recall: 0.9681 - auc: 0.9875 - prc: 0.9913\n",
      "Epoch 10/100\n",
      "179/179 [==============================] - 7s 25ms/step - loss: 0.1174 - tp: 6699.0000 - fp: 307.0000 - tn: 4206.0000 - fn: 187.0000 - accuracy: 0.9567 - precision: 0.9562 - recall: 0.9728 - auc: 0.9905 - prc: 0.9934\n",
      "Epoch 11/100\n",
      "179/179 [==============================] - 7s 25ms/step - loss: 0.1399 - tp: 6777.0000 - fp: 385.0000 - tn: 4064.0000 - fn: 173.0000 - accuracy: 0.9510 - precision: 0.9462 - recall: 0.9751 - auc: 0.9856 - prc: 0.9884\n",
      "Epoch 12/100\n",
      "179/179 [==============================] - 7s 25ms/step - loss: 0.0973 - tp: 6798.0000 - fp: 276.0000 - tn: 4159.0000 - fn: 166.0000 - accuracy: 0.9612 - precision: 0.9610 - recall: 0.9762 - auc: 0.9934 - prc: 0.9955\n",
      "Epoch 13/100\n",
      "179/179 [==============================] - 8s 28ms/step - loss: 0.0975 - tp: 6794.0000 - fp: 260.0000 - tn: 4200.0000 - fn: 145.0000 - accuracy: 0.9645 - precision: 0.9631 - recall: 0.9791 - auc: 0.9928 - prc: 0.9950\n",
      "Epoch 14/100\n",
      "179/179 [==============================] - 7s 26ms/step - loss: 0.1360 - tp: 6787.0000 - fp: 397.0000 - tn: 4057.0000 - fn: 158.0000 - accuracy: 0.9513 - precision: 0.9447 - recall: 0.9772 - auc: 0.9866 - prc: 0.9908\n",
      "Epoch 15/100\n",
      "179/179 [==============================] - 7s 24ms/step - loss: 0.0737 - tp: 6817.0000 - fp: 193.0000 - tn: 4269.0000 - fn: 120.0000 - accuracy: 0.9725 - precision: 0.9725 - recall: 0.9827 - auc: 0.9960 - prc: 0.9973\n",
      "Epoch 16/100\n",
      "179/179 [==============================] - 8s 26ms/step - loss: 0.0777 - tp: 6738.0000 - fp: 197.0000 - tn: 4332.0000 - fn: 132.0000 - accuracy: 0.9711 - precision: 0.9716 - recall: 0.9808 - auc: 0.9953 - prc: 0.9967\n",
      "Epoch 17/100\n",
      "179/179 [==============================] - 8s 27ms/step - loss: 0.1004 - tp: 6743.0000 - fp: 210.0000 - tn: 4255.0000 - fn: 191.0000 - accuracy: 0.9648 - precision: 0.9698 - recall: 0.9725 - auc: 0.9927 - prc: 0.9950\n",
      "Epoch 18/100\n",
      "179/179 [==============================] - 7s 26ms/step - loss: 0.0855 - tp: 6823.0000 - fp: 236.0000 - tn: 4221.0000 - fn: 119.0000 - accuracy: 0.9689 - precision: 0.9666 - recall: 0.9829 - auc: 0.9943 - prc: 0.9961\n",
      "Epoch 19/100\n",
      "179/179 [==============================] - 7s 26ms/step - loss: 0.0658 - tp: 6842.0000 - fp: 170.0000 - tn: 4309.0000 - fn: 78.0000 - accuracy: 0.9782 - precision: 0.9758 - recall: 0.9887 - auc: 0.9961 - prc: 0.9973\n",
      "Epoch 20/100\n",
      "179/179 [==============================] - 8s 30ms/step - loss: 0.0550 - tp: 6881.0000 - fp: 178.0000 - tn: 4289.0000 - fn: 51.0000 - accuracy: 0.9799 - precision: 0.9748 - recall: 0.9926 - auc: 0.9976 - prc: 0.9985\n",
      "Epoch 21/100\n",
      "179/179 [==============================] - 7s 25ms/step - loss: 0.0573 - tp: 6922.0000 - fp: 170.0000 - tn: 4259.0000 - fn: 48.0000 - accuracy: 0.9809 - precision: 0.9760 - recall: 0.9931 - auc: 0.9970 - prc: 0.9979\n",
      "Epoch 22/100\n",
      "179/179 [==============================] - 7s 26ms/step - loss: 0.1488 - tp: 6792.0000 - fp: 595.0000 - tn: 3846.0000 - fn: 166.0000 - accuracy: 0.9332 - precision: 0.9195 - recall: 0.9761 - auc: 0.9852 - prc: 0.9895\n",
      "Epoch 23/100\n",
      "179/179 [==============================] - 7s 27ms/step - loss: 0.1907 - tp: 6356.0000 - fp: 417.0000 - tn: 4063.0000 - fn: 563.0000 - accuracy: 0.9140 - precision: 0.9384 - recall: 0.9186 - auc: 0.9761 - prc: 0.9845\n",
      "Epoch 24/100\n",
      "179/179 [==============================] - 8s 25ms/step - loss: 0.1256 - tp: 6694.0000 - fp: 317.0000 - tn: 4154.0000 - fn: 234.0000 - accuracy: 0.9517 - precision: 0.9548 - recall: 0.9662 - auc: 0.9895 - prc: 0.9930\n",
      "Restoring model weights from the end of the best epoch.\n",
      "Epoch 00024: early stopping\n"
     ]
    }
   ],
   "source": [
    "history = model.fit(train_ds, epochs=100, callbacks=[early_stopping])"
   ]
  },
  {
   "cell_type": "code",
   "execution_count": 25,
   "id": "ffee20db",
   "metadata": {
    "execution": {
     "iopub.execute_input": "2021-12-02T05:19:40.921424Z",
     "iopub.status.busy": "2021-12-02T05:19:40.919591Z",
     "iopub.status.idle": "2021-12-02T05:20:05.515755Z",
     "shell.execute_reply": "2021-12-02T05:20:05.516897Z",
     "shell.execute_reply.started": "2021-12-02T05:14:33.662937Z"
    },
    "papermill": {
     "duration": 25.106078,
     "end_time": "2021-12-02T05:20:05.517104",
     "exception": false,
     "start_time": "2021-12-02T05:19:40.411026",
     "status": "completed"
    },
    "tags": [],
    "pycharm": {
     "name": "#%%\n"
    }
   },
   "outputs": [
    {
     "name": "stderr",
     "output_type": "stream",
     "text": [
      "2021-12-02 05:19:50.901876: W tensorflow/python/util/util.cc:348] Sets are not currently considered sequences, but this may change in the future, so consider avoiding using them.\n"
     ]
    }
   ],
   "source": [
    "model.save('HAR')"
   ]
  },
  {
   "cell_type": "code",
   "execution_count": 26,
   "id": "58eab66f",
   "metadata": {
    "execution": {
     "iopub.execute_input": "2021-12-02T05:20:06.837194Z",
     "iopub.status.busy": "2021-12-02T05:20:06.836509Z",
     "iopub.status.idle": "2021-12-02T05:20:14.133342Z",
     "shell.execute_reply": "2021-12-02T05:20:14.132840Z",
     "shell.execute_reply.started": "2021-12-02T05:15:03.669866Z"
    },
    "papermill": {
     "duration": 8.063518,
     "end_time": "2021-12-02T05:20:14.133479",
     "exception": false,
     "start_time": "2021-12-02T05:20:06.069961",
     "status": "completed"
    },
    "tags": [],
    "pycharm": {
     "name": "#%%\n"
    }
   },
   "outputs": [
    {
     "name": "stdout",
     "output_type": "stream",
     "text": [
      "43/43 [==============================] - 6s 15ms/step - loss: 0.0277 - tp: 1662.0000 - fp: 15.0000 - tn: 1069.0000 - fn: 5.0000 - accuracy: 0.9927 - precision: 0.9911 - recall: 0.9970 - auc: 0.9986 - prc: 0.9984\n"
     ]
    },
    {
     "data": {
      "text/plain": [
       "[0.027697334066033363,\n",
       " 1662.0,\n",
       " 15.0,\n",
       " 1069.0,\n",
       " 5.0,\n",
       " 0.992729902267456,\n",
       " 0.991055428981781,\n",
       " 0.9970005750656128,\n",
       " 0.9986023902893066,\n",
       " 0.9984462261199951]"
      ]
     },
     "execution_count": 26,
     "metadata": {},
     "output_type": "execute_result"
    }
   ],
   "source": [
    "model.evaluate(eval_ds)"
   ]
  },
  {
   "cell_type": "code",
   "execution_count": 27,
   "id": "94a0ffc8",
   "metadata": {
    "execution": {
     "iopub.execute_input": "2021-12-02T05:20:15.137752Z",
     "iopub.status.busy": "2021-12-02T05:20:15.136919Z",
     "iopub.status.idle": "2021-12-02T05:20:15.145991Z",
     "shell.execute_reply": "2021-12-02T05:20:15.145541Z",
     "shell.execute_reply.started": "2021-12-02T05:15:10.699453Z"
    },
    "papermill": {
     "duration": 0.514639,
     "end_time": "2021-12-02T05:20:15.146120",
     "exception": false,
     "start_time": "2021-12-02T05:20:14.631481",
     "status": "completed"
    },
    "tags": [],
    "pycharm": {
     "name": "#%%\n"
    }
   },
   "outputs": [
    {
     "name": "stdout",
     "output_type": "stream",
     "text": [
      "Model: \"HAR\"\n",
      "_________________________________________________________________\n",
      "Layer (type)                 Output Shape              Param #   \n",
      "=================================================================\n",
      "input_1 (InputLayer)         [(None, 100, 7)]          0         \n",
      "_________________________________________________________________\n",
      "bidirectional (Bidirectional (None, 100, 64)           10240     \n",
      "_________________________________________________________________\n",
      "bidirectional_1 (Bidirection (None, 100, 64)           24832     \n",
      "_________________________________________________________________\n",
      "lstm_2 (LSTM)                (None, 32)                12416     \n",
      "_________________________________________________________________\n",
      "dropout (Dropout)            (None, 32)                0         \n",
      "_________________________________________________________________\n",
      "dense (Dense)                (None, 128)               4224      \n",
      "_________________________________________________________________\n",
      "dropout_1 (Dropout)          (None, 128)               0         \n",
      "_________________________________________________________________\n",
      "dense_1 (Dense)              (None, 128)               16512     \n",
      "_________________________________________________________________\n",
      "dense_2 (Dense)              (None, 1)                 129       \n",
      "=================================================================\n",
      "Total params: 68,353\n",
      "Trainable params: 68,353\n",
      "Non-trainable params: 0\n",
      "_________________________________________________________________\n"
     ]
    }
   ],
   "source": [
    "model.summary()"
   ]
  },
  {
   "cell_type": "code",
   "execution_count": null,
   "id": "4d758c2d",
   "metadata": {
    "papermill": {
     "duration": 0.501731,
     "end_time": "2021-12-02T05:20:16.146508",
     "exception": false,
     "start_time": "2021-12-02T05:20:15.644777",
     "status": "completed"
    },
    "tags": [],
    "pycharm": {
     "name": "#%%\n"
    }
   },
   "outputs": [],
   "source": []
  }
 ],
 "metadata": {
  "kernelspec": {
   "display_name": "Python 3",
   "language": "python",
   "name": "python3"
  },
  "language_info": {
   "codemirror_mode": {
    "name": "ipython",
    "version": 3
   },
   "file_extension": ".py",
   "mimetype": "text/x-python",
   "name": "python",
   "nbconvert_exporter": "python",
   "pygments_lexer": "ipython3",
   "version": "3.7.10"
  },
  "papermill": {
   "default_parameters": {},
   "duration": 287.023328,
   "end_time": "2021-12-02T05:20:19.367591",
   "environment_variables": {},
   "exception": null,
   "input_path": "__notebook__.ipynb",
   "output_path": "__notebook__.ipynb",
   "parameters": {},
   "start_time": "2021-12-02T05:15:32.344263",
   "version": "2.3.3"
  }
 },
 "nbformat": 4,
 "nbformat_minor": 5
}